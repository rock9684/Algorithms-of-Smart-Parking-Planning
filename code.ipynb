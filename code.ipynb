{
  "nbformat": 4,
  "nbformat_minor": 0,
  "metadata": {
    "colab": {
      "name": " ECE1724 - drive share.ipynb",
      "provenance": [],
      "collapsed_sections": []
    },
    "kernelspec": {
      "display_name": "Python 3",
      "name": "python3"
    }
  },
  "cells": [
    {
      "cell_type": "markdown",
      "metadata": {
        "id": "oOGTOyhr9jlH"
      },
      "source": [
        "# Algorithm of Smart Parking Planning\n",
        "**Team 8: Shi Hu, Jixiong Deng, Liyu Chen**"
      ]
    },
    {
      "cell_type": "code",
      "metadata": {
        "id": "Ku05avK4d4ok"
      },
      "source": [
        "# Install osmnx\n",
        "!apt install gdal-bin python-gdal python3-gdal --quiet\n",
        "!apt install python3-rtree --quiet\n",
        "!pip install git+git://github.com/geopandas/geopandas.git --quiet\n",
        "!pip install descartes --quiet\n",
        "!pip install osmnx==0.16.2 --quiet\n",
        "!pip install folium --quiet\n",
        "!pip install scipy\n",
        "!pip install pyswarms\n",
        "!pip install geneticalgorithm\n",
        "#!pip uninstall matplotlib\n",
        "!pip install -U matplotlib\n",
        "!pip install tabulate\n",
        "\n",
        "!pip install -U -q PyDrive"
      ],
      "execution_count": null,
      "outputs": []
    },
    {
      "cell_type": "code",
      "metadata": {
        "colab": {
          "base_uri": "https://localhost:8080/"
        },
        "id": "va40QreQzLMk",
        "outputId": "7dc17937-f21d-464a-a110-d4f930cf084e"
      },
      "source": [
        "pip freeze"
      ],
      "execution_count": null,
      "outputs": [
        {
          "output_type": "stream",
          "text": [
            "absl-py==0.10.0\n",
            "alabaster==0.7.12\n",
            "albumentations==0.1.12\n",
            "altair==4.1.0\n",
            "argon2-cffi==20.1.0\n",
            "asgiref==3.3.1\n",
            "astor==0.8.1\n",
            "astropy==4.1\n",
            "astunparse==1.6.3\n",
            "async-generator==1.10\n",
            "atari-py==0.2.6\n",
            "atomicwrites==1.4.0\n",
            "attrs==20.3.0\n",
            "audioread==2.1.9\n",
            "autograd==1.3\n",
            "Babel==2.9.0\n",
            "backcall==0.2.0\n",
            "beautifulsoup4==4.6.3\n",
            "bleach==3.2.1\n",
            "blis==0.4.1\n",
            "bokeh==2.1.1\n",
            "Bottleneck==1.3.2\n",
            "branca==0.4.1\n",
            "bs4==0.0.1\n",
            "CacheControl==0.12.6\n",
            "cachetools==4.1.1\n",
            "catalogue==1.0.0\n",
            "certifi==2020.12.5\n",
            "cffi==1.14.4\n",
            "chainer==7.4.0\n",
            "chardet==3.0.4\n",
            "click==7.1.2\n",
            "click-plugins==1.1.1\n",
            "cligj==0.7.1\n",
            "cloudpickle==1.3.0\n",
            "cmake==3.12.0\n",
            "cmdstanpy==0.9.5\n",
            "colorlover==0.3.0\n",
            "community==1.0.0b1\n",
            "contextlib2==0.5.5\n",
            "convertdate==2.2.0\n",
            "coverage==3.7.1\n",
            "coveralls==0.5\n",
            "crcmod==1.7\n",
            "cufflinks==0.17.3\n",
            "cvxopt==1.2.5\n",
            "cvxpy==1.0.31\n",
            "cycler==0.10.0\n",
            "cymem==2.0.5\n",
            "Cython==0.29.21\n",
            "daft==0.0.4\n",
            "dask==2.12.0\n",
            "dataclasses==0.8\n",
            "datascience==0.10.6\n",
            "debugpy==1.0.0\n",
            "decorator==4.4.2\n",
            "defusedxml==0.6.0\n",
            "descartes==1.1.0\n",
            "dill==0.3.3\n",
            "distributed==1.25.3\n",
            "Django==3.1.4\n",
            "dlib==19.18.0\n",
            "dm-tree==0.1.5\n",
            "docopt==0.6.2\n",
            "docutils==0.16\n",
            "dopamine-rl==1.0.5\n",
            "earthengine-api==0.1.238\n",
            "easydict==1.9\n",
            "ecos==2.0.7.post1\n",
            "editdistance==0.5.3\n",
            "en-core-web-sm==2.2.5\n",
            "entrypoints==0.3\n",
            "ephem==3.7.7.1\n",
            "et-xmlfile==1.0.1\n",
            "fa2==0.3.5\n",
            "fancyimpute==0.4.3\n",
            "fastai==1.0.61\n",
            "fastdtw==0.3.4\n",
            "fastprogress==1.0.0\n",
            "fastrlock==0.5\n",
            "fbprophet==0.7.1\n",
            "feather-format==0.4.1\n",
            "filelock==3.0.12\n",
            "Fiona==1.8.18\n",
            "firebase-admin==4.4.0\n",
            "fix-yahoo-finance==0.0.22\n",
            "Flask==1.1.2\n",
            "flatbuffers==1.12\n",
            "folium==0.8.3\n",
            "func-timeout==4.3.5\n",
            "future==0.16.0\n",
            "gast==0.3.3\n",
            "GDAL==2.2.2\n",
            "gdown==3.6.4\n",
            "geneticalgorithm==1.0.1\n",
            "gensim==3.6.0\n",
            "geographiclib==1.50\n",
            "geopandas==0.8.0+72.ge506de5\n",
            "geopy==1.17.0\n",
            "gin-config==0.4.0\n",
            "glob2==0.7\n",
            "google==2.0.3\n",
            "google-api-core==1.16.0\n",
            "google-api-python-client==1.7.12\n",
            "google-auth==1.17.2\n",
            "google-auth-httplib2==0.0.4\n",
            "google-auth-oauthlib==0.4.2\n",
            "google-cloud-bigquery==1.21.0\n",
            "google-cloud-bigquery-storage==1.1.0\n",
            "google-cloud-core==1.0.3\n",
            "google-cloud-datastore==1.8.0\n",
            "google-cloud-firestore==1.7.0\n",
            "google-cloud-language==1.2.0\n",
            "google-cloud-storage==1.18.1\n",
            "google-cloud-translate==1.5.0\n",
            "google-colab==1.0.0\n",
            "google-pasta==0.2.0\n",
            "google-resumable-media==0.4.1\n",
            "googleapis-common-protos==1.52.0\n",
            "googledrivedownloader==0.4\n",
            "graphviz==0.10.1\n",
            "grpcio==1.34.0\n",
            "gspread==3.0.1\n",
            "gspread-dataframe==3.0.8\n",
            "gym==0.17.3\n",
            "h5py==2.10.0\n",
            "HeapDict==1.0.1\n",
            "holidays==0.10.4\n",
            "holoviews==1.13.5\n",
            "html5lib==1.0.1\n",
            "httpimport==0.5.18\n",
            "httplib2==0.17.4\n",
            "httplib2shim==0.0.3\n",
            "humanize==0.5.1\n",
            "hyperopt==0.1.2\n",
            "ideep4py==2.0.0.post3\n",
            "idna==2.10\n",
            "image==1.5.33\n",
            "imageio==2.4.1\n",
            "imagesize==1.2.0\n",
            "imbalanced-learn==0.4.3\n",
            "imblearn==0.0\n",
            "imgaug==0.2.9\n",
            "importlib-metadata==3.1.1\n",
            "importlib-resources==3.3.0\n",
            "imutils==0.5.3\n",
            "inflect==2.1.0\n",
            "iniconfig==1.1.1\n",
            "intel-openmp==2021.1.1\n",
            "intervaltree==2.1.0\n",
            "ipykernel==4.10.1\n",
            "ipython==5.5.0\n",
            "ipython-genutils==0.2.0\n",
            "ipython-sql==0.3.9\n",
            "ipywidgets==7.5.1\n",
            "itsdangerous==1.1.0\n",
            "jax==0.2.7\n",
            "jaxlib==0.1.57+cuda101\n",
            "jdcal==1.4.1\n",
            "jedi==0.17.2\n",
            "jieba==0.42.1\n",
            "Jinja2==2.11.2\n",
            "joblib==0.17.0\n",
            "jpeg4py==0.1.4\n",
            "jsonschema==2.6.0\n",
            "jupyter==1.0.0\n",
            "jupyter-client==5.3.5\n",
            "jupyter-console==5.2.0\n",
            "jupyter-core==4.7.0\n",
            "jupyterlab-pygments==0.1.2\n",
            "kaggle==1.5.10\n",
            "kapre==0.1.3.1\n",
            "Keras==2.4.3\n",
            "Keras-Preprocessing==1.1.2\n",
            "keras-vis==0.4.1\n",
            "kiwisolver==1.3.1\n",
            "knnimpute==0.1.0\n",
            "korean-lunar-calendar==0.2.1\n",
            "librosa==0.6.3\n",
            "lightgbm==2.2.3\n",
            "llvmlite==0.31.0\n",
            "lmdb==0.99\n",
            "lucid==0.3.8\n",
            "LunarCalendar==0.0.9\n",
            "lxml==4.2.6\n",
            "Markdown==3.3.3\n",
            "MarkupSafe==1.1.1\n",
            "matplotlib==3.3.3\n",
            "matplotlib-venn==0.11.6\n",
            "missingno==0.4.2\n",
            "mistune==0.8.4\n",
            "mizani==0.6.0\n",
            "mkl==2019.0\n",
            "mlxtend==0.14.0\n",
            "more-itertools==8.6.0\n",
            "moviepy==0.2.3.5\n",
            "mpmath==1.1.0\n",
            "msgpack==1.0.0\n",
            "multiprocess==0.70.11.1\n",
            "multitasking==0.0.9\n",
            "munch==2.5.0\n",
            "murmurhash==1.0.5\n",
            "music21==5.5.0\n",
            "natsort==5.5.0\n",
            "nbclient==0.5.1\n",
            "nbconvert==5.6.1\n",
            "nbformat==5.0.8\n",
            "nest-asyncio==1.4.3\n",
            "networkx==2.5\n",
            "nibabel==3.0.2\n",
            "nltk==3.2.5\n",
            "notebook==5.3.1\n",
            "np-utils==0.5.12.1\n",
            "numba==0.48.0\n",
            "numexpr==2.7.1\n",
            "numpy==1.19.4\n",
            "nvidia-ml-py3==7.352.0\n",
            "oauth2client==4.1.3\n",
            "oauthlib==3.1.0\n",
            "okgrade==0.4.3\n",
            "opencv-contrib-python==4.1.2.30\n",
            "opencv-python==4.1.2.30\n",
            "openpyxl==2.5.9\n",
            "opt-einsum==3.3.0\n",
            "osmnx==0.16.2\n",
            "osqp==0.6.1\n",
            "packaging==20.7\n",
            "palettable==3.3.0\n",
            "pandas==1.1.5\n",
            "pandas-datareader==0.9.0\n",
            "pandas-gbq==0.13.3\n",
            "pandas-profiling==1.4.1\n",
            "pandocfilters==1.4.3\n",
            "panel==0.9.7\n",
            "param==1.10.0\n",
            "parso==0.7.1\n",
            "pathlib==1.0.1\n",
            "patsy==0.5.1\n",
            "pexpect==4.8.0\n",
            "pickleshare==0.7.5\n",
            "Pillow==7.0.0\n",
            "pip-tools==4.5.1\n",
            "plac==1.1.3\n",
            "plotly==4.4.1\n",
            "plotnine==0.6.0\n",
            "pluggy==0.7.1\n",
            "portpicker==1.3.1\n",
            "prefetch-generator==1.0.1\n",
            "preshed==3.0.5\n",
            "prettytable==2.0.0\n",
            "progressbar2==3.38.0\n",
            "prometheus-client==0.9.0\n",
            "promise==2.3\n",
            "prompt-toolkit==1.0.18\n",
            "protobuf==3.12.4\n",
            "psutil==5.4.8\n",
            "psycopg2==2.7.6.1\n",
            "ptyprocess==0.6.0\n",
            "py==1.9.0\n",
            "pyarrow==0.14.1\n",
            "pyasn1==0.4.8\n",
            "pyasn1-modules==0.2.8\n",
            "pycocotools==2.0.2\n",
            "pycparser==2.20\n",
            "pyct==0.4.8\n",
            "pydata-google-auth==1.1.0\n",
            "pydot==1.3.0\n",
            "pydot-ng==2.0.0\n",
            "pydotplus==2.0.2\n",
            "PyDrive==1.3.1\n",
            "pyemd==0.5.1\n",
            "pyglet==1.5.0\n",
            "Pygments==2.6.1\n",
            "pygobject==3.26.1\n",
            "pymc3==3.7\n",
            "PyMeeus==0.3.7\n",
            "pymongo==3.11.2\n",
            "pymystem3==0.2.0\n",
            "PyOpenGL==3.1.5\n",
            "pyparsing==2.4.7\n",
            "pyproj==3.0.0.post1\n",
            "pyrsistent==0.17.3\n",
            "pysndfile==1.3.8\n",
            "PySocks==1.7.1\n",
            "pystan==2.19.1.1\n",
            "pyswarms==1.2.0\n",
            "pytest==3.6.4\n",
            "python-apt==1.6.5+ubuntu0.3\n",
            "python-chess==0.23.11\n",
            "python-dateutil==2.8.1\n",
            "python-louvain==0.14\n",
            "python-slugify==4.0.1\n",
            "python-utils==2.4.0\n",
            "pytz==2018.9\n",
            "pyviz-comms==0.7.6\n",
            "PyWavelets==1.1.1\n",
            "PyYAML==3.13\n",
            "pyzmq==20.0.0\n",
            "qtconsole==5.0.1\n",
            "QtPy==1.9.0\n",
            "regex==2019.12.20\n",
            "requests==2.25.1\n",
            "requests-oauthlib==1.3.0\n",
            "resampy==0.2.2\n",
            "retrying==1.3.3\n",
            "rpy2==3.2.7\n",
            "rsa==4.6\n",
            "Rtree==0.9.4\n",
            "scikit-image==0.16.2\n",
            "scikit-learn==0.22.2.post1\n",
            "scipy==1.4.1\n",
            "screen-resolution-extra==0.0.0\n",
            "scs==2.1.2\n",
            "seaborn==0.11.0\n",
            "Send2Trash==1.5.0\n",
            "setuptools-git==1.2\n",
            "Shapely==1.7.1\n",
            "simplegeneric==0.8.1\n",
            "six==1.15.0\n",
            "sklearn==0.0\n",
            "sklearn-pandas==1.8.0\n",
            "smart-open==4.0.1\n",
            "snowballstemmer==2.0.0\n",
            "sortedcontainers==2.3.0\n",
            "spacy==2.2.4\n",
            "Sphinx==1.8.5\n",
            "sphinxcontrib-serializinghtml==1.1.4\n",
            "sphinxcontrib-websupport==1.2.4\n",
            "SQLAlchemy==1.3.20\n",
            "sqlparse==0.4.1\n",
            "srsly==1.0.5\n",
            "statsmodels==0.10.2\n",
            "sympy==1.1.1\n",
            "tables==3.4.4\n",
            "tabulate==0.8.7\n",
            "tblib==1.7.0\n",
            "tensorboard==2.3.0\n",
            "tensorboard-plugin-wit==1.7.0\n",
            "tensorboardcolab==0.0.22\n",
            "tensorflow==2.3.0\n",
            "tensorflow-addons==0.8.3\n",
            "tensorflow-datasets==4.0.1\n",
            "tensorflow-estimator==2.3.0\n",
            "tensorflow-gcs-config==2.3.0\n",
            "tensorflow-hub==0.10.0\n",
            "tensorflow-metadata==0.25.0\n",
            "tensorflow-privacy==0.2.2\n",
            "tensorflow-probability==0.11.0\n",
            "termcolor==1.1.0\n",
            "terminado==0.9.1\n",
            "testpath==0.4.4\n",
            "text-unidecode==1.3\n",
            "textblob==0.15.3\n",
            "textgenrnn==1.4.1\n",
            "Theano==1.0.5\n",
            "thinc==7.4.0\n",
            "tifffile==2020.9.3\n",
            "toml==0.10.2\n",
            "toolz==0.11.1\n",
            "torch==1.7.0+cu101\n",
            "torchsummary==1.5.1\n",
            "torchtext==0.3.1\n",
            "torchvision==0.8.1+cu101\n",
            "tornado==5.1.1\n",
            "tqdm==4.41.1\n",
            "traitlets==4.3.3\n",
            "tweepy==3.6.0\n",
            "typeguard==2.7.1\n",
            "typing-extensions==3.7.4.3\n",
            "tzlocal==1.5.1\n",
            "umap-learn==0.4.6\n",
            "uritemplate==3.0.1\n",
            "urllib3==1.24.3\n",
            "vega-datasets==0.9.0\n",
            "wasabi==0.8.0\n",
            "wcwidth==0.2.5\n",
            "webencodings==0.5.1\n",
            "Werkzeug==1.0.1\n",
            "widgetsnbextension==3.5.1\n",
            "wordcloud==1.5.0\n",
            "wrapt==1.12.1\n",
            "xarray==0.15.1\n",
            "xgboost==0.90\n",
            "xkit==0.0.0\n",
            "xlrd==1.1.0\n",
            "xlwt==1.3.0\n",
            "yellowbrick==0.9.1\n",
            "zict==2.0.0\n",
            "zipp==3.4.0\n"
          ],
          "name": "stdout"
        }
      ]
    },
    {
      "cell_type": "code",
      "metadata": {
        "id": "FhoxtYV81x3K"
      },
      "source": [
        "import osmnx as ox\n",
        "import networkx as nx\n",
        "import plotly.graph_objects as go\n",
        "import plotly.express as px\n",
        "import numpy as np\n",
        "import json\n",
        "import sys\n",
        "import time\n",
        "\n",
        "import pandas as pd\n",
        "import io\n",
        "from itertools import cycle\n",
        "from google.colab import files\n",
        "from pydrive.auth import GoogleAuth\n",
        "from pydrive.drive import GoogleDrive\n",
        "from google.colab import auth\n",
        "from oauth2client.client import GoogleCredentials\n",
        "from math import sin, cos, sqrt, atan2, radians"
      ],
      "execution_count": null,
      "outputs": []
    },
    {
      "cell_type": "markdown",
      "metadata": {
        "id": "-zMuAHUt9j6K"
      },
      "source": [
        "# 1. Dataset\n",
        "\n",
        "Our data is constructed based on the open data of all on-street metered parking spaces in the City of Los Angeles. \n",
        "\n",
        "\n",
        "*   The basic information of all the parking spaces is available at https://data.lacity.org/Transportation/LADOT-Metered-Parking-Inventory-Policies/s49e-q6j2\n",
        "*   The real-time occupancy of each parking space is available at https://data.lacity.org/Transportation/LADOT-Parking-Meter-Occupancy/e7h6-4a3e\n",
        "\n",
        "We calculated the maximum rate (MaxRate) within time limit for all type of parking space\n",
        "\n",
        "\n",
        "*   FLAT: hourly rate * hour limit\n",
        "*   JUMP: maximum price\n",
        "*   SEASONAL: winter hourly rate * hour limit\n",
        "*   JUMP: maximum hourly rate * hour limit\n",
        "\n",
        "\n",
        "\n",
        "\n",
        "\n",
        "\n"
      ]
    },
    {
      "cell_type": "code",
      "metadata": {
        "id": "Ibk_WDbV43OA",
        "colab": {
          "resources": {
            "http://localhost:8080/nbextensions/google.colab/files.js": {
              "data": "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",
              "ok": true,
              "headers": [
                [
                  "content-type",
                  "application/javascript"
                ]
              ],
              "status": 200,
              "status_text": ""
            }
          },
          "base_uri": "https://localhost:8080/",
          "height": 89
        },
        "outputId": "014d02d6-5ca5-4b52-a80b-ee58bb431266"
      },
      "source": [
        "# Authenticate and create the PyDrive client.\n",
        "# auth.authenticate_user()\n",
        "# gauth = GoogleAuth()\n",
        "# gauth.credentials = GoogleCredentials.get_application_default()\n",
        "# drive = GoogleDrive(gauth)\n",
        "# #### JASON - with filtered Friday morning occupancy\n",
        "# link = 'https://drive.google.com/file/d/1B4jTo6dWk67YMbpg2UzO330JIfXHoqJp/view?usp=sharing' # The shareable link\n",
        "# id='1B4jTo6dWk67YMbpg2UzO330JIfXHoqJp'\n",
        "# downloaded = drive.CreateFile({'id':id}) \n",
        "# downloaded.GetContentFile('filtered_ext_FriAM.json') \n",
        "\n",
        "#extract data with following attributes from json file\n",
        "'''\n",
        "type: text\n",
        "    Single-space parking space can be viewed as node type\n",
        "SpaceID: text\n",
        "    Unique ID of the metered street parking space \n",
        "BlockFace: text\n",
        "    Block number and street of metered space\n",
        "HourLimit: float\n",
        "    Maximum parking time limit during metered hours\n",
        "RateType: text\n",
        "    Hourly rate type - FLAT, JUMP, SEASONAL, Time-of-Day (TOD)\n",
        "HourlyRate: float\n",
        "    The minimum hourly rate \n",
        "MaxRate: float\n",
        "    The maximum rate calculated within hour limit\n",
        "OccupancyState: integar\n",
        "    0 - Vacant; 1 - Occupied\n",
        "Latitude: float\n",
        "Longitude: float\n",
        "'''\n",
        "uploaded_file=files.upload()\n",
        "with open('filtered_ext_FriAM.json') as json_file:\n",
        "    itemData = json.load(json_file)\n",
        "print(len(itemData))"
      ],
      "execution_count": null,
      "outputs": [
        {
          "output_type": "display_data",
          "data": {
            "text/html": [
              "\n",
              "     <input type=\"file\" id=\"files-aef28489-add9-4585-bcfd-acdfec73f697\" name=\"files[]\" multiple disabled\n",
              "        style=\"border:none\" />\n",
              "     <output id=\"result-aef28489-add9-4585-bcfd-acdfec73f697\">\n",
              "      Upload widget is only available when the cell has been executed in the\n",
              "      current browser session. Please rerun this cell to enable.\n",
              "      </output>\n",
              "      <script src=\"/nbextensions/google.colab/files.js\"></script> "
            ],
            "text/plain": [
              "<IPython.core.display.HTML object>"
            ]
          },
          "metadata": {
            "tags": []
          }
        },
        {
          "output_type": "stream",
          "text": [
            "Saving filtered_ext_FriAM.json to filtered_ext_FriAM (1).json\n",
            "298\n"
          ],
          "name": "stdout"
        }
      ]
    },
    {
      "cell_type": "markdown",
      "metadata": {
        "id": "vPytKVQJhdYb"
      },
      "source": [
        "## 1.1 Parking Data\n",
        "\n",
        "\n",
        "*   Our dataset for tests contains 298 parking sapces in downtown LA\n",
        "\n"
      ]
    },
    {
      "cell_type": "code",
      "metadata": {
        "id": "IyjNKGOKgSjB"
      },
      "source": [
        "## Start point area\n",
        "## \"Los Angeles dt\" 34.047937, -118.261253 southfigueroa&8th 34.029588, -118.232241 mateo&E8th\n",
        "north, west, south, east = 34.047937, -118.261253, 34.029588, -118.232241\n",
        "# Downloading the map as a graph object \n",
        "G = ox.graph_from_bbox(north, south, east, west, network_type = 'drive') \n",
        "G = ox.speed.add_edge_speeds(G)\n",
        "G = ox.speed.add_edge_travel_times(G)\n",
        "\n",
        "## Extract parking lat/long \n",
        "parkings=[]\n",
        "p_lat=[]\n",
        "p_long=[]\n",
        "vacant_parkings=[]\n",
        "vacp_lat=[]\n",
        "vacp_long=[]\n",
        "node_lat=[]\n",
        "node_long=[]\n",
        "for item in itemData:\n",
        "  # let lat/long for all parking space\n",
        "  parkings.append(item)\n",
        "  p_lat.append(item[\"Latitude\"])\n",
        "  p_long.append(item[\"Longitude\"])\n",
        "  # find the nearest nodes for the parking space\n",
        "  nearest_node=ox.get_nearest_node(G,(item[\"Latitude\"],item[\"Longitude\"]))\n",
        "  node_lat.append(G.nodes[nearest_node]['y'])\n",
        "  node_long.append(G.nodes[nearest_node]['x'])\n",
        "  # get lat/long for vacant parking space\n",
        "  if item[\"OccupancyState\"] == 0:\n",
        "    vacant_parkings.append(item)\n",
        "    vacp_lat.append(item[\"Latitude\"])\n",
        "    vacp_long.append(item[\"Longitude\"])\n",
        "\n",
        "# print(len(p_lat),len(node_lat),len(vacp_lat))"
      ],
      "execution_count": null,
      "outputs": []
    },
    {
      "cell_type": "markdown",
      "metadata": {
        "id": "NousmMhWiFtc"
      },
      "source": [
        "## 1.2 Test Cases\n",
        "\n",
        "*   Selected 10 pairs of start/destination to simulation users finding parking space in downtown LA\n",
        "*   Plotted figure of parking spaces with occupancy state, and start/destination points\n",
        "\n"
      ]
    },
    {
      "cell_type": "code",
      "metadata": {
        "id": "yQcRbzSgwphD"
      },
      "source": [
        "# Add test cases features to the figure\r\n",
        "def fig_add_test_cases(fig, p_lat, p_long, vacp_lat, vacp_long, vacant_parkings, origin_lat, origin_long, dest_lat, dest_long, hours):\r\n",
        "  #all parking space\r\n",
        "  fig.add_trace(go.Scattermapbox(\r\n",
        "          name = \"Occupied parking\",\r\n",
        "          mode = \"markers\",\r\n",
        "          lat = p_lat,\r\n",
        "          lon = p_long,\r\n",
        "          marker = {'size': 5, 'color':\"orange\"}))\r\n",
        "  #currently available parking space\r\n",
        "  hover_text = []\r\n",
        "  for i in range(len(vacant_parkings)):\r\n",
        "    hover_text.append('Hourly rate: ' + str(vacant_parkings[i]['HourlyRate']) + '; Max rate: ' + str(vacant_parkings[i]['MaxRate']) + '; Hour Limit: ' + str(vacant_parkings[i]['HourLimit']))\r\n",
        "  fig.add_trace(go.Scattermapbox(\r\n",
        "          name = \"Vacant parking\",\r\n",
        "          mode = \"markers\",\r\n",
        "          lat = vacp_lat,\r\n",
        "          lon = vacp_long,\r\n",
        "          marker = {'size': 5, 'color':\"darkgreen\"},\r\n",
        "          hoverinfo = 'text',\r\n",
        "          hovertext = hover_text))\r\n",
        "  #start points\r\n",
        "  for i in range(len(origin_lat)):\r\n",
        "    start_name = 'Start point ' + str(i)\r\n",
        "    fig.add_trace(go.Scattermapbox(\r\n",
        "            name = start_name,\r\n",
        "            mode = \"markers\",\r\n",
        "            lat = [origin_lat[i]],\r\n",
        "            lon = [origin_long[i]],\r\n",
        "            marker = {'size': 10, 'color':\"blue\"}))\r\n",
        "  #detinations\r\n",
        "  for i in range(len(dest_lat)):\r\n",
        "    dest_name = 'Destination ' + str(i)\r\n",
        "    hover_text = dest_name + '; Hours: ' + str(hours[i])\r\n",
        "    fig.add_trace(go.Scattermapbox(\r\n",
        "            name = dest_name,\r\n",
        "            mode = \"markers\",\r\n",
        "            lat = [dest_lat[i]],\r\n",
        "            lon = [dest_long[i]],\r\n",
        "            marker = {'size': 10, 'color':\"red\"},\r\n",
        "            hoverinfo = 'text',\r\n",
        "            hovertext = hover_text))\r\n",
        "\r\n",
        "  # getting center for plots:\r\n",
        "  lat_center = np.mean(origin_lat)\r\n",
        "  long_center = np.mean(origin_long)\r\n",
        "  # defining the layout using mapbox_style\r\n",
        "  fig.update_layout(mapbox_style=\"carto-positron\",\r\n",
        "      mapbox_center_lat = 30, mapbox_center_lon=-80)\r\n",
        "  fig.update_layout(margin={\"r\":0,\"t\":0,\"l\":0,\"b\":0},\r\n",
        "                    mapbox = {\r\n",
        "                        'center': {'lat': lat_center, \r\n",
        "                        'lon': long_center},\r\n",
        "                        'zoom': 14.5})\r\n",
        "  \r\n",
        "  return fig\r\n",
        "\r\n",
        "# Helper to plot paths\r\n",
        "def fig_add_path(fig, lat, long, name, palette):\r\n",
        "  fig.add_trace(go.Scattermapbox(\r\n",
        "      name = name,\r\n",
        "      mode = \"lines\",\r\n",
        "      lon = long,\r\n",
        "      lat = lat,\r\n",
        "      marker = {'size': 10},\r\n",
        "      line = dict(width = 4.5, color = next(palette))))\r\n",
        "  \r\n",
        "  return fig\r\n",
        "\r\n",
        "def fig_add_result_paths(fig, row_ind, col_ind, list_V, list_P):\r\n",
        "  palette = cycle(px.colors.qualitative.Plotly)\r\n",
        "  for i, j in zip(row_ind, col_ind):\r\n",
        "    name = 'path_' + str(i)\r\n",
        "    path_lat, path_long = path_lat_long(list_V[i], list_P[j], G)\r\n",
        "    fig = fig_add_path(fig, path_lat, path_long, name, palette)\r\n",
        "  \r\n",
        "  return fig\r\n"
      ],
      "execution_count": null,
      "outputs": []
    },
    {
      "cell_type": "code",
      "metadata": {
        "colab": {
          "base_uri": "https://localhost:8080/",
          "height": 542
        },
        "id": "SLJUHk4cVjds",
        "outputId": "fadb6b96-b6af-4529-8b3a-4170e3371d89"
      },
      "source": [
        "#Test cases: 10 cases\n",
        "#Start point coordinates\n",
        "origin_lat=[34.038526, 34.034314, 34.043959, 34.038329, 34.040802, 34.038147, 34.034895, 34.042111, 34.046061, 34.03682]\n",
        "origin_long=[-118.254028, -118.252074, -118.243785, -118.245367, -118.260495, -118.257064, -118.253033, -118.244735, -118.242705, -118.248662]\n",
        "#Destination coordinates\n",
        "dest_lat=[34.042308, 34.041665, 34.039068, 34.040547, 34.041726, 34.040755, 34.042034, 34.041959, 34.039944, 34.041198]\n",
        "dest_long=[-118.250414, -118.251708, -118.251934, -118.246945, -118.248157, -118.251687, -118.247397, -118.252433, -118.252114, -118.246792]\n",
        "#Desired parking hours\n",
        "hours=[2.0, 2.0, 2.5, 1, 0.5, 1, 2.5, 3, 1.5, 0.5]\n",
        "#Colors used to plot path\n",
        "colours = ['red', 'orange', 'yellow', 'green', 'blue', 'azure', 'purple', 'black', 'olive', 'firebrick']\n",
        "\n",
        "#Plot figure for dataset and test cases\n",
        "fig = go.Figure()\n",
        "fig = fig_add_test_cases(fig, p_lat, p_long, vacp_lat, vacp_long, vacant_parkings, origin_lat, origin_long, dest_lat, dest_long, hours)\n",
        "fig.show()"
      ],
      "execution_count": null,
      "outputs": [
        {
          "output_type": "display_data",
          "data": {
            "text/html": [
              "<html>\n",
              "<head><meta charset=\"utf-8\" /></head>\n",
              "<body>\n",
              "    <div>\n",
              "            <script src=\"https://cdnjs.cloudflare.com/ajax/libs/mathjax/2.7.5/MathJax.js?config=TeX-AMS-MML_SVG\"></script><script type=\"text/javascript\">if (window.MathJax) {MathJax.Hub.Config({SVG: {font: \"STIX-Web\"}});}</script>\n",
              "                <script type=\"text/javascript\">window.PlotlyConfig = {MathJaxConfig: 'local'};</script>\n",
              "        <script src=\"https://cdn.plot.ly/plotly-latest.min.js\"></script>    \n",
              "            <div id=\"353da95a-d8a4-4245-9004-79adff5effd7\" class=\"plotly-graph-div\" style=\"height:525px; width:100%;\"></div>\n",
              "            <script type=\"text/javascript\">\n",
              "                \n",
              "                    window.PLOTLYENV=window.PLOTLYENV || {};\n",
              "                    \n",
              "                if (document.getElementById(\"353da95a-d8a4-4245-9004-79adff5effd7\")) {\n",
              "                    Plotly.newPlot(\n",
              "                        '353da95a-d8a4-4245-9004-79adff5effd7',\n",
              "                        [{\"lat\": [34.040251, 34.039715, 34.039839, 34.039673, 34.041576, 34.039273, 34.040221, 34.039802, 34.04044, 34.042094, 34.042382, 34.040272, 34.040754, 34.040363, 34.039163, 34.040416, 34.039911, 34.041313, 34.040629, 34.039178, 34.041838, 34.042397, 34.039631, 34.041533, 34.042111, 34.039818, 34.042067, 34.042506, 34.039593, 34.042517, 34.041645, 34.039187, 34.042127, 34.041807, 34.041486, 34.040402, 34.042296, 34.040348, 34.04235, 34.04176, 34.042038, 34.039381, 34.042278, 34.041281, 34.040588, 34.04231, 34.039724, 34.04168, 34.039243, 34.040291, 34.041618, 34.03988, 34.042759, 34.041248, 34.042314, 34.042225, 34.040658, 34.042366, 34.042262, 34.039871, 34.041411, 34.041729, 34.039685, 34.039537, 34.041566, 34.042554, 34.042638, 34.040406, 34.040138, 34.040441, 34.039703, 34.041725, 34.04008, 34.039942, 34.041062, 34.039244, 34.040186, 34.042166, 34.04014, 34.03931, 34.039124, 34.041104, 34.039846, 34.040455, 34.039504, 34.040333, 34.040123, 34.040536, 34.039183, 34.040537, 34.039054, 34.040248, 34.040313, 34.040044, 34.040575, 34.042572, 34.040487, 34.039747, 34.039361, 34.040268, 34.041324, 34.039925, 34.039364, 34.039193, 34.041687, 34.041435, 34.039967, 34.040768, 34.039708, 34.04049, 34.03992, 34.041455, 34.040922, 34.040331, 34.041976, 34.03922, 34.040226, 34.040982, 34.039795, 34.039706, 34.039791, 34.04093, 34.039074, 34.040189, 34.040429, 34.040319, 34.039326, 34.041764, 34.041378, 34.039703, 34.041177, 34.04206, 34.039931, 34.039143, 34.039902, 34.04018, 34.039889, 34.039977, 34.041117, 34.03927, 34.039999, 34.040026, 34.040624, 34.039543, 34.040865, 34.04028, 34.040511, 34.040534, 34.042064, 34.040354, 34.041079, 34.039278, 34.042373, 34.04152, 34.041017, 34.039148, 34.042621, 34.040777, 34.039846, 34.040015, 34.039169, 34.041284, 34.039758, 34.039233, 34.041256, 34.040375, 34.04142, 34.040717, 34.039059, 34.039433, 34.042004, 34.039315, 34.04036, 34.042326, 34.04167, 34.040309, 34.040191, 34.040414, 34.040813, 34.039412, 34.039088, 34.04106, 34.039743, 34.042476, 34.042151, 34.039794, 34.040862, 34.041455, 34.039884, 34.039676, 34.039179, 34.040236, 34.040471, 34.040971, 34.039759, 34.040101, 34.040452, 34.039142, 34.039769, 34.040812, 34.040355, 34.039608, 34.039644, 34.040455, 34.039129, 34.040525, 34.040812, 34.03986, 34.040663, 34.041533, 34.041181, 34.041962, 34.039821, 34.03908, 34.040869, 34.040586, 34.042679, 34.040247, 34.040509, 34.042261, 34.042091, 34.040221, 34.039533, 34.039938, 34.041487, 34.039786, 34.039666, 34.039238, 34.03969, 34.040283, 34.039287, 34.039849, 34.041378, 34.040899, 34.04202, 34.039955, 34.039661, 34.039749, 34.03979, 34.039097, 34.03978, 34.040501, 34.039807, 34.040715, 34.040319, 34.039045, 34.041918, 34.039599, 34.040909, 34.041786, 34.040402, 34.042149, 34.041414, 34.041005, 34.039808, 34.041478, 34.041329, 34.042721, 34.040902, 34.039093, 34.03973, 34.039976, 34.041062, 34.041077, 34.040318, 34.039823, 34.039239, 34.040179, 34.042106, 34.039418, 34.041476, 34.040666, 34.039902, 34.039862, 34.041213, 34.040947, 34.039951, 34.042053, 34.042163, 34.040278, 34.039051, 34.039624, 34.040041, 34.039447, 34.040727, 34.039278, 34.041279, 34.042422, 34.042206, 34.041452, 34.039212, 34.039109, 34.039967, 34.040772, 34.04252, 34.039763, 34.041351, 34.042206], \"lon\": [-118.25319, -118.252843, -118.250218, -118.251762, -118.248779, -118.253051, -118.251776, -118.250177, -118.252735, -118.249576, -118.252947, -118.250986, -118.248122, -118.251808, -118.252953, -118.25155, -118.250734, -118.246273, -118.251499, -118.248225, -118.252562, -118.251465, -118.251032, -118.252767, -118.251869, -118.250833, -118.251938, -118.251562, -118.251074, -118.251302, -118.252858, -118.252522, -118.251847, -118.252608, -118.25284, -118.250024, -118.249614, -118.25008, -118.251775, -118.252682, -118.251983, -118.251301, -118.251626, -118.253143, -118.250013, -118.251582, -118.250933, -118.252807, -118.252583, -118.250141, -118.25264, -118.25217, -118.250978, -118.253194, -118.251824, -118.251699, -118.24975, -118.251508, -118.251902, -118.250775, -118.246171, -118.252731, -118.250974, -118.251134, -118.252719, -118.251496, -118.25114, -118.252777, -118.24867, -118.24998, -118.252575, -118.251975, -118.251938, -118.247424, -118.249508, -118.249939, -118.251095, -118.252448, -118.247217, -118.253009, -118.252996, -118.249463, -118.247526, -118.250618, -118.24986, -118.247303, -118.251888, -118.248184, -118.249252, -118.251604, -118.252377, -118.250186, -118.251864, -118.247317, -118.251561, -118.247855, -118.251664, -118.247628, -118.252162, -118.252957, -118.250709, -118.25053, -118.252951, -118.251499, -118.248676, -118.248922, -118.250674, -118.249821, -118.251717, -118.252667, -118.252123, -118.250561, -118.251379, -118.253085, -118.249975, -118.25311, -118.248561, -118.252033, -118.252465, -118.249394, -118.253186, -118.246676, -118.248334, -118.248605, -118.247202, -118.251662, -118.252208, -118.252015, -118.249173, -118.247675, -118.250873, -118.249616, -118.25143, -118.252219, -118.247467, -118.247462, -118.252358, -118.252057, -118.251587, -118.248417, -118.247364, -118.252001, -118.251058, -118.249902, -118.252181, -118.247357, -118.25144, -118.250071, -118.248326, -118.248404, -118.250983, -118.24812, -118.24804, -118.249021, -118.246584, -118.25248, -118.24781, -118.252507, -118.251538, -118.251319, -118.248521, -118.250754, -118.251651, -118.251458, -118.246333, -118.251599, -118.249129, -118.248169, -118.251454, -118.248247, -118.24968, -118.248081, -118.250515, -118.25288, -118.251915, -118.250938, -118.250596, -118.250573, -118.249584, -118.252096, -118.25216, -118.25214, -118.24935, -118.247946, -118.249777, -118.251604, -118.2524, -118.246126, -118.25149, -118.252803, -118.253156, -118.252998, -118.251485, -118.246632, -118.252509, -118.247258, -118.251705, -118.250056, -118.252906, -118.252461, -118.252844, -118.247775, -118.247736, -118.248485, -118.248562, -118.252624, -118.249775, -118.249204, -118.248233, -118.248819, -118.251986, -118.249727, -118.250641, -118.251621, -118.249716, -118.251018, -118.247756, -118.250655, -118.250676, -118.248145, -118.252632, -118.251051, -118.25194, -118.252299, -118.250526, -118.25228, -118.252619, -118.248162, -118.252389, -118.253149, -118.2514, -118.252403, -118.248984, -118.252136, -118.249926, -118.253111, -118.249763, -118.25012, -118.249088, -118.251412, -118.250875, -118.249916, -118.247567, -118.249691, -118.250471, -118.249973, -118.250039, -118.249963, -118.249671, -118.25019, -118.251761, -118.252695, -118.251904, -118.249569, -118.252947, -118.249065, -118.249227, -118.247718, -118.247739, -118.25242, -118.252343, -118.252254, -118.246536, -118.251544, -118.252891, -118.252237, -118.25126, -118.251824, -118.248289, -118.251261, -118.248879, -118.251455, -118.25305, -118.253008, -118.246376, -118.252074, -118.247703, -118.252591, -118.248236, -118.251708, -118.252119, -118.249725, -118.247608, -118.252052, -118.252361, -118.251219, -118.249277, -118.252986, -118.252491, -118.251946, -118.249777, -118.250095, -118.251382, -118.249629, -118.247907, -118.250704, -118.246233, -118.248195], \"marker\": {\"color\": \"orange\", \"size\": 5}, \"mode\": \"markers\", \"name\": \"Occupied parking\", \"type\": \"scattermapbox\"}, {\"hoverinfo\": \"text\", \"hovertext\": [\"Hourly rate: 2.0; Max rate: 8.0; Hour Limit: 2.0\", \"Hourly rate: 1.5; Max rate: 12.0; Hour Limit: 2.0\", \"Hourly rate: 3.0; Max rate: 8.0; Hour Limit: 2.0\", \"Hourly rate: 0.5; Max rate: 10.0; Hour Limit: 2.0\", \"Hourly rate: 1.5; Max rate: 8.0; Hour Limit: 2.0\", \"Hourly rate: 3.0; Max rate: 10.0; Hour Limit: 2.0\", \"Hourly rate: 3.0; Max rate: 10.0; Hour Limit: 2.0\", \"Hourly rate: 1.5; Max rate: 10.0; Hour Limit: 2.0\", \"Hourly rate: 4.0; Max rate: 8.0; Hour Limit: 2.0\", \"Hourly rate: 4.0; Max rate: 8.0; Hour Limit: 2.0\", \"Hourly rate: 1.5; Max rate: 8.0; Hour Limit: 2.0\", \"Hourly rate: 4.0; Max rate: 8.0; Hour Limit: 2.0\", \"Hourly rate: 1.5; Max rate: 8.0; Hour Limit: 2.0\", \"Hourly rate: 1.5; Max rate: 8.0; Hour Limit: 2.0\", \"Hourly rate: 1.5; Max rate: 8.0; Hour Limit: 2.0\", \"Hourly rate: 4.0; Max rate: 12.0; Hour Limit: 2.0\", \"Hourly rate: 1.5; Max rate: 8.0; Hour Limit: 2.0\", \"Hourly rate: 3.0; Max rate: 8.0; Hour Limit: 2.0\", \"Hourly rate: 4.0; Max rate: 8.0; Hour Limit: 2.0\", \"Hourly rate: 2.0; Max rate: 24.0; Hour Limit: 4.0\", \"Hourly rate: 2.0; Max rate: 8.0; Hour Limit: 2.0\", \"Hourly rate: 1.5; Max rate: 8.0; Hour Limit: 2.0\", \"Hourly rate: 4.0; Max rate: 8.0; Hour Limit: 2.0\", \"Hourly rate: 1.5; Max rate: 8.0; Hour Limit: 2.0\", \"Hourly rate: 0.5; Max rate: 24.0; Hour Limit: 4.0\", \"Hourly rate: 1.5; Max rate: 8.0; Hour Limit: 2.0\", \"Hourly rate: 3.0; Max rate: 8.0; Hour Limit: 2.0\", \"Hourly rate: 4.0; Max rate: 12.0; Hour Limit: 2.0\", \"Hourly rate: 4.0; Max rate: 8.0; Hour Limit: 2.0\", \"Hourly rate: 3.0; Max rate: 10.0; Hour Limit: 2.0\", \"Hourly rate: 1.5; Max rate: 8.0; Hour Limit: 2.0\", \"Hourly rate: 4.0; Max rate: 8.0; Hour Limit: 2.0\", \"Hourly rate: 2.0; Max rate: 8.0; Hour Limit: 2.0\", \"Hourly rate: 1.5; Max rate: 8.0; Hour Limit: 2.0\", \"Hourly rate: 1.5; Max rate: 8.0; Hour Limit: 2.0\", \"Hourly rate: 2.0; Max rate: 8.0; Hour Limit: 2.0\", \"Hourly rate: 3.0; Max rate: 8.0; Hour Limit: 2.0\", \"Hourly rate: 4.0; Max rate: 8.0; Hour Limit: 2.0\", \"Hourly rate: 4.0; Max rate: 8.0; Hour Limit: 2.0\", \"Hourly rate: 1.5; Max rate: 8.0; Hour Limit: 2.0\", \"Hourly rate: 3.0; Max rate: 10.0; Hour Limit: 2.0\", \"Hourly rate: 0.5; Max rate: 12.0; Hour Limit: 2.0\", \"Hourly rate: 3.0; Max rate: 8.0; Hour Limit: 2.0\", \"Hourly rate: 0.5; Max rate: 10.0; Hour Limit: 2.0\", \"Hourly rate: 3.0; Max rate: 10.0; Hour Limit: 2.0\", \"Hourly rate: 4.0; Max rate: 12.0; Hour Limit: 2.0\", \"Hourly rate: 0.5; Max rate: 6.0; Hour Limit: 4.0\", \"Hourly rate: 4.0; Max rate: 8.0; Hour Limit: 2.0\", \"Hourly rate: 1.5; Max rate: 8.0; Hour Limit: 2.0\", \"Hourly rate: 4.0; Max rate: 8.0; Hour Limit: 2.0\", \"Hourly rate: 0.5; Max rate: 10.0; Hour Limit: 2.0\", \"Hourly rate: 0.5; Max rate: 24.0; Hour Limit: 4.0\", \"Hourly rate: 3.0; Max rate: 8.0; Hour Limit: 2.0\", \"Hourly rate: 3.0; Max rate: 10.0; Hour Limit: 2.0\", \"Hourly rate: 2.0; Max rate: 24.0; Hour Limit: 4.0\", \"Hourly rate: 1.5; Max rate: 8.0; Hour Limit: 2.0\", \"Hourly rate: 3.0; Max rate: 8.0; Hour Limit: 2.0\", \"Hourly rate: 4.0; Max rate: 8.0; Hour Limit: 2.0\", \"Hourly rate: 5.0; Max rate: 10.0; Hour Limit: 2.0\", \"Hourly rate: 1.0; Max rate: 3.0; Hour Limit: 2.0\", \"Hourly rate: 3.0; Max rate: 8.0; Hour Limit: 2.0\", \"Hourly rate: 3.0; Max rate: 10.0; Hour Limit: 2.0\", \"Hourly rate: 0.5; Max rate: 24.0; Hour Limit: 4.0\", \"Hourly rate: 3.0; Max rate: 8.0; Hour Limit: 2.0\", \"Hourly rate: 4.0; Max rate: 12.0; Hour Limit: 2.0\", \"Hourly rate: 4.0; Max rate: 8.0; Hour Limit: 2.0\", \"Hourly rate: 3.0; Max rate: 10.0; Hour Limit: 2.0\", \"Hourly rate: 0.5; Max rate: 6.0; Hour Limit: 4.0\", \"Hourly rate: 3.0; Max rate: 10.0; Hour Limit: 2.0\", \"Hourly rate: 4.0; Max rate: 10.0; Hour Limit: 2.0\", \"Hourly rate: 0.5; Max rate: 12.0; Hour Limit: 2.0\", \"Hourly rate: 3.0; Max rate: 8.0; Hour Limit: 2.0\", \"Hourly rate: 0.5; Max rate: 6.0; Hour Limit: 4.0\", \"Hourly rate: 2.0; Max rate: 24.0; Hour Limit: 4.0\", \"Hourly rate: 0.5; Max rate: 6.0; Hour Limit: 4.0\", \"Hourly rate: 1.0; Max rate: 3.0; Hour Limit: 2.0\", \"Hourly rate: 4.0; Max rate: 12.0; Hour Limit: 2.0\", \"Hourly rate: 0.5; Max rate: 6.0; Hour Limit: 4.0\", \"Hourly rate: 3.0; Max rate: 8.0; Hour Limit: 2.0\", \"Hourly rate: 3.0; Max rate: 8.0; Hour Limit: 2.0\", \"Hourly rate: 3.0; Max rate: 8.0; Hour Limit: 2.0\", \"Hourly rate: 1.0; Max rate: 3.0; Hour Limit: 2.0\", \"Hourly rate: 3.0; Max rate: 10.0; Hour Limit: 2.0\", \"Hourly rate: 2.0; Max rate: 8.0; Hour Limit: 2.0\", \"Hourly rate: 0.5; Max rate: 24.0; Hour Limit: 4.0\", \"Hourly rate: 3.0; Max rate: 10.0; Hour Limit: 2.0\", \"Hourly rate: 3.0; Max rate: 8.0; Hour Limit: 2.0\", \"Hourly rate: 4.0; Max rate: 12.0; Hour Limit: 2.0\", \"Hourly rate: 0.5; Max rate: 6.0; Hour Limit: 4.0\", \"Hourly rate: 2.0; Max rate: 24.0; Hour Limit: 4.0\", \"Hourly rate: 3.0; Max rate: 8.0; Hour Limit: 2.0\", \"Hourly rate: 2.0; Max rate: 8.0; Hour Limit: 2.0\", \"Hourly rate: 3.0; Max rate: 8.0; Hour Limit: 2.0\", \"Hourly rate: 3.0; Max rate: 8.0; Hour Limit: 2.0\", \"Hourly rate: 3.0; Max rate: 10.0; Hour Limit: 2.0\", \"Hourly rate: 1.0; Max rate: 3.0; Hour Limit: 2.0\", \"Hourly rate: 4.0; Max rate: 8.0; Hour Limit: 2.0\", \"Hourly rate: 0.5; Max rate: 6.0; Hour Limit: 4.0\", \"Hourly rate: 4.0; Max rate: 8.0; Hour Limit: 2.0\", \"Hourly rate: 1.5; Max rate: 12.0; Hour Limit: 2.0\", \"Hourly rate: 3.0; Max rate: 8.0; Hour Limit: 2.0\", \"Hourly rate: 0.5; Max rate: 6.0; Hour Limit: 4.0\", \"Hourly rate: 0.5; Max rate: 6.0; Hour Limit: 4.0\", \"Hourly rate: 0.5; Max rate: 24.0; Hour Limit: 4.0\", \"Hourly rate: 4.0; Max rate: 8.0; Hour Limit: 2.0\", \"Hourly rate: 0.5; Max rate: 6.0; Hour Limit: 4.0\", \"Hourly rate: 0.5; Max rate: 6.0; Hour Limit: 4.0\", \"Hourly rate: 3.0; Max rate: 8.0; Hour Limit: 2.0\", \"Hourly rate: 3.0; Max rate: 10.0; Hour Limit: 2.0\", \"Hourly rate: 4.0; Max rate: 8.0; Hour Limit: 2.0\", \"Hourly rate: 4.0; Max rate: 8.0; Hour Limit: 2.0\", \"Hourly rate: 3.0; Max rate: 8.0; Hour Limit: 2.0\", \"Hourly rate: 2.0; Max rate: 24.0; Hour Limit: 4.0\", \"Hourly rate: 1.5; Max rate: 12.0; Hour Limit: 2.0\", \"Hourly rate: 0.5; Max rate: 24.0; Hour Limit: 4.0\", \"Hourly rate: 2.0; Max rate: 8.0; Hour Limit: 2.0\", \"Hourly rate: 4.0; Max rate: 8.0; Hour Limit: 2.0\", \"Hourly rate: 0.5; Max rate: 12.0; Hour Limit: 2.0\", \"Hourly rate: 2.0; Max rate: 24.0; Hour Limit: 4.0\", \"Hourly rate: 2.0; Max rate: 24.0; Hour Limit: 4.0\", \"Hourly rate: 1.5; Max rate: 12.0; Hour Limit: 2.0\", \"Hourly rate: 0.5; Max rate: 6.0; Hour Limit: 4.0\", \"Hourly rate: 4.0; Max rate: 12.0; Hour Limit: 2.0\", \"Hourly rate: 3.0; Max rate: 10.0; Hour Limit: 2.0\", \"Hourly rate: 4.0; Max rate: 8.0; Hour Limit: 2.0\", \"Hourly rate: 1.0; Max rate: 3.0; Hour Limit: 2.0\", \"Hourly rate: 3.0; Max rate: 8.0; Hour Limit: 2.0\", \"Hourly rate: 3.0; Max rate: 10.0; Hour Limit: 2.0\", \"Hourly rate: 0.5; Max rate: 6.0; Hour Limit: 4.0\", \"Hourly rate: 1.5; Max rate: 12.0; Hour Limit: 2.0\", \"Hourly rate: 1.5; Max rate: 12.0; Hour Limit: 2.0\", \"Hourly rate: 0.5; Max rate: 6.0; Hour Limit: 4.0\", \"Hourly rate: 4.0; Max rate: 12.0; Hour Limit: 2.0\", \"Hourly rate: 0.5; Max rate: 10.0; Hour Limit: 2.0\", \"Hourly rate: 3.0; Max rate: 8.0; Hour Limit: 2.0\", \"Hourly rate: 2.0; Max rate: 8.0; Hour Limit: 2.0\", \"Hourly rate: 3.0; Max rate: 8.0; Hour Limit: 2.0\", \"Hourly rate: 0.5; Max rate: 6.0; Hour Limit: 4.0\", \"Hourly rate: 0.5; Max rate: 6.0; Hour Limit: 4.0\"], \"lat\": [34.040251, 34.039715, 34.039673, 34.041576, 34.039273, 34.040221, 34.042382, 34.040754, 34.040363, 34.039163, 34.042397, 34.041533, 34.042111, 34.042067, 34.042517, 34.039187, 34.042127, 34.041807, 34.041486, 34.042296, 34.04235, 34.042038, 34.039381, 34.042278, 34.040588, 34.04231, 34.04168, 34.039243, 34.041618, 34.03988, 34.042759, 34.041248, 34.042314, 34.042225, 34.042366, 34.042262, 34.041729, 34.039537, 34.041566, 34.042638, 34.04008, 34.039244, 34.040186, 34.040333, 34.040123, 34.039054, 34.042572, 34.040487, 34.039364, 34.039193, 34.041687, 34.040768, 34.039708, 34.03992, 34.041976, 34.03922, 34.040982, 34.039795, 34.039791, 34.04093, 34.039326, 34.041764, 34.041378, 34.039931, 34.039143, 34.039889, 34.039977, 34.039999, 34.040026, 34.040624, 34.039543, 34.040865, 34.042064, 34.041079, 34.042373, 34.041017, 34.039148, 34.042621, 34.039846, 34.040015, 34.039758, 34.041256, 34.040375, 34.039059, 34.042004, 34.042326, 34.039412, 34.039088, 34.042476, 34.042151, 34.039794, 34.040862, 34.039884, 34.040236, 34.040471, 34.040971, 34.039759, 34.040101, 34.040452, 34.039769, 34.040355, 34.039608, 34.039644, 34.040812, 34.03908, 34.042679, 34.042261, 34.039533, 34.039786, 34.039666, 34.039849, 34.040899, 34.04202, 34.039955, 34.039661, 34.039097, 34.03978, 34.040319, 34.041918, 34.041786, 34.039808, 34.042721, 34.039093, 34.03973, 34.039976, 34.041062, 34.040318, 34.039823, 34.042106, 34.039902, 34.039862, 34.042163, 34.039051, 34.040041, 34.039447, 34.039278, 34.039967, 34.04252, 34.042206], \"lon\": [-118.25319, -118.252843, -118.251762, -118.248779, -118.253051, -118.251776, -118.252947, -118.248122, -118.251808, -118.252953, -118.251465, -118.252767, -118.251869, -118.251938, -118.251302, -118.252522, -118.251847, -118.252608, -118.25284, -118.249614, -118.251775, -118.251983, -118.251301, -118.251626, -118.250013, -118.251582, -118.252807, -118.252583, -118.25264, -118.25217, -118.250978, -118.253194, -118.251824, -118.251699, -118.251508, -118.251902, -118.252731, -118.251134, -118.252719, -118.25114, -118.251938, -118.249939, -118.251095, -118.247303, -118.251888, -118.252377, -118.247855, -118.251664, -118.252951, -118.251499, -118.248676, -118.249821, -118.251717, -118.252123, -118.249975, -118.25311, -118.252033, -118.252465, -118.253186, -118.246676, -118.252208, -118.252015, -118.249173, -118.25143, -118.252219, -118.252358, -118.252057, -118.247364, -118.252001, -118.251058, -118.249902, -118.252181, -118.248326, -118.250983, -118.24804, -118.246584, -118.25248, -118.24781, -118.251538, -118.251319, -118.251651, -118.246333, -118.251599, -118.251454, -118.24968, -118.25288, -118.252096, -118.25216, -118.247946, -118.249777, -118.251604, -118.2524, -118.25149, -118.252998, -118.251485, -118.246632, -118.252509, -118.247258, -118.251705, -118.252906, -118.252844, -118.247775, -118.247736, -118.249775, -118.251621, -118.247756, -118.248145, -118.25194, -118.25228, -118.252619, -118.252403, -118.252136, -118.249926, -118.253111, -118.249763, -118.251412, -118.250875, -118.250471, -118.250039, -118.25019, -118.252947, -118.247718, -118.25242, -118.252343, -118.252254, -118.246536, -118.252891, -118.252237, -118.248289, -118.25305, -118.253008, -118.248236, -118.252119, -118.247608, -118.252052, -118.251219, -118.251382, -118.247907, -118.248195], \"marker\": {\"color\": \"darkgreen\", \"size\": 5}, \"mode\": \"markers\", \"name\": \"Vacant parking\", \"type\": \"scattermapbox\"}, {\"lat\": [34.038526], \"lon\": [-118.254028], \"marker\": {\"color\": \"blue\", \"size\": 10}, \"mode\": \"markers\", \"name\": \"Start point 0\", \"type\": \"scattermapbox\"}, {\"lat\": [34.034314], \"lon\": [-118.252074], \"marker\": {\"color\": \"blue\", \"size\": 10}, \"mode\": \"markers\", \"name\": \"Start point 1\", \"type\": \"scattermapbox\"}, {\"lat\": [34.043959], \"lon\": [-118.243785], \"marker\": {\"color\": \"blue\", \"size\": 10}, \"mode\": \"markers\", \"name\": \"Start point 2\", \"type\": \"scattermapbox\"}, {\"lat\": [34.038329], \"lon\": [-118.245367], \"marker\": {\"color\": \"blue\", \"size\": 10}, \"mode\": \"markers\", \"name\": \"Start point 3\", \"type\": \"scattermapbox\"}, {\"lat\": [34.040802], \"lon\": [-118.260495], \"marker\": {\"color\": \"blue\", \"size\": 10}, \"mode\": \"markers\", \"name\": \"Start point 4\", \"type\": \"scattermapbox\"}, {\"lat\": [34.038147], \"lon\": [-118.257064], \"marker\": {\"color\": \"blue\", \"size\": 10}, \"mode\": \"markers\", \"name\": \"Start point 5\", \"type\": \"scattermapbox\"}, {\"lat\": [34.034895], \"lon\": [-118.253033], \"marker\": {\"color\": \"blue\", \"size\": 10}, \"mode\": \"markers\", \"name\": \"Start point 6\", \"type\": \"scattermapbox\"}, {\"lat\": [34.042111], \"lon\": [-118.244735], \"marker\": {\"color\": \"blue\", \"size\": 10}, \"mode\": \"markers\", \"name\": \"Start point 7\", \"type\": \"scattermapbox\"}, {\"lat\": [34.046061], \"lon\": [-118.242705], \"marker\": {\"color\": \"blue\", \"size\": 10}, \"mode\": \"markers\", \"name\": \"Start point 8\", \"type\": \"scattermapbox\"}, {\"lat\": [34.03682], \"lon\": [-118.248662], \"marker\": {\"color\": \"blue\", \"size\": 10}, \"mode\": \"markers\", \"name\": \"Start point 9\", \"type\": \"scattermapbox\"}, {\"hoverinfo\": \"text\", \"hovertext\": \"Destination 0; Hours: 2.0\", \"lat\": [34.042308], \"lon\": [-118.250414], \"marker\": {\"color\": \"red\", \"size\": 10}, \"mode\": \"markers\", \"name\": \"Destination 0\", \"type\": \"scattermapbox\"}, {\"hoverinfo\": \"text\", \"hovertext\": \"Destination 1; Hours: 2.0\", \"lat\": [34.041665], \"lon\": [-118.251708], \"marker\": {\"color\": \"red\", \"size\": 10}, \"mode\": \"markers\", \"name\": \"Destination 1\", \"type\": \"scattermapbox\"}, {\"hoverinfo\": \"text\", \"hovertext\": \"Destination 2; Hours: 2.5\", \"lat\": [34.039068], \"lon\": [-118.251934], \"marker\": {\"color\": \"red\", \"size\": 10}, \"mode\": \"markers\", \"name\": \"Destination 2\", \"type\": \"scattermapbox\"}, {\"hoverinfo\": \"text\", \"hovertext\": \"Destination 3; Hours: 1\", \"lat\": [34.040547], \"lon\": [-118.246945], \"marker\": {\"color\": \"red\", \"size\": 10}, \"mode\": \"markers\", \"name\": \"Destination 3\", \"type\": \"scattermapbox\"}, {\"hoverinfo\": \"text\", \"hovertext\": \"Destination 4; Hours: 0.5\", \"lat\": [34.041726], \"lon\": [-118.248157], \"marker\": {\"color\": \"red\", \"size\": 10}, \"mode\": \"markers\", \"name\": \"Destination 4\", \"type\": \"scattermapbox\"}, {\"hoverinfo\": \"text\", \"hovertext\": \"Destination 5; Hours: 1\", \"lat\": [34.040755], \"lon\": [-118.251687], \"marker\": {\"color\": \"red\", \"size\": 10}, \"mode\": \"markers\", \"name\": \"Destination 5\", \"type\": \"scattermapbox\"}, {\"hoverinfo\": \"text\", \"hovertext\": \"Destination 6; Hours: 2.5\", \"lat\": [34.042034], \"lon\": [-118.247397], \"marker\": {\"color\": \"red\", \"size\": 10}, \"mode\": \"markers\", \"name\": \"Destination 6\", \"type\": \"scattermapbox\"}, {\"hoverinfo\": \"text\", \"hovertext\": \"Destination 7; Hours: 3\", \"lat\": [34.041959], \"lon\": [-118.252433], \"marker\": {\"color\": \"red\", \"size\": 10}, \"mode\": \"markers\", \"name\": \"Destination 7\", \"type\": \"scattermapbox\"}, {\"hoverinfo\": \"text\", \"hovertext\": \"Destination 8; Hours: 1.5\", \"lat\": [34.039944], \"lon\": [-118.252114], \"marker\": {\"color\": \"red\", \"size\": 10}, \"mode\": \"markers\", \"name\": \"Destination 8\", \"type\": \"scattermapbox\"}, {\"hoverinfo\": \"text\", \"hovertext\": \"Destination 9; Hours: 0.5\", \"lat\": [34.041198], \"lon\": [-118.246792], \"marker\": {\"color\": \"red\", \"size\": 10}, \"mode\": \"markers\", \"name\": \"Destination 9\", \"type\": \"scattermapbox\"}],\n",
              "                        {\"mapbox\": {\"center\": {\"lat\": 34.0393964, \"lon\": -118.2501948}, \"style\": \"carto-positron\", \"zoom\": 14.5}, \"margin\": {\"b\": 0, \"l\": 0, \"r\": 0, \"t\": 0}, \"template\": {\"data\": {\"bar\": [{\"error_x\": {\"color\": \"#2a3f5f\"}, \"error_y\": {\"color\": \"#2a3f5f\"}, \"marker\": {\"line\": {\"color\": \"#E5ECF6\", \"width\": 0.5}}, \"type\": \"bar\"}], \"barpolar\": [{\"marker\": {\"line\": {\"color\": \"#E5ECF6\", \"width\": 0.5}}, \"type\": \"barpolar\"}], \"carpet\": [{\"aaxis\": {\"endlinecolor\": \"#2a3f5f\", \"gridcolor\": \"white\", \"linecolor\": \"white\", \"minorgridcolor\": \"white\", \"startlinecolor\": \"#2a3f5f\"}, \"baxis\": {\"endlinecolor\": \"#2a3f5f\", \"gridcolor\": \"white\", \"linecolor\": \"white\", \"minorgridcolor\": \"white\", \"startlinecolor\": \"#2a3f5f\"}, \"type\": \"carpet\"}], \"choropleth\": [{\"colorbar\": {\"outlinewidth\": 0, \"ticks\": \"\"}, \"type\": \"choropleth\"}], \"contour\": [{\"colorbar\": {\"outlinewidth\": 0, \"ticks\": \"\"}, \"colorscale\": [[0.0, \"#0d0887\"], [0.1111111111111111, \"#46039f\"], [0.2222222222222222, \"#7201a8\"], [0.3333333333333333, \"#9c179e\"], [0.4444444444444444, \"#bd3786\"], [0.5555555555555556, \"#d8576b\"], [0.6666666666666666, \"#ed7953\"], [0.7777777777777778, \"#fb9f3a\"], [0.8888888888888888, \"#fdca26\"], [1.0, \"#f0f921\"]], \"type\": \"contour\"}], \"contourcarpet\": [{\"colorbar\": {\"outlinewidth\": 0, \"ticks\": \"\"}, \"type\": \"contourcarpet\"}], \"heatmap\": [{\"colorbar\": {\"outlinewidth\": 0, \"ticks\": \"\"}, \"colorscale\": [[0.0, \"#0d0887\"], [0.1111111111111111, \"#46039f\"], [0.2222222222222222, \"#7201a8\"], [0.3333333333333333, \"#9c179e\"], [0.4444444444444444, \"#bd3786\"], [0.5555555555555556, \"#d8576b\"], [0.6666666666666666, \"#ed7953\"], [0.7777777777777778, \"#fb9f3a\"], [0.8888888888888888, \"#fdca26\"], [1.0, \"#f0f921\"]], \"type\": \"heatmap\"}], \"heatmapgl\": [{\"colorbar\": {\"outlinewidth\": 0, \"ticks\": \"\"}, \"colorscale\": [[0.0, \"#0d0887\"], [0.1111111111111111, \"#46039f\"], [0.2222222222222222, \"#7201a8\"], [0.3333333333333333, \"#9c179e\"], [0.4444444444444444, \"#bd3786\"], [0.5555555555555556, \"#d8576b\"], [0.6666666666666666, \"#ed7953\"], [0.7777777777777778, \"#fb9f3a\"], [0.8888888888888888, \"#fdca26\"], [1.0, \"#f0f921\"]], \"type\": \"heatmapgl\"}], \"histogram\": [{\"marker\": {\"colorbar\": {\"outlinewidth\": 0, \"ticks\": \"\"}}, \"type\": \"histogram\"}], \"histogram2d\": [{\"colorbar\": {\"outlinewidth\": 0, \"ticks\": \"\"}, \"colorscale\": [[0.0, \"#0d0887\"], [0.1111111111111111, \"#46039f\"], [0.2222222222222222, \"#7201a8\"], [0.3333333333333333, \"#9c179e\"], [0.4444444444444444, \"#bd3786\"], [0.5555555555555556, \"#d8576b\"], [0.6666666666666666, \"#ed7953\"], [0.7777777777777778, \"#fb9f3a\"], [0.8888888888888888, \"#fdca26\"], [1.0, \"#f0f921\"]], \"type\": \"histogram2d\"}], \"histogram2dcontour\": [{\"colorbar\": {\"outlinewidth\": 0, \"ticks\": \"\"}, \"colorscale\": [[0.0, \"#0d0887\"], [0.1111111111111111, \"#46039f\"], [0.2222222222222222, \"#7201a8\"], [0.3333333333333333, \"#9c179e\"], [0.4444444444444444, \"#bd3786\"], [0.5555555555555556, \"#d8576b\"], [0.6666666666666666, \"#ed7953\"], [0.7777777777777778, \"#fb9f3a\"], [0.8888888888888888, \"#fdca26\"], [1.0, \"#f0f921\"]], \"type\": \"histogram2dcontour\"}], \"mesh3d\": [{\"colorbar\": {\"outlinewidth\": 0, \"ticks\": \"\"}, \"type\": \"mesh3d\"}], \"parcoords\": [{\"line\": {\"colorbar\": {\"outlinewidth\": 0, \"ticks\": \"\"}}, \"type\": \"parcoords\"}], \"pie\": [{\"automargin\": true, \"type\": \"pie\"}], \"scatter\": [{\"marker\": {\"colorbar\": {\"outlinewidth\": 0, \"ticks\": \"\"}}, \"type\": \"scatter\"}], \"scatter3d\": [{\"line\": {\"colorbar\": {\"outlinewidth\": 0, \"ticks\": \"\"}}, \"marker\": {\"colorbar\": {\"outlinewidth\": 0, \"ticks\": \"\"}}, \"type\": \"scatter3d\"}], \"scattercarpet\": [{\"marker\": {\"colorbar\": {\"outlinewidth\": 0, \"ticks\": \"\"}}, \"type\": \"scattercarpet\"}], \"scattergeo\": [{\"marker\": {\"colorbar\": {\"outlinewidth\": 0, \"ticks\": \"\"}}, \"type\": \"scattergeo\"}], \"scattergl\": [{\"marker\": {\"colorbar\": {\"outlinewidth\": 0, \"ticks\": \"\"}}, \"type\": \"scattergl\"}], \"scattermapbox\": [{\"marker\": {\"colorbar\": {\"outlinewidth\": 0, \"ticks\": \"\"}}, \"type\": \"scattermapbox\"}], \"scatterpolar\": [{\"marker\": {\"colorbar\": {\"outlinewidth\": 0, \"ticks\": \"\"}}, \"type\": \"scatterpolar\"}], \"scatterpolargl\": [{\"marker\": {\"colorbar\": {\"outlinewidth\": 0, \"ticks\": \"\"}}, \"type\": \"scatterpolargl\"}], \"scatterternary\": [{\"marker\": {\"colorbar\": {\"outlinewidth\": 0, \"ticks\": \"\"}}, \"type\": \"scatterternary\"}], \"surface\": [{\"colorbar\": {\"outlinewidth\": 0, \"ticks\": \"\"}, \"colorscale\": [[0.0, \"#0d0887\"], [0.1111111111111111, \"#46039f\"], [0.2222222222222222, \"#7201a8\"], [0.3333333333333333, \"#9c179e\"], [0.4444444444444444, \"#bd3786\"], [0.5555555555555556, \"#d8576b\"], [0.6666666666666666, \"#ed7953\"], [0.7777777777777778, \"#fb9f3a\"], [0.8888888888888888, \"#fdca26\"], [1.0, \"#f0f921\"]], \"type\": \"surface\"}], \"table\": [{\"cells\": {\"fill\": {\"color\": \"#EBF0F8\"}, \"line\": {\"color\": \"white\"}}, \"header\": {\"fill\": {\"color\": \"#C8D4E3\"}, \"line\": {\"color\": \"white\"}}, \"type\": \"table\"}]}, \"layout\": {\"annotationdefaults\": {\"arrowcolor\": \"#2a3f5f\", \"arrowhead\": 0, \"arrowwidth\": 1}, \"coloraxis\": {\"colorbar\": {\"outlinewidth\": 0, \"ticks\": \"\"}}, \"colorscale\": {\"diverging\": [[0, \"#8e0152\"], [0.1, \"#c51b7d\"], [0.2, \"#de77ae\"], [0.3, \"#f1b6da\"], [0.4, \"#fde0ef\"], [0.5, \"#f7f7f7\"], [0.6, \"#e6f5d0\"], [0.7, \"#b8e186\"], [0.8, \"#7fbc41\"], [0.9, \"#4d9221\"], [1, \"#276419\"]], \"sequential\": [[0.0, \"#0d0887\"], [0.1111111111111111, \"#46039f\"], [0.2222222222222222, \"#7201a8\"], [0.3333333333333333, \"#9c179e\"], [0.4444444444444444, \"#bd3786\"], [0.5555555555555556, \"#d8576b\"], [0.6666666666666666, \"#ed7953\"], [0.7777777777777778, \"#fb9f3a\"], [0.8888888888888888, \"#fdca26\"], [1.0, \"#f0f921\"]], \"sequentialminus\": [[0.0, \"#0d0887\"], [0.1111111111111111, \"#46039f\"], [0.2222222222222222, \"#7201a8\"], [0.3333333333333333, \"#9c179e\"], [0.4444444444444444, \"#bd3786\"], [0.5555555555555556, \"#d8576b\"], [0.6666666666666666, \"#ed7953\"], [0.7777777777777778, \"#fb9f3a\"], [0.8888888888888888, \"#fdca26\"], [1.0, \"#f0f921\"]]}, \"colorway\": [\"#636efa\", \"#EF553B\", \"#00cc96\", \"#ab63fa\", \"#FFA15A\", \"#19d3f3\", \"#FF6692\", \"#B6E880\", \"#FF97FF\", \"#FECB52\"], \"font\": {\"color\": \"#2a3f5f\"}, \"geo\": {\"bgcolor\": \"white\", \"lakecolor\": \"white\", \"landcolor\": \"#E5ECF6\", \"showlakes\": true, \"showland\": true, \"subunitcolor\": \"white\"}, \"hoverlabel\": {\"align\": \"left\"}, \"hovermode\": \"closest\", \"mapbox\": {\"style\": \"light\"}, \"paper_bgcolor\": \"white\", \"plot_bgcolor\": \"#E5ECF6\", \"polar\": {\"angularaxis\": {\"gridcolor\": \"white\", \"linecolor\": \"white\", \"ticks\": \"\"}, \"bgcolor\": \"#E5ECF6\", \"radialaxis\": {\"gridcolor\": \"white\", \"linecolor\": \"white\", \"ticks\": \"\"}}, \"scene\": {\"xaxis\": {\"backgroundcolor\": \"#E5ECF6\", \"gridcolor\": \"white\", \"gridwidth\": 2, \"linecolor\": \"white\", \"showbackground\": true, \"ticks\": \"\", \"zerolinecolor\": \"white\"}, \"yaxis\": {\"backgroundcolor\": \"#E5ECF6\", \"gridcolor\": \"white\", \"gridwidth\": 2, \"linecolor\": \"white\", \"showbackground\": true, \"ticks\": \"\", \"zerolinecolor\": \"white\"}, \"zaxis\": {\"backgroundcolor\": \"#E5ECF6\", \"gridcolor\": \"white\", \"gridwidth\": 2, \"linecolor\": \"white\", \"showbackground\": true, \"ticks\": \"\", \"zerolinecolor\": \"white\"}}, \"shapedefaults\": {\"line\": {\"color\": \"#2a3f5f\"}}, \"ternary\": {\"aaxis\": {\"gridcolor\": \"white\", \"linecolor\": \"white\", \"ticks\": \"\"}, \"baxis\": {\"gridcolor\": \"white\", \"linecolor\": \"white\", \"ticks\": \"\"}, \"bgcolor\": \"#E5ECF6\", \"caxis\": {\"gridcolor\": \"white\", \"linecolor\": \"white\", \"ticks\": \"\"}}, \"title\": {\"x\": 0.05}, \"xaxis\": {\"automargin\": true, \"gridcolor\": \"white\", \"linecolor\": \"white\", \"ticks\": \"\", \"title\": {\"standoff\": 15}, \"zerolinecolor\": \"white\", \"zerolinewidth\": 2}, \"yaxis\": {\"automargin\": true, \"gridcolor\": \"white\", \"linecolor\": \"white\", \"ticks\": \"\", \"title\": {\"standoff\": 15}, \"zerolinecolor\": \"white\", \"zerolinewidth\": 2}}}},\n",
              "                        {\"responsive\": true}\n",
              "                    ).then(function(){\n",
              "                            \n",
              "var gd = document.getElementById('353da95a-d8a4-4245-9004-79adff5effd7');\n",
              "var x = new MutationObserver(function (mutations, observer) {{\n",
              "        var display = window.getComputedStyle(gd).display;\n",
              "        if (!display || display === 'none') {{\n",
              "            console.log([gd, 'removed!']);\n",
              "            Plotly.purge(gd);\n",
              "            observer.disconnect();\n",
              "        }}\n",
              "}});\n",
              "\n",
              "// Listen for the removal of the full notebook cells\n",
              "var notebookContainer = gd.closest('#notebook-container');\n",
              "if (notebookContainer) {{\n",
              "    x.observe(notebookContainer, {childList: true});\n",
              "}}\n",
              "\n",
              "// Listen for the clearing of the current output cell\n",
              "var outputEl = gd.closest('.output');\n",
              "if (outputEl) {{\n",
              "    x.observe(outputEl, {childList: true});\n",
              "}}\n",
              "\n",
              "                        })\n",
              "                };\n",
              "                \n",
              "            </script>\n",
              "        </div>\n",
              "</body>\n",
              "</html>"
            ]
          },
          "metadata": {
            "tags": []
          }
        }
      ]
    },
    {
      "cell_type": "markdown",
      "metadata": {
        "id": "aC_NssYn64ID"
      },
      "source": [
        "# 2. Model and Algorithm\n",
        "\n",
        "\n",
        "\n",
        "\n",
        "\n",
        "\n",
        "\n"
      ]
    },
    {
      "cell_type": "code",
      "metadata": {
        "colab": {
          "base_uri": "https://localhost:8080/"
        },
        "id": "sRdlf0QgQ9Za",
        "outputId": "fcd43bb5-bee7-40fd-867f-b42c2d4e1d21"
      },
      "source": [
        "# Define constants\r\n",
        "RATE_ALPHA = 1\r\n",
        "WALK_SPEED = 1.5\r\n",
        "NUM_V = len(origin_lat)\r\n",
        "NUM_P = len(vacant_parkings)\r\n",
        "LARGER_NUM = 1000000\r\n",
        "print(NUM_V, NUM_P)"
      ],
      "execution_count": null,
      "outputs": [
        {
          "output_type": "stream",
          "text": [
            "10 139\n"
          ],
          "name": "stdout"
        }
      ]
    },
    {
      "cell_type": "markdown",
      "metadata": {
        "id": "GCL_asoN0zWQ"
      },
      "source": [
        "## Helpers"
      ]
    },
    {
      "cell_type": "code",
      "metadata": {
        "id": "0jgMPkAnPD5J"
      },
      "source": [
        "'''\r\n",
        "These are helpers necessay to compute the cost matrix.\r\n",
        "'''\r\n",
        "# Generate vehicle list\r\n",
        "def vehicle_list(origin_lat, origin_long, dest_lat, dest_long, hours):\r\n",
        "  list_V = []\r\n",
        "  for i in range(NUM_V):\r\n",
        "    origin_node, origin_dist = ox.distance.get_nearest_node(G, (origin_lat[i], origin_long[i]), method='haversine', return_dist=True)\r\n",
        "    dest_node, dest_dist = ox.distance.get_nearest_node(G, (dest_lat[i], dest_long[i]), method='haversine', return_dist=True)\r\n",
        "    dict_V = {\r\n",
        "        \"origin_lat\": origin_lat[i],\r\n",
        "        \"origin_long\": origin_long[i],\r\n",
        "        \"dest_lat\": dest_lat[i],\r\n",
        "        \"dest_long\": dest_long[i],\r\n",
        "        \"hours\": hours[i],\r\n",
        "        \"origin_node\": origin_node,\r\n",
        "        \"origin_dist\": origin_dist,\r\n",
        "        \"dest_node\": dest_node,\r\n",
        "        \"dest_dist\": dest_dist\r\n",
        "        }\r\n",
        "    list_V.append(dict_V)\r\n",
        "  \r\n",
        "  return list_V\r\n",
        "\r\n",
        "# Generate parking lot list\r\n",
        "def parking_list(vacant_parkings):\r\n",
        "  list_P = []\r\n",
        "  for i in range(NUM_P):\r\n",
        "    node, dist = ox.distance.get_nearest_node(G, (vacant_parkings[i][\"Latitude\"], vacant_parkings[i][\"Longitude\"]), method='haversine', return_dist=True)\r\n",
        "    dict_P = {\r\n",
        "        \"lat\": vacant_parkings[i][\"Latitude\"],\r\n",
        "        \"long\": vacant_parkings[i][\"Longitude\"],\r\n",
        "        \"node\": node,\r\n",
        "        \"dist\": dist,\r\n",
        "        \"RateType\": vacant_parkings[i][\"RateType\"],\r\n",
        "        \"HourlyRate\": vacant_parkings[i][\"HourlyRate\"],\r\n",
        "        \"HourLimit\": vacant_parkings[i][\"HourLimit\"],\r\n",
        "        \"MaxRate\": vacant_parkings[i][\"MaxRate\"]\r\n",
        "        }\r\n",
        "    list_P.append(dict_P)\r\n",
        "  \r\n",
        "  return list_P\r\n",
        "\r\n",
        "# Computer distance between two lat-longs\r\n",
        "def dist_lat_long(lat1, long1, lat2, long2):\r\n",
        "  # approximate radius of earth in km\r\n",
        "  R = 6373.0\r\n",
        "\r\n",
        "  lat1 = radians(lat1)\r\n",
        "  long1 = radians(long1)\r\n",
        "  lat2 = radians(lat2)\r\n",
        "  long2 = radians(long2)\r\n",
        "\r\n",
        "  dlon = long2 - long1\r\n",
        "  dlat = lat2 - lat1\r\n",
        "\r\n",
        "  a = sin(dlat / 2)**2 + cos(lat1) * cos(lat2) * sin(dlon / 2)**2\r\n",
        "  c = 2 * atan2(sqrt(a), sqrt(1 - a))\r\n",
        "\r\n",
        "  distance = R * c\r\n",
        "  \r\n",
        "  return distance * 1000\r\n",
        "\r\n",
        "# Compute move time between the actual location and the nearest node\r\n",
        "def time_to_node(lat, long, node_id, walk = False):\r\n",
        "  node = G.nodes[node_id]\r\n",
        "  u, v, key = ox.distance.get_nearest_edge(G, (lat, long))\r\n",
        "  edge = G[u][v][key]\r\n",
        "  speed = edge[\"speed_kph\"]\r\n",
        "  speed = speed / 3.6\r\n",
        "\r\n",
        "  if walk:\r\n",
        "    speed = WALK_SPEED\r\n",
        "  \r\n",
        "  dist = dist_lat_long(lat, long, node[\"y\"], node[\"x\"])\r\n",
        "  time = dist/speed\r\n",
        "\r\n",
        "  return time\r\n",
        "\r\n",
        "# Compute travel time (in minutes) for a vehicle-parking pair\r\n",
        "def get_drive_time(v, p, G):\r\n",
        "  # Travel time between two end nodes\r\n",
        "  path = ox.distance.shortest_path(G, v[\"origin_node\"], p[\"node\"], weight='length')\r\n",
        "  time_list = ox.utils_graph.get_route_edge_attributes(G, path, attribute=\"travel_time\", minimize_key='length')\r\n",
        "  time_list = np.array(time_list)\r\n",
        "  time = np.sum(time_list)\r\n",
        "  # Drive time between actual locations and nodes\r\n",
        "  start_time = time_to_node(v[\"origin_lat\"], v[\"origin_long\"], v[\"origin_node\"])\r\n",
        "  end_time = time_to_node(p[\"lat\"], p[\"long\"], p[\"node\"])\r\n",
        "  time = time + start_time + end_time\r\n",
        "  \r\n",
        "  return time\r\n",
        "\r\n",
        "def get_walk_time(v, p, G):\r\n",
        "  # Travel time between two end nodes\r\n",
        "  path = ox.distance.shortest_path(G, v[\"dest_node\"], p[\"node\"], weight='length')\r\n",
        "  length_list = ox.utils_graph.get_route_edge_attributes(G, path, attribute=\"length\", minimize_key='length')\r\n",
        "  length_list = np.array(length_list)\r\n",
        "  length_list = np.sum(length_list)\r\n",
        "  time = length_list / WALK_SPEED\r\n",
        "  # Drive time between actual locations and nodes\r\n",
        "  start_time = time_to_node(v[\"dest_lat\"], v[\"dest_long\"], v[\"dest_node\"], walk = True)\r\n",
        "  end_time = time_to_node(p[\"lat\"], p[\"long\"], p[\"node\"], walk = True)\r\n",
        "  time = time + start_time + end_time\r\n",
        "  \r\n",
        "  return time\r\n",
        "\r\n",
        "# Compute the drive time matrix\r\n",
        "def get_D(list_V, list_P, G):\r\n",
        "  D = np.zeros((NUM_V, NUM_P))\r\n",
        "  for i in range(NUM_V):\r\n",
        "    for j in range(NUM_P):\r\n",
        "      v = list_V[i]\r\n",
        "      p = list_P[j]\r\n",
        "      if v['hours'] > p['HourLimit']:\r\n",
        "        D[i][j] = LARGER_NUM\r\n",
        "      else:\r\n",
        "        D[i][j] = get_drive_time(v, p, G)\r\n",
        "    \r\n",
        "  return D\r\n",
        "\r\n",
        "# Compute the walk time matrix\r\n",
        "def get_W(list_V, list_P, G):\r\n",
        "  W = np.zeros((NUM_V, NUM_P))\r\n",
        "  for i in range(NUM_V):\r\n",
        "    for j in range(NUM_P):\r\n",
        "      v = list_V[i]\r\n",
        "      p = list_P[j]\r\n",
        "      if v['hours'] > p['HourLimit']:\r\n",
        "        W[i][j] = 0\r\n",
        "      else:\r\n",
        "        W[i][j] = get_walk_time(v, p, G)\r\n",
        "    \r\n",
        "  return W\r\n",
        "\r\n",
        "# Compute the rate matrix\r\n",
        "def get_R(list_V, list_P, G):\r\n",
        "  R = np.zeros((NUM_V, NUM_P))\r\n",
        "  for i in range(NUM_V):\r\n",
        "    for j in range(NUM_P):\r\n",
        "      v = list_V[i]\r\n",
        "      p = list_P[j]\r\n",
        "      fee = v['hours'] * p['HourlyRate'] \r\n",
        "      if fee > p['MaxRate']:\r\n",
        "        fee = p['MaxRate']\r\n",
        "      R[i][j] = fee\r\n",
        "    \r\n",
        "  return R\r\n",
        "\r\n",
        "# Reconstruct path\r\n",
        "def path_lat_long(v, p, G):\r\n",
        "  path_lat = [v['origin_lat']]\r\n",
        "  path_long = [v['origin_long']]\r\n",
        "\r\n",
        "  # Driving part\r\n",
        "  d_path = ox.distance.shortest_path(G, v['origin_node'], p['node'], weight='length')\r\n",
        "  for d_node in d_path:\r\n",
        "    path_lat.append(G.nodes[d_node]['y'])\r\n",
        "    path_long.append(G.nodes[d_node]['x'])\r\n",
        "  path_lat.append(p['lat'])\r\n",
        "  path_long.append(p['long'])\r\n",
        "\r\n",
        "  # Walk Part\r\n",
        "  w_path = ox.distance.shortest_path(G, p[\"node\"], v[\"dest_node\"], weight='length')\r\n",
        "  for w_node in w_path:\r\n",
        "    path_lat.append(G.nodes[w_node]['y'])\r\n",
        "    path_long.append(G.nodes[w_node]['x'])\r\n",
        "  path_lat.append(v['dest_lat'])\r\n",
        "  path_long.append(v['dest_long'])\r\n",
        "\r\n",
        "  return path_lat, path_long\r\n"
      ],
      "execution_count": null,
      "outputs": []
    },
    {
      "cell_type": "markdown",
      "metadata": {
        "id": "1sWhmzOv0bru"
      },
      "source": [
        "## Problem Modelling"
      ]
    },
    {
      "cell_type": "code",
      "metadata": {
        "colab": {
          "base_uri": "https://localhost:8080/"
        },
        "id": "5ruMqNKPRJKn",
        "outputId": "1d17f938-4547-4d33-ef27-840d4c908cf7"
      },
      "source": [
        "'''\r\n",
        "Actual algorithms and problem modelling starts here.\r\n",
        "'''\r\n",
        "start_time = time.time()\r\n",
        "\r\n",
        "# Prepare lists\r\n",
        "list_V = vehicle_list(origin_lat, origin_long, dest_lat, dest_long, hours)\r\n",
        "list_P = parking_list(vacant_parkings)\r\n",
        "\r\n",
        "# Compute the cost matrix C\r\n",
        "D = get_D(list_V, list_P, G)\r\n",
        "W = get_W(list_V, list_P, G)\r\n",
        "R = get_R(list_V, list_P, G)\r\n",
        "R_penalty = RATE_ALPHA * np.multiply(R, W)\r\n",
        "C = D + W + R_penalty\r\n",
        "\r\n",
        "print(\"--- Time to compute C: %s seconds ---\" % (time.time() - start_time))"
      ],
      "execution_count": null,
      "outputs": [
        {
          "output_type": "stream",
          "text": [
            "--- Time to compute C: 167.9888072013855 seconds ---\n"
          ],
          "name": "stdout"
        }
      ]
    },
    {
      "cell_type": "markdown",
      "metadata": {
        "id": "nO0mFOsglbq9"
      },
      "source": [
        "## Basic Greedy Algorithm"
      ]
    },
    {
      "cell_type": "code",
      "metadata": {
        "id": "-lnX0elilfQ2"
      },
      "source": [
        "def basic_greedy(C):\r\n",
        "  X = np.zeros((NUM_V, NUM_P))\r\n",
        "  P_ind = []\r\n",
        "  for i in range(NUM_V):\r\n",
        "    sorted_ind = np.argsort(C[i])[ : NUM_V]\r\n",
        "    for ind in sorted_ind:\r\n",
        "      if ind not in P_ind:\r\n",
        "        P_ind.append(ind)\r\n",
        "        # print(C[i][ind])\r\n",
        "        break\r\n",
        "  \r\n",
        "  for i in range(NUM_V):\r\n",
        "    X[i][P_ind[i]] = 1\r\n",
        "  \r\n",
        "  return X\r\n"
      ],
      "execution_count": null,
      "outputs": []
    },
    {
      "cell_type": "code",
      "metadata": {
        "colab": {
          "base_uri": "https://localhost:8080/"
        },
        "id": "x1vxrt2Ro9YS",
        "outputId": "af635c30-a199-4a5e-bd48-a94f9b54970c"
      },
      "source": [
        "start_time = time.time()\r\n",
        "greedy_X = basic_greedy(C)\r\n",
        "greedy_runtime = time.time() - start_time\r\n",
        "print(\"--- Greedy run time: %s seconds ---\" % greedy_runtime)\r\n",
        "\r\n",
        "# Show results\r\n",
        "greedy_row_ind = []\r\n",
        "greedy_col_ind = []\r\n",
        "for i in range(NUM_V):\r\n",
        "  greedy_row_ind.append(i)\r\n",
        "  row = greedy_X[i]\r\n",
        "  greedy_col_ind.append(np.argwhere(row == 1)[0][0])\r\n",
        "\r\n",
        "greedy_cost = np.sum(np.multiply(greedy_X, C))\r\n",
        "print('Greedy cost: ', greedy_cost)\r\n",
        "print('Greedy assignment: ', greedy_col_ind)"
      ],
      "execution_count": null,
      "outputs": [
        {
          "output_type": "stream",
          "text": [
            "--- Greedy run time: 0.0003197193145751953 seconds ---\n",
            "Greedy cost:  3490.9193571218802\n",
            "Greedy assignment:  [84, 117, 24, 59, 72, 73, 97, 128, 48, 95]\n"
          ],
          "name": "stdout"
        }
      ]
    },
    {
      "cell_type": "code",
      "metadata": {
        "colab": {
          "base_uri": "https://localhost:8080/",
          "height": 542
        },
        "id": "Y0tgl8qx_7sw",
        "outputId": "ec332886-70f3-4958-e8dd-531d17847e1a"
      },
      "source": [
        "# Plot results\r\n",
        "fig = go.Figure()\r\n",
        "fig = fig_add_test_cases(fig, p_lat, p_long, vacp_lat, vacp_long, vacant_parkings, origin_lat, origin_long, dest_lat, dest_long, hours)\r\n",
        "fig = fig_add_result_paths(fig, greedy_row_ind, greedy_col_ind, list_V, list_P)\r\n",
        "fig.show()"
      ],
      "execution_count": null,
      "outputs": [
        {
          "output_type": "display_data",
          "data": {
            "text/html": [
              "<html>\n",
              "<head><meta charset=\"utf-8\" /></head>\n",
              "<body>\n",
              "    <div>\n",
              "            <script src=\"https://cdnjs.cloudflare.com/ajax/libs/mathjax/2.7.5/MathJax.js?config=TeX-AMS-MML_SVG\"></script><script type=\"text/javascript\">if (window.MathJax) {MathJax.Hub.Config({SVG: {font: \"STIX-Web\"}});}</script>\n",
              "                <script type=\"text/javascript\">window.PlotlyConfig = {MathJaxConfig: 'local'};</script>\n",
              "        <script src=\"https://cdn.plot.ly/plotly-latest.min.js\"></script>    \n",
              "            <div id=\"af94dd19-869c-4c1e-b87e-a101e45e6984\" class=\"plotly-graph-div\" style=\"height:525px; width:100%;\"></div>\n",
              "            <script type=\"text/javascript\">\n",
              "                \n",
              "                    window.PLOTLYENV=window.PLOTLYENV || {};\n",
              "                    \n",
              "                if (document.getElementById(\"af94dd19-869c-4c1e-b87e-a101e45e6984\")) {\n",
              "                    Plotly.newPlot(\n",
              "                        'af94dd19-869c-4c1e-b87e-a101e45e6984',\n",
              "                        [{\"lat\": [34.040251, 34.039715, 34.039839, 34.039673, 34.041576, 34.039273, 34.040221, 34.039802, 34.04044, 34.042094, 34.042382, 34.040272, 34.040754, 34.040363, 34.039163, 34.040416, 34.039911, 34.041313, 34.040629, 34.039178, 34.041838, 34.042397, 34.039631, 34.041533, 34.042111, 34.039818, 34.042067, 34.042506, 34.039593, 34.042517, 34.041645, 34.039187, 34.042127, 34.041807, 34.041486, 34.040402, 34.042296, 34.040348, 34.04235, 34.04176, 34.042038, 34.039381, 34.042278, 34.041281, 34.040588, 34.04231, 34.039724, 34.04168, 34.039243, 34.040291, 34.041618, 34.03988, 34.042759, 34.041248, 34.042314, 34.042225, 34.040658, 34.042366, 34.042262, 34.039871, 34.041411, 34.041729, 34.039685, 34.039537, 34.041566, 34.042554, 34.042638, 34.040406, 34.040138, 34.040441, 34.039703, 34.041725, 34.04008, 34.039942, 34.041062, 34.039244, 34.040186, 34.042166, 34.04014, 34.03931, 34.039124, 34.041104, 34.039846, 34.040455, 34.039504, 34.040333, 34.040123, 34.040536, 34.039183, 34.040537, 34.039054, 34.040248, 34.040313, 34.040044, 34.040575, 34.042572, 34.040487, 34.039747, 34.039361, 34.040268, 34.041324, 34.039925, 34.039364, 34.039193, 34.041687, 34.041435, 34.039967, 34.040768, 34.039708, 34.04049, 34.03992, 34.041455, 34.040922, 34.040331, 34.041976, 34.03922, 34.040226, 34.040982, 34.039795, 34.039706, 34.039791, 34.04093, 34.039074, 34.040189, 34.040429, 34.040319, 34.039326, 34.041764, 34.041378, 34.039703, 34.041177, 34.04206, 34.039931, 34.039143, 34.039902, 34.04018, 34.039889, 34.039977, 34.041117, 34.03927, 34.039999, 34.040026, 34.040624, 34.039543, 34.040865, 34.04028, 34.040511, 34.040534, 34.042064, 34.040354, 34.041079, 34.039278, 34.042373, 34.04152, 34.041017, 34.039148, 34.042621, 34.040777, 34.039846, 34.040015, 34.039169, 34.041284, 34.039758, 34.039233, 34.041256, 34.040375, 34.04142, 34.040717, 34.039059, 34.039433, 34.042004, 34.039315, 34.04036, 34.042326, 34.04167, 34.040309, 34.040191, 34.040414, 34.040813, 34.039412, 34.039088, 34.04106, 34.039743, 34.042476, 34.042151, 34.039794, 34.040862, 34.041455, 34.039884, 34.039676, 34.039179, 34.040236, 34.040471, 34.040971, 34.039759, 34.040101, 34.040452, 34.039142, 34.039769, 34.040812, 34.040355, 34.039608, 34.039644, 34.040455, 34.039129, 34.040525, 34.040812, 34.03986, 34.040663, 34.041533, 34.041181, 34.041962, 34.039821, 34.03908, 34.040869, 34.040586, 34.042679, 34.040247, 34.040509, 34.042261, 34.042091, 34.040221, 34.039533, 34.039938, 34.041487, 34.039786, 34.039666, 34.039238, 34.03969, 34.040283, 34.039287, 34.039849, 34.041378, 34.040899, 34.04202, 34.039955, 34.039661, 34.039749, 34.03979, 34.039097, 34.03978, 34.040501, 34.039807, 34.040715, 34.040319, 34.039045, 34.041918, 34.039599, 34.040909, 34.041786, 34.040402, 34.042149, 34.041414, 34.041005, 34.039808, 34.041478, 34.041329, 34.042721, 34.040902, 34.039093, 34.03973, 34.039976, 34.041062, 34.041077, 34.040318, 34.039823, 34.039239, 34.040179, 34.042106, 34.039418, 34.041476, 34.040666, 34.039902, 34.039862, 34.041213, 34.040947, 34.039951, 34.042053, 34.042163, 34.040278, 34.039051, 34.039624, 34.040041, 34.039447, 34.040727, 34.039278, 34.041279, 34.042422, 34.042206, 34.041452, 34.039212, 34.039109, 34.039967, 34.040772, 34.04252, 34.039763, 34.041351, 34.042206], \"lon\": [-118.25319, -118.252843, -118.250218, -118.251762, -118.248779, -118.253051, -118.251776, -118.250177, -118.252735, -118.249576, -118.252947, -118.250986, -118.248122, -118.251808, -118.252953, -118.25155, -118.250734, -118.246273, -118.251499, -118.248225, -118.252562, -118.251465, -118.251032, -118.252767, -118.251869, -118.250833, -118.251938, -118.251562, -118.251074, -118.251302, -118.252858, -118.252522, -118.251847, -118.252608, -118.25284, -118.250024, -118.249614, -118.25008, -118.251775, -118.252682, -118.251983, -118.251301, -118.251626, -118.253143, -118.250013, -118.251582, -118.250933, -118.252807, -118.252583, -118.250141, -118.25264, -118.25217, -118.250978, -118.253194, -118.251824, -118.251699, -118.24975, -118.251508, -118.251902, -118.250775, -118.246171, -118.252731, -118.250974, -118.251134, -118.252719, -118.251496, -118.25114, -118.252777, -118.24867, -118.24998, -118.252575, -118.251975, -118.251938, -118.247424, -118.249508, -118.249939, -118.251095, -118.252448, -118.247217, -118.253009, -118.252996, -118.249463, -118.247526, -118.250618, -118.24986, -118.247303, -118.251888, -118.248184, -118.249252, -118.251604, -118.252377, -118.250186, -118.251864, -118.247317, -118.251561, -118.247855, -118.251664, -118.247628, -118.252162, -118.252957, -118.250709, -118.25053, -118.252951, -118.251499, -118.248676, -118.248922, -118.250674, -118.249821, -118.251717, -118.252667, -118.252123, -118.250561, -118.251379, -118.253085, -118.249975, -118.25311, -118.248561, -118.252033, -118.252465, -118.249394, -118.253186, -118.246676, -118.248334, -118.248605, -118.247202, -118.251662, -118.252208, -118.252015, -118.249173, -118.247675, -118.250873, -118.249616, -118.25143, -118.252219, -118.247467, -118.247462, -118.252358, -118.252057, -118.251587, -118.248417, -118.247364, -118.252001, -118.251058, -118.249902, -118.252181, -118.247357, -118.25144, -118.250071, -118.248326, -118.248404, -118.250983, -118.24812, -118.24804, -118.249021, -118.246584, -118.25248, -118.24781, -118.252507, -118.251538, -118.251319, -118.248521, -118.250754, -118.251651, -118.251458, -118.246333, -118.251599, -118.249129, -118.248169, -118.251454, -118.248247, -118.24968, -118.248081, -118.250515, -118.25288, -118.251915, -118.250938, -118.250596, -118.250573, -118.249584, -118.252096, -118.25216, -118.25214, -118.24935, -118.247946, -118.249777, -118.251604, -118.2524, -118.246126, -118.25149, -118.252803, -118.253156, -118.252998, -118.251485, -118.246632, -118.252509, -118.247258, -118.251705, -118.250056, -118.252906, -118.252461, -118.252844, -118.247775, -118.247736, -118.248485, -118.248562, -118.252624, -118.249775, -118.249204, -118.248233, -118.248819, -118.251986, -118.249727, -118.250641, -118.251621, -118.249716, -118.251018, -118.247756, -118.250655, -118.250676, -118.248145, -118.252632, -118.251051, -118.25194, -118.252299, -118.250526, -118.25228, -118.252619, -118.248162, -118.252389, -118.253149, -118.2514, -118.252403, -118.248984, -118.252136, -118.249926, -118.253111, -118.249763, -118.25012, -118.249088, -118.251412, -118.250875, -118.249916, -118.247567, -118.249691, -118.250471, -118.249973, -118.250039, -118.249963, -118.249671, -118.25019, -118.251761, -118.252695, -118.251904, -118.249569, -118.252947, -118.249065, -118.249227, -118.247718, -118.247739, -118.25242, -118.252343, -118.252254, -118.246536, -118.251544, -118.252891, -118.252237, -118.25126, -118.251824, -118.248289, -118.251261, -118.248879, -118.251455, -118.25305, -118.253008, -118.246376, -118.252074, -118.247703, -118.252591, -118.248236, -118.251708, -118.252119, -118.249725, -118.247608, -118.252052, -118.252361, -118.251219, -118.249277, -118.252986, -118.252491, -118.251946, -118.249777, -118.250095, -118.251382, -118.249629, -118.247907, -118.250704, -118.246233, -118.248195], \"marker\": {\"color\": \"orange\", \"size\": 5}, \"mode\": \"markers\", \"name\": \"Occupied parking\", \"type\": \"scattermapbox\"}, {\"hoverinfo\": \"text\", \"hovertext\": [\"Hourly rate: 2.0; Max rate: 8.0; Hour Limit: 2.0\", \"Hourly rate: 1.5; Max rate: 12.0; Hour Limit: 2.0\", \"Hourly rate: 3.0; Max rate: 8.0; Hour Limit: 2.0\", \"Hourly rate: 0.5; Max rate: 10.0; Hour Limit: 2.0\", \"Hourly rate: 1.5; Max rate: 8.0; Hour Limit: 2.0\", \"Hourly rate: 3.0; Max rate: 10.0; Hour Limit: 2.0\", \"Hourly rate: 3.0; Max rate: 10.0; Hour Limit: 2.0\", \"Hourly rate: 1.5; Max rate: 10.0; Hour Limit: 2.0\", \"Hourly rate: 4.0; Max rate: 8.0; Hour Limit: 2.0\", \"Hourly rate: 4.0; Max rate: 8.0; Hour Limit: 2.0\", \"Hourly rate: 1.5; Max rate: 8.0; Hour Limit: 2.0\", \"Hourly rate: 4.0; Max rate: 8.0; Hour Limit: 2.0\", \"Hourly rate: 1.5; Max rate: 8.0; Hour Limit: 2.0\", \"Hourly rate: 1.5; Max rate: 8.0; Hour Limit: 2.0\", \"Hourly rate: 1.5; Max rate: 8.0; Hour Limit: 2.0\", \"Hourly rate: 4.0; Max rate: 12.0; Hour Limit: 2.0\", \"Hourly rate: 1.5; Max rate: 8.0; Hour Limit: 2.0\", \"Hourly rate: 3.0; Max rate: 8.0; Hour Limit: 2.0\", \"Hourly rate: 4.0; Max rate: 8.0; Hour Limit: 2.0\", \"Hourly rate: 2.0; Max rate: 24.0; Hour Limit: 4.0\", \"Hourly rate: 2.0; Max rate: 8.0; Hour Limit: 2.0\", \"Hourly rate: 1.5; Max rate: 8.0; Hour Limit: 2.0\", \"Hourly rate: 4.0; Max rate: 8.0; Hour Limit: 2.0\", \"Hourly rate: 1.5; Max rate: 8.0; Hour Limit: 2.0\", \"Hourly rate: 0.5; Max rate: 24.0; Hour Limit: 4.0\", \"Hourly rate: 1.5; Max rate: 8.0; Hour Limit: 2.0\", \"Hourly rate: 3.0; Max rate: 8.0; Hour Limit: 2.0\", \"Hourly rate: 4.0; Max rate: 12.0; Hour Limit: 2.0\", \"Hourly rate: 4.0; Max rate: 8.0; Hour Limit: 2.0\", \"Hourly rate: 3.0; Max rate: 10.0; Hour Limit: 2.0\", \"Hourly rate: 1.5; Max rate: 8.0; Hour Limit: 2.0\", \"Hourly rate: 4.0; Max rate: 8.0; Hour Limit: 2.0\", \"Hourly rate: 2.0; Max rate: 8.0; Hour Limit: 2.0\", \"Hourly rate: 1.5; Max rate: 8.0; Hour Limit: 2.0\", \"Hourly rate: 1.5; Max rate: 8.0; Hour Limit: 2.0\", \"Hourly rate: 2.0; Max rate: 8.0; Hour Limit: 2.0\", \"Hourly rate: 3.0; Max rate: 8.0; Hour Limit: 2.0\", \"Hourly rate: 4.0; Max rate: 8.0; Hour Limit: 2.0\", \"Hourly rate: 4.0; Max rate: 8.0; Hour Limit: 2.0\", \"Hourly rate: 1.5; Max rate: 8.0; Hour Limit: 2.0\", \"Hourly rate: 3.0; Max rate: 10.0; Hour Limit: 2.0\", \"Hourly rate: 0.5; Max rate: 12.0; Hour Limit: 2.0\", \"Hourly rate: 3.0; Max rate: 8.0; Hour Limit: 2.0\", \"Hourly rate: 0.5; Max rate: 10.0; Hour Limit: 2.0\", \"Hourly rate: 3.0; Max rate: 10.0; Hour Limit: 2.0\", \"Hourly rate: 4.0; Max rate: 12.0; Hour Limit: 2.0\", \"Hourly rate: 0.5; Max rate: 6.0; Hour Limit: 4.0\", \"Hourly rate: 4.0; Max rate: 8.0; Hour Limit: 2.0\", \"Hourly rate: 1.5; Max rate: 8.0; Hour Limit: 2.0\", \"Hourly rate: 4.0; Max rate: 8.0; Hour Limit: 2.0\", \"Hourly rate: 0.5; Max rate: 10.0; Hour Limit: 2.0\", \"Hourly rate: 0.5; Max rate: 24.0; Hour Limit: 4.0\", \"Hourly rate: 3.0; Max rate: 8.0; Hour Limit: 2.0\", \"Hourly rate: 3.0; Max rate: 10.0; Hour Limit: 2.0\", \"Hourly rate: 2.0; Max rate: 24.0; Hour Limit: 4.0\", \"Hourly rate: 1.5; Max rate: 8.0; Hour Limit: 2.0\", \"Hourly rate: 3.0; Max rate: 8.0; Hour Limit: 2.0\", \"Hourly rate: 4.0; Max rate: 8.0; Hour Limit: 2.0\", \"Hourly rate: 5.0; Max rate: 10.0; Hour Limit: 2.0\", \"Hourly rate: 1.0; Max rate: 3.0; Hour Limit: 2.0\", \"Hourly rate: 3.0; Max rate: 8.0; Hour Limit: 2.0\", \"Hourly rate: 3.0; Max rate: 10.0; Hour Limit: 2.0\", \"Hourly rate: 0.5; Max rate: 24.0; Hour Limit: 4.0\", \"Hourly rate: 3.0; Max rate: 8.0; Hour Limit: 2.0\", \"Hourly rate: 4.0; Max rate: 12.0; Hour Limit: 2.0\", \"Hourly rate: 4.0; Max rate: 8.0; Hour Limit: 2.0\", \"Hourly rate: 3.0; Max rate: 10.0; Hour Limit: 2.0\", \"Hourly rate: 0.5; Max rate: 6.0; Hour Limit: 4.0\", \"Hourly rate: 3.0; Max rate: 10.0; Hour Limit: 2.0\", \"Hourly rate: 4.0; Max rate: 10.0; Hour Limit: 2.0\", \"Hourly rate: 0.5; Max rate: 12.0; Hour Limit: 2.0\", \"Hourly rate: 3.0; Max rate: 8.0; Hour Limit: 2.0\", \"Hourly rate: 0.5; Max rate: 6.0; Hour Limit: 4.0\", \"Hourly rate: 2.0; Max rate: 24.0; Hour Limit: 4.0\", \"Hourly rate: 0.5; Max rate: 6.0; Hour Limit: 4.0\", \"Hourly rate: 1.0; Max rate: 3.0; Hour Limit: 2.0\", \"Hourly rate: 4.0; Max rate: 12.0; Hour Limit: 2.0\", \"Hourly rate: 0.5; Max rate: 6.0; Hour Limit: 4.0\", \"Hourly rate: 3.0; Max rate: 8.0; Hour Limit: 2.0\", \"Hourly rate: 3.0; Max rate: 8.0; Hour Limit: 2.0\", \"Hourly rate: 3.0; Max rate: 8.0; Hour Limit: 2.0\", \"Hourly rate: 1.0; Max rate: 3.0; Hour Limit: 2.0\", \"Hourly rate: 3.0; Max rate: 10.0; Hour Limit: 2.0\", \"Hourly rate: 2.0; Max rate: 8.0; Hour Limit: 2.0\", \"Hourly rate: 0.5; Max rate: 24.0; Hour Limit: 4.0\", \"Hourly rate: 3.0; Max rate: 10.0; Hour Limit: 2.0\", \"Hourly rate: 3.0; Max rate: 8.0; Hour Limit: 2.0\", \"Hourly rate: 4.0; Max rate: 12.0; Hour Limit: 2.0\", \"Hourly rate: 0.5; Max rate: 6.0; Hour Limit: 4.0\", \"Hourly rate: 2.0; Max rate: 24.0; Hour Limit: 4.0\", \"Hourly rate: 3.0; Max rate: 8.0; Hour Limit: 2.0\", \"Hourly rate: 2.0; Max rate: 8.0; Hour Limit: 2.0\", \"Hourly rate: 3.0; Max rate: 8.0; Hour Limit: 2.0\", \"Hourly rate: 3.0; Max rate: 8.0; Hour Limit: 2.0\", \"Hourly rate: 3.0; Max rate: 10.0; Hour Limit: 2.0\", \"Hourly rate: 1.0; Max rate: 3.0; Hour Limit: 2.0\", \"Hourly rate: 4.0; Max rate: 8.0; Hour Limit: 2.0\", \"Hourly rate: 0.5; Max rate: 6.0; Hour Limit: 4.0\", \"Hourly rate: 4.0; Max rate: 8.0; Hour Limit: 2.0\", \"Hourly rate: 1.5; Max rate: 12.0; Hour Limit: 2.0\", \"Hourly rate: 3.0; Max rate: 8.0; Hour Limit: 2.0\", \"Hourly rate: 0.5; Max rate: 6.0; Hour Limit: 4.0\", \"Hourly rate: 0.5; Max rate: 6.0; Hour Limit: 4.0\", \"Hourly rate: 0.5; Max rate: 24.0; Hour Limit: 4.0\", \"Hourly rate: 4.0; Max rate: 8.0; Hour Limit: 2.0\", \"Hourly rate: 0.5; Max rate: 6.0; Hour Limit: 4.0\", \"Hourly rate: 0.5; Max rate: 6.0; Hour Limit: 4.0\", \"Hourly rate: 3.0; Max rate: 8.0; Hour Limit: 2.0\", \"Hourly rate: 3.0; Max rate: 10.0; Hour Limit: 2.0\", \"Hourly rate: 4.0; Max rate: 8.0; Hour Limit: 2.0\", \"Hourly rate: 4.0; Max rate: 8.0; Hour Limit: 2.0\", \"Hourly rate: 3.0; Max rate: 8.0; Hour Limit: 2.0\", \"Hourly rate: 2.0; Max rate: 24.0; Hour Limit: 4.0\", \"Hourly rate: 1.5; Max rate: 12.0; Hour Limit: 2.0\", \"Hourly rate: 0.5; Max rate: 24.0; Hour Limit: 4.0\", \"Hourly rate: 2.0; Max rate: 8.0; Hour Limit: 2.0\", \"Hourly rate: 4.0; Max rate: 8.0; Hour Limit: 2.0\", \"Hourly rate: 0.5; Max rate: 12.0; Hour Limit: 2.0\", \"Hourly rate: 2.0; Max rate: 24.0; Hour Limit: 4.0\", \"Hourly rate: 2.0; Max rate: 24.0; Hour Limit: 4.0\", \"Hourly rate: 1.5; Max rate: 12.0; Hour Limit: 2.0\", \"Hourly rate: 0.5; Max rate: 6.0; Hour Limit: 4.0\", \"Hourly rate: 4.0; Max rate: 12.0; Hour Limit: 2.0\", \"Hourly rate: 3.0; Max rate: 10.0; Hour Limit: 2.0\", \"Hourly rate: 4.0; Max rate: 8.0; Hour Limit: 2.0\", \"Hourly rate: 1.0; Max rate: 3.0; Hour Limit: 2.0\", \"Hourly rate: 3.0; Max rate: 8.0; Hour Limit: 2.0\", \"Hourly rate: 3.0; Max rate: 10.0; Hour Limit: 2.0\", \"Hourly rate: 0.5; Max rate: 6.0; Hour Limit: 4.0\", \"Hourly rate: 1.5; Max rate: 12.0; Hour Limit: 2.0\", \"Hourly rate: 1.5; Max rate: 12.0; Hour Limit: 2.0\", \"Hourly rate: 0.5; Max rate: 6.0; Hour Limit: 4.0\", \"Hourly rate: 4.0; Max rate: 12.0; Hour Limit: 2.0\", \"Hourly rate: 0.5; Max rate: 10.0; Hour Limit: 2.0\", \"Hourly rate: 3.0; Max rate: 8.0; Hour Limit: 2.0\", \"Hourly rate: 2.0; Max rate: 8.0; Hour Limit: 2.0\", \"Hourly rate: 3.0; Max rate: 8.0; Hour Limit: 2.0\", \"Hourly rate: 0.5; Max rate: 6.0; Hour Limit: 4.0\", \"Hourly rate: 0.5; Max rate: 6.0; Hour Limit: 4.0\"], \"lat\": [34.040251, 34.039715, 34.039673, 34.041576, 34.039273, 34.040221, 34.042382, 34.040754, 34.040363, 34.039163, 34.042397, 34.041533, 34.042111, 34.042067, 34.042517, 34.039187, 34.042127, 34.041807, 34.041486, 34.042296, 34.04235, 34.042038, 34.039381, 34.042278, 34.040588, 34.04231, 34.04168, 34.039243, 34.041618, 34.03988, 34.042759, 34.041248, 34.042314, 34.042225, 34.042366, 34.042262, 34.041729, 34.039537, 34.041566, 34.042638, 34.04008, 34.039244, 34.040186, 34.040333, 34.040123, 34.039054, 34.042572, 34.040487, 34.039364, 34.039193, 34.041687, 34.040768, 34.039708, 34.03992, 34.041976, 34.03922, 34.040982, 34.039795, 34.039791, 34.04093, 34.039326, 34.041764, 34.041378, 34.039931, 34.039143, 34.039889, 34.039977, 34.039999, 34.040026, 34.040624, 34.039543, 34.040865, 34.042064, 34.041079, 34.042373, 34.041017, 34.039148, 34.042621, 34.039846, 34.040015, 34.039758, 34.041256, 34.040375, 34.039059, 34.042004, 34.042326, 34.039412, 34.039088, 34.042476, 34.042151, 34.039794, 34.040862, 34.039884, 34.040236, 34.040471, 34.040971, 34.039759, 34.040101, 34.040452, 34.039769, 34.040355, 34.039608, 34.039644, 34.040812, 34.03908, 34.042679, 34.042261, 34.039533, 34.039786, 34.039666, 34.039849, 34.040899, 34.04202, 34.039955, 34.039661, 34.039097, 34.03978, 34.040319, 34.041918, 34.041786, 34.039808, 34.042721, 34.039093, 34.03973, 34.039976, 34.041062, 34.040318, 34.039823, 34.042106, 34.039902, 34.039862, 34.042163, 34.039051, 34.040041, 34.039447, 34.039278, 34.039967, 34.04252, 34.042206], \"lon\": [-118.25319, -118.252843, -118.251762, -118.248779, -118.253051, -118.251776, -118.252947, -118.248122, -118.251808, -118.252953, -118.251465, -118.252767, -118.251869, -118.251938, -118.251302, -118.252522, -118.251847, -118.252608, -118.25284, -118.249614, -118.251775, -118.251983, -118.251301, -118.251626, -118.250013, -118.251582, -118.252807, -118.252583, -118.25264, -118.25217, -118.250978, -118.253194, -118.251824, -118.251699, -118.251508, -118.251902, -118.252731, -118.251134, -118.252719, -118.25114, -118.251938, -118.249939, -118.251095, -118.247303, -118.251888, -118.252377, -118.247855, -118.251664, -118.252951, -118.251499, -118.248676, -118.249821, -118.251717, -118.252123, -118.249975, -118.25311, -118.252033, -118.252465, -118.253186, -118.246676, -118.252208, -118.252015, -118.249173, -118.25143, -118.252219, -118.252358, -118.252057, -118.247364, -118.252001, -118.251058, -118.249902, -118.252181, -118.248326, -118.250983, -118.24804, -118.246584, -118.25248, -118.24781, -118.251538, -118.251319, -118.251651, -118.246333, -118.251599, -118.251454, -118.24968, -118.25288, -118.252096, -118.25216, -118.247946, -118.249777, -118.251604, -118.2524, -118.25149, -118.252998, -118.251485, -118.246632, -118.252509, -118.247258, -118.251705, -118.252906, -118.252844, -118.247775, -118.247736, -118.249775, -118.251621, -118.247756, -118.248145, -118.25194, -118.25228, -118.252619, -118.252403, -118.252136, -118.249926, -118.253111, -118.249763, -118.251412, -118.250875, -118.250471, -118.250039, -118.25019, -118.252947, -118.247718, -118.25242, -118.252343, -118.252254, -118.246536, -118.252891, -118.252237, -118.248289, -118.25305, -118.253008, -118.248236, -118.252119, -118.247608, -118.252052, -118.251219, -118.251382, -118.247907, -118.248195], \"marker\": {\"color\": \"darkgreen\", \"size\": 5}, \"mode\": \"markers\", \"name\": \"Vacant parking\", \"type\": \"scattermapbox\"}, {\"lat\": [34.038526], \"lon\": [-118.254028], \"marker\": {\"color\": \"blue\", \"size\": 10}, \"mode\": \"markers\", \"name\": \"Start point 0\", \"type\": \"scattermapbox\"}, {\"lat\": [34.034314], \"lon\": [-118.252074], \"marker\": {\"color\": \"blue\", \"size\": 10}, \"mode\": \"markers\", \"name\": \"Start point 1\", \"type\": \"scattermapbox\"}, {\"lat\": [34.043959], \"lon\": [-118.243785], \"marker\": {\"color\": \"blue\", \"size\": 10}, \"mode\": \"markers\", \"name\": \"Start point 2\", \"type\": \"scattermapbox\"}, {\"lat\": [34.038329], \"lon\": [-118.245367], \"marker\": {\"color\": \"blue\", \"size\": 10}, \"mode\": \"markers\", \"name\": \"Start point 3\", \"type\": \"scattermapbox\"}, {\"lat\": [34.040802], \"lon\": [-118.260495], \"marker\": {\"color\": \"blue\", \"size\": 10}, \"mode\": \"markers\", \"name\": \"Start point 4\", \"type\": \"scattermapbox\"}, {\"lat\": [34.038147], \"lon\": [-118.257064], \"marker\": {\"color\": \"blue\", \"size\": 10}, \"mode\": \"markers\", \"name\": \"Start point 5\", \"type\": \"scattermapbox\"}, {\"lat\": [34.034895], \"lon\": [-118.253033], \"marker\": {\"color\": \"blue\", \"size\": 10}, \"mode\": \"markers\", \"name\": \"Start point 6\", \"type\": \"scattermapbox\"}, {\"lat\": [34.042111], \"lon\": [-118.244735], \"marker\": {\"color\": \"blue\", \"size\": 10}, \"mode\": \"markers\", \"name\": \"Start point 7\", \"type\": \"scattermapbox\"}, {\"lat\": [34.046061], \"lon\": [-118.242705], \"marker\": {\"color\": \"blue\", \"size\": 10}, \"mode\": \"markers\", \"name\": \"Start point 8\", \"type\": \"scattermapbox\"}, {\"lat\": [34.03682], \"lon\": [-118.248662], \"marker\": {\"color\": \"blue\", \"size\": 10}, \"mode\": \"markers\", \"name\": \"Start point 9\", \"type\": \"scattermapbox\"}, {\"hoverinfo\": \"text\", \"hovertext\": \"Destination 0; Hours: 2.0\", \"lat\": [34.042308], \"lon\": [-118.250414], \"marker\": {\"color\": \"red\", \"size\": 10}, \"mode\": \"markers\", \"name\": \"Destination 0\", \"type\": \"scattermapbox\"}, {\"hoverinfo\": \"text\", \"hovertext\": \"Destination 1; Hours: 2.0\", \"lat\": [34.041665], \"lon\": [-118.251708], \"marker\": {\"color\": \"red\", \"size\": 10}, \"mode\": \"markers\", \"name\": \"Destination 1\", \"type\": \"scattermapbox\"}, {\"hoverinfo\": \"text\", \"hovertext\": \"Destination 2; Hours: 2.5\", \"lat\": [34.039068], \"lon\": [-118.251934], \"marker\": {\"color\": \"red\", \"size\": 10}, \"mode\": \"markers\", \"name\": \"Destination 2\", \"type\": \"scattermapbox\"}, {\"hoverinfo\": \"text\", \"hovertext\": \"Destination 3; Hours: 1\", \"lat\": [34.040547], \"lon\": [-118.246945], \"marker\": {\"color\": \"red\", \"size\": 10}, \"mode\": \"markers\", \"name\": \"Destination 3\", \"type\": \"scattermapbox\"}, {\"hoverinfo\": \"text\", \"hovertext\": \"Destination 4; Hours: 0.5\", \"lat\": [34.041726], \"lon\": [-118.248157], \"marker\": {\"color\": \"red\", \"size\": 10}, \"mode\": \"markers\", \"name\": \"Destination 4\", \"type\": \"scattermapbox\"}, {\"hoverinfo\": \"text\", \"hovertext\": \"Destination 5; Hours: 1\", \"lat\": [34.040755], \"lon\": [-118.251687], \"marker\": {\"color\": \"red\", \"size\": 10}, \"mode\": \"markers\", \"name\": \"Destination 5\", \"type\": \"scattermapbox\"}, {\"hoverinfo\": \"text\", \"hovertext\": \"Destination 6; Hours: 2.5\", \"lat\": [34.042034], \"lon\": [-118.247397], \"marker\": {\"color\": \"red\", \"size\": 10}, \"mode\": \"markers\", \"name\": \"Destination 6\", \"type\": \"scattermapbox\"}, {\"hoverinfo\": \"text\", \"hovertext\": \"Destination 7; Hours: 3\", \"lat\": [34.041959], \"lon\": [-118.252433], \"marker\": {\"color\": \"red\", \"size\": 10}, \"mode\": \"markers\", \"name\": \"Destination 7\", \"type\": \"scattermapbox\"}, {\"hoverinfo\": \"text\", \"hovertext\": \"Destination 8; Hours: 1.5\", \"lat\": [34.039944], \"lon\": [-118.252114], \"marker\": {\"color\": \"red\", \"size\": 10}, \"mode\": \"markers\", \"name\": \"Destination 8\", \"type\": \"scattermapbox\"}, {\"hoverinfo\": \"text\", \"hovertext\": \"Destination 9; Hours: 0.5\", \"lat\": [34.041198], \"lon\": [-118.246792], \"marker\": {\"color\": \"red\", \"size\": 10}, \"mode\": \"markers\", \"name\": \"Destination 9\", \"type\": \"scattermapbox\"}, {\"lat\": [34.038526, 34.0382973, 34.0394724, 34.0408341, 34.0424431, 34.042004, 34.0424431, 34.042308], \"line\": {\"color\": \"#636EFA\", \"width\": 4.5}, \"lon\": [-118.254028, -118.2540363, -118.2527045, -118.2511742, -118.249283, -118.24968, -118.249283, -118.250414], \"marker\": {\"size\": 10}, \"mode\": \"lines\", \"name\": \"path_0\", \"type\": \"scattermapbox\"}, {\"lat\": [34.034314, 34.0352169, 34.0359117, 34.0366293, 34.037278, 34.0385034, 34.0391437, 34.0394174, 34.0401238, 34.040319, 34.0401238, 34.040506, 34.0408341, 34.0413273, 34.041665], \"line\": {\"color\": \"#EF553B\", \"width\": 4.5}, \"lon\": [-118.252074, -118.2521834, -118.2517027, -118.2510571, -118.2503356, -118.2490889, -118.2493545, -118.2496629, -118.250412, -118.250471, -118.250412, -118.2508182, -118.2511742, -118.2516815, -118.251708], \"marker\": {\"size\": 10}, \"mode\": \"lines\", \"name\": \"path_1\", \"type\": \"scattermapbox\"}, {\"lat\": [34.043959, 34.0442021, 34.0445678, 34.0448965, 34.0434656, 34.0419269, 34.0401238, 34.040588, 34.0401238, 34.0387407, 34.039068], \"line\": {\"color\": \"#00CC96\", \"width\": 4.5}, \"lon\": [-118.243785, -118.2439151, -118.2449808, -118.2458399, -118.2471389, -118.2485441, -118.250412, -118.250013, -118.250412, -118.25192, -118.251934], \"marker\": {\"size\": 10}, \"mode\": \"lines\", \"name\": \"path_2\", \"type\": \"scattermapbox\"}, {\"lat\": [34.038329, 34.037839, 34.0384076, 34.0389202, 34.0395353, 34.0407102, 34.04093, 34.0407102, 34.040547], \"line\": {\"color\": \"#AB63FA\", \"width\": 4.5}, \"lon\": [-118.245367, -118.2456195, -118.2464231, -118.2471761, -118.2479788, -118.2467821, -118.246676, -118.2467821, -118.246945], \"marker\": {\"size\": 10}, \"mode\": \"lines\", \"name\": \"path_3\", \"type\": \"scattermapbox\"}, {\"lat\": [34.040802, 34.0408648, 34.0423135, 34.0416166, 34.0409224, 34.0404673, 34.0416058, 34.0419938, 34.0427546, 34.0439323, 34.043267, 34.0424431, 34.0419269, 34.042064, 34.0419269, 34.041726], \"line\": {\"color\": \"#FFA15A\", \"width\": 4.5}, \"lon\": [-118.260495, -118.2608845, -118.2595335, -118.2584557, -118.257417, -118.2567089, -118.2550012, -118.2543843, -118.2531745, -118.2513808, -118.2504401, -118.249283, -118.2485441, -118.248326, -118.2485441, -118.248157], \"marker\": {\"size\": 10}, \"mode\": \"lines\", \"name\": \"path_4\", \"type\": \"scattermapbox\"}, {\"lat\": [34.038147, 34.0384308, 34.0395951, 34.0407353, 34.0404699, 34.0403223, 34.0413273, 34.0408341, 34.041079, 34.0408341, 34.040755], \"line\": {\"color\": \"#19D3F3\", \"width\": 4.5}, \"lon\": [-118.257064, -118.257128, -118.2558518, -118.2541052, -118.2538167, -118.2529893, -118.2516815, -118.2511742, -118.250983, -118.2511742, -118.251687], \"marker\": {\"size\": 10}, \"mode\": \"lines\", \"name\": \"path_5\", \"type\": \"scattermapbox\"}, {\"lat\": [34.034895, 34.0352169, 34.0359117, 34.0366293, 34.037278, 34.0385034, 34.0388101, 34.0395353, 34.0407102, 34.040101, 34.0407102, 34.041176, 34.042034], \"line\": {\"color\": \"#FF6692\", \"width\": 4.5}, \"lon\": [-118.253033, -118.2521834, -118.2517027, -118.2510571, -118.2503356, -118.2490889, -118.2487295, -118.2479788, -118.2467821, -118.247258, -118.2467821, -118.2474616, -118.247397], \"marker\": {\"size\": 10}, \"mode\": \"lines\", \"name\": \"path_6\", \"type\": \"scattermapbox\"}, {\"lat\": [34.042111, 34.0422495, 34.0407102, 34.041176, 34.0419269, 34.042106, 34.0419269, 34.0424431, 34.043267, 34.0419066, 34.041959], \"line\": {\"color\": \"#B6E880\", \"width\": 4.5}, \"lon\": [-118.244735, -118.2452515, -118.2467821, -118.2474616, -118.2485441, -118.248289, -118.2485441, -118.249283, -118.2504401, -118.2523204, -118.252433], \"marker\": {\"size\": 10}, \"mode\": \"lines\", \"name\": \"path_7\", \"type\": \"scattermapbox\"}, {\"lat\": [34.046061, 34.0458226, 34.0449539, 34.0442021, 34.0445678, 34.0448965, 34.0434656, 34.0419269, 34.0424431, 34.0408341, 34.0394724, 34.039364, 34.0394724, 34.039944], \"line\": {\"color\": \"#FF97FF\", \"width\": 4.5}, \"lon\": [-118.242705, -118.243018, -118.2434595, -118.2439151, -118.2449808, -118.2458399, -118.2471389, -118.2485441, -118.249283, -118.2511742, -118.2527045, -118.252951, -118.2527045, -118.252114], \"marker\": {\"size\": 10}, \"mode\": \"lines\", \"name\": \"path_8\", \"type\": \"scattermapbox\"}, {\"lat\": [34.03682, 34.036332, 34.0377329, 34.0378133, 34.0385034, 34.0388101, 34.0395353, 34.0407102, 34.040971, 34.0407102, 34.041198], \"line\": {\"color\": \"#FECB52\", \"width\": 4.5}, \"lon\": [-118.248662, -118.2492716, -118.2482505, -118.2483492, -118.2490889, -118.2487295, -118.2479788, -118.2467821, -118.246632, -118.2467821, -118.246792], \"marker\": {\"size\": 10}, \"mode\": \"lines\", \"name\": \"path_9\", \"type\": \"scattermapbox\"}],\n",
              "                        {\"mapbox\": {\"center\": {\"lat\": 34.0393964, \"lon\": -118.2501948}, \"style\": \"carto-positron\", \"zoom\": 14.5}, \"margin\": {\"b\": 0, \"l\": 0, \"r\": 0, \"t\": 0}, \"template\": {\"data\": {\"bar\": [{\"error_x\": {\"color\": \"#2a3f5f\"}, \"error_y\": {\"color\": \"#2a3f5f\"}, \"marker\": {\"line\": {\"color\": \"#E5ECF6\", \"width\": 0.5}}, \"type\": \"bar\"}], \"barpolar\": [{\"marker\": {\"line\": {\"color\": \"#E5ECF6\", \"width\": 0.5}}, \"type\": \"barpolar\"}], \"carpet\": [{\"aaxis\": {\"endlinecolor\": \"#2a3f5f\", \"gridcolor\": \"white\", \"linecolor\": \"white\", \"minorgridcolor\": \"white\", \"startlinecolor\": \"#2a3f5f\"}, \"baxis\": {\"endlinecolor\": \"#2a3f5f\", \"gridcolor\": \"white\", \"linecolor\": \"white\", \"minorgridcolor\": \"white\", \"startlinecolor\": \"#2a3f5f\"}, \"type\": \"carpet\"}], \"choropleth\": [{\"colorbar\": {\"outlinewidth\": 0, \"ticks\": \"\"}, \"type\": \"choropleth\"}], \"contour\": [{\"colorbar\": {\"outlinewidth\": 0, \"ticks\": \"\"}, \"colorscale\": [[0.0, \"#0d0887\"], [0.1111111111111111, \"#46039f\"], [0.2222222222222222, \"#7201a8\"], [0.3333333333333333, \"#9c179e\"], [0.4444444444444444, \"#bd3786\"], [0.5555555555555556, \"#d8576b\"], [0.6666666666666666, \"#ed7953\"], [0.7777777777777778, \"#fb9f3a\"], [0.8888888888888888, \"#fdca26\"], [1.0, \"#f0f921\"]], \"type\": \"contour\"}], \"contourcarpet\": [{\"colorbar\": {\"outlinewidth\": 0, \"ticks\": \"\"}, \"type\": \"contourcarpet\"}], \"heatmap\": [{\"colorbar\": {\"outlinewidth\": 0, \"ticks\": \"\"}, \"colorscale\": [[0.0, \"#0d0887\"], [0.1111111111111111, \"#46039f\"], [0.2222222222222222, \"#7201a8\"], [0.3333333333333333, \"#9c179e\"], [0.4444444444444444, \"#bd3786\"], [0.5555555555555556, \"#d8576b\"], [0.6666666666666666, \"#ed7953\"], [0.7777777777777778, \"#fb9f3a\"], [0.8888888888888888, \"#fdca26\"], [1.0, \"#f0f921\"]], \"type\": \"heatmap\"}], \"heatmapgl\": [{\"colorbar\": {\"outlinewidth\": 0, \"ticks\": \"\"}, \"colorscale\": [[0.0, \"#0d0887\"], [0.1111111111111111, \"#46039f\"], [0.2222222222222222, \"#7201a8\"], [0.3333333333333333, \"#9c179e\"], [0.4444444444444444, \"#bd3786\"], [0.5555555555555556, \"#d8576b\"], [0.6666666666666666, \"#ed7953\"], [0.7777777777777778, \"#fb9f3a\"], [0.8888888888888888, \"#fdca26\"], [1.0, \"#f0f921\"]], \"type\": \"heatmapgl\"}], \"histogram\": [{\"marker\": {\"colorbar\": {\"outlinewidth\": 0, \"ticks\": \"\"}}, \"type\": \"histogram\"}], \"histogram2d\": [{\"colorbar\": {\"outlinewidth\": 0, \"ticks\": \"\"}, \"colorscale\": [[0.0, \"#0d0887\"], [0.1111111111111111, \"#46039f\"], [0.2222222222222222, \"#7201a8\"], [0.3333333333333333, \"#9c179e\"], [0.4444444444444444, \"#bd3786\"], [0.5555555555555556, \"#d8576b\"], [0.6666666666666666, \"#ed7953\"], [0.7777777777777778, \"#fb9f3a\"], [0.8888888888888888, \"#fdca26\"], [1.0, \"#f0f921\"]], \"type\": \"histogram2d\"}], \"histogram2dcontour\": [{\"colorbar\": {\"outlinewidth\": 0, \"ticks\": \"\"}, \"colorscale\": [[0.0, \"#0d0887\"], [0.1111111111111111, \"#46039f\"], [0.2222222222222222, \"#7201a8\"], [0.3333333333333333, \"#9c179e\"], [0.4444444444444444, \"#bd3786\"], [0.5555555555555556, \"#d8576b\"], [0.6666666666666666, \"#ed7953\"], [0.7777777777777778, \"#fb9f3a\"], [0.8888888888888888, \"#fdca26\"], [1.0, \"#f0f921\"]], \"type\": \"histogram2dcontour\"}], \"mesh3d\": [{\"colorbar\": {\"outlinewidth\": 0, \"ticks\": \"\"}, \"type\": \"mesh3d\"}], \"parcoords\": [{\"line\": {\"colorbar\": {\"outlinewidth\": 0, \"ticks\": \"\"}}, \"type\": \"parcoords\"}], \"pie\": [{\"automargin\": true, \"type\": \"pie\"}], \"scatter\": [{\"marker\": {\"colorbar\": {\"outlinewidth\": 0, \"ticks\": \"\"}}, \"type\": \"scatter\"}], \"scatter3d\": [{\"line\": {\"colorbar\": {\"outlinewidth\": 0, \"ticks\": \"\"}}, \"marker\": {\"colorbar\": {\"outlinewidth\": 0, \"ticks\": \"\"}}, \"type\": \"scatter3d\"}], \"scattercarpet\": [{\"marker\": {\"colorbar\": {\"outlinewidth\": 0, \"ticks\": \"\"}}, \"type\": \"scattercarpet\"}], \"scattergeo\": [{\"marker\": {\"colorbar\": {\"outlinewidth\": 0, \"ticks\": \"\"}}, \"type\": \"scattergeo\"}], \"scattergl\": [{\"marker\": {\"colorbar\": {\"outlinewidth\": 0, \"ticks\": \"\"}}, \"type\": \"scattergl\"}], \"scattermapbox\": [{\"marker\": {\"colorbar\": {\"outlinewidth\": 0, \"ticks\": \"\"}}, \"type\": \"scattermapbox\"}], \"scatterpolar\": [{\"marker\": {\"colorbar\": {\"outlinewidth\": 0, \"ticks\": \"\"}}, \"type\": \"scatterpolar\"}], \"scatterpolargl\": [{\"marker\": {\"colorbar\": {\"outlinewidth\": 0, \"ticks\": \"\"}}, \"type\": \"scatterpolargl\"}], \"scatterternary\": [{\"marker\": {\"colorbar\": {\"outlinewidth\": 0, \"ticks\": \"\"}}, \"type\": \"scatterternary\"}], \"surface\": [{\"colorbar\": {\"outlinewidth\": 0, \"ticks\": \"\"}, \"colorscale\": [[0.0, \"#0d0887\"], [0.1111111111111111, \"#46039f\"], [0.2222222222222222, \"#7201a8\"], [0.3333333333333333, \"#9c179e\"], [0.4444444444444444, \"#bd3786\"], [0.5555555555555556, \"#d8576b\"], [0.6666666666666666, \"#ed7953\"], [0.7777777777777778, \"#fb9f3a\"], [0.8888888888888888, \"#fdca26\"], [1.0, \"#f0f921\"]], \"type\": \"surface\"}], \"table\": [{\"cells\": {\"fill\": {\"color\": \"#EBF0F8\"}, \"line\": {\"color\": \"white\"}}, \"header\": {\"fill\": {\"color\": \"#C8D4E3\"}, \"line\": {\"color\": \"white\"}}, \"type\": \"table\"}]}, \"layout\": {\"annotationdefaults\": {\"arrowcolor\": \"#2a3f5f\", \"arrowhead\": 0, \"arrowwidth\": 1}, \"coloraxis\": {\"colorbar\": {\"outlinewidth\": 0, \"ticks\": \"\"}}, \"colorscale\": {\"diverging\": [[0, \"#8e0152\"], [0.1, \"#c51b7d\"], [0.2, \"#de77ae\"], [0.3, \"#f1b6da\"], [0.4, \"#fde0ef\"], [0.5, \"#f7f7f7\"], [0.6, \"#e6f5d0\"], [0.7, \"#b8e186\"], [0.8, \"#7fbc41\"], [0.9, \"#4d9221\"], [1, \"#276419\"]], \"sequential\": [[0.0, \"#0d0887\"], [0.1111111111111111, \"#46039f\"], [0.2222222222222222, \"#7201a8\"], [0.3333333333333333, \"#9c179e\"], [0.4444444444444444, \"#bd3786\"], [0.5555555555555556, \"#d8576b\"], [0.6666666666666666, \"#ed7953\"], [0.7777777777777778, \"#fb9f3a\"], [0.8888888888888888, \"#fdca26\"], [1.0, \"#f0f921\"]], \"sequentialminus\": [[0.0, \"#0d0887\"], [0.1111111111111111, \"#46039f\"], [0.2222222222222222, \"#7201a8\"], [0.3333333333333333, \"#9c179e\"], [0.4444444444444444, \"#bd3786\"], [0.5555555555555556, \"#d8576b\"], [0.6666666666666666, \"#ed7953\"], [0.7777777777777778, \"#fb9f3a\"], [0.8888888888888888, \"#fdca26\"], [1.0, \"#f0f921\"]]}, \"colorway\": [\"#636efa\", \"#EF553B\", \"#00cc96\", \"#ab63fa\", \"#FFA15A\", \"#19d3f3\", \"#FF6692\", \"#B6E880\", \"#FF97FF\", \"#FECB52\"], \"font\": {\"color\": \"#2a3f5f\"}, \"geo\": {\"bgcolor\": \"white\", \"lakecolor\": \"white\", \"landcolor\": \"#E5ECF6\", \"showlakes\": true, \"showland\": true, \"subunitcolor\": \"white\"}, \"hoverlabel\": {\"align\": \"left\"}, \"hovermode\": \"closest\", \"mapbox\": {\"style\": \"light\"}, \"paper_bgcolor\": \"white\", \"plot_bgcolor\": \"#E5ECF6\", \"polar\": {\"angularaxis\": {\"gridcolor\": \"white\", \"linecolor\": \"white\", \"ticks\": \"\"}, \"bgcolor\": \"#E5ECF6\", \"radialaxis\": {\"gridcolor\": \"white\", \"linecolor\": \"white\", \"ticks\": \"\"}}, \"scene\": {\"xaxis\": {\"backgroundcolor\": \"#E5ECF6\", \"gridcolor\": \"white\", \"gridwidth\": 2, \"linecolor\": \"white\", \"showbackground\": true, \"ticks\": \"\", \"zerolinecolor\": \"white\"}, \"yaxis\": {\"backgroundcolor\": \"#E5ECF6\", \"gridcolor\": \"white\", \"gridwidth\": 2, \"linecolor\": \"white\", \"showbackground\": true, \"ticks\": \"\", \"zerolinecolor\": \"white\"}, \"zaxis\": {\"backgroundcolor\": \"#E5ECF6\", \"gridcolor\": \"white\", \"gridwidth\": 2, \"linecolor\": \"white\", \"showbackground\": true, \"ticks\": \"\", \"zerolinecolor\": \"white\"}}, \"shapedefaults\": {\"line\": {\"color\": \"#2a3f5f\"}}, \"ternary\": {\"aaxis\": {\"gridcolor\": \"white\", \"linecolor\": \"white\", \"ticks\": \"\"}, \"baxis\": {\"gridcolor\": \"white\", \"linecolor\": \"white\", \"ticks\": \"\"}, \"bgcolor\": \"#E5ECF6\", \"caxis\": {\"gridcolor\": \"white\", \"linecolor\": \"white\", \"ticks\": \"\"}}, \"title\": {\"x\": 0.05}, \"xaxis\": {\"automargin\": true, \"gridcolor\": \"white\", \"linecolor\": \"white\", \"ticks\": \"\", \"title\": {\"standoff\": 15}, \"zerolinecolor\": \"white\", \"zerolinewidth\": 2}, \"yaxis\": {\"automargin\": true, \"gridcolor\": \"white\", \"linecolor\": \"white\", \"ticks\": \"\", \"title\": {\"standoff\": 15}, \"zerolinecolor\": \"white\", \"zerolinewidth\": 2}}}},\n",
              "                        {\"responsive\": true}\n",
              "                    ).then(function(){\n",
              "                            \n",
              "var gd = document.getElementById('af94dd19-869c-4c1e-b87e-a101e45e6984');\n",
              "var x = new MutationObserver(function (mutations, observer) {{\n",
              "        var display = window.getComputedStyle(gd).display;\n",
              "        if (!display || display === 'none') {{\n",
              "            console.log([gd, 'removed!']);\n",
              "            Plotly.purge(gd);\n",
              "            observer.disconnect();\n",
              "        }}\n",
              "}});\n",
              "\n",
              "// Listen for the removal of the full notebook cells\n",
              "var notebookContainer = gd.closest('#notebook-container');\n",
              "if (notebookContainer) {{\n",
              "    x.observe(notebookContainer, {childList: true});\n",
              "}}\n",
              "\n",
              "// Listen for the clearing of the current output cell\n",
              "var outputEl = gd.closest('.output');\n",
              "if (outputEl) {{\n",
              "    x.observe(outputEl, {childList: true});\n",
              "}}\n",
              "\n",
              "                        })\n",
              "                };\n",
              "                \n",
              "            </script>\n",
              "        </div>\n",
              "</body>\n",
              "</html>"
            ]
          },
          "metadata": {
            "tags": []
          }
        }
      ]
    },
    {
      "cell_type": "markdown",
      "metadata": {
        "id": "edy3Td6r0u03"
      },
      "source": [
        "## Hungarian Method"
      ]
    },
    {
      "cell_type": "code",
      "metadata": {
        "colab": {
          "base_uri": "https://localhost:8080/",
          "height": 559
        },
        "id": "XsS9LCCI0ZI8",
        "outputId": "a87ebac0-d368-417f-8879-7a4e5e879850"
      },
      "source": [
        "from scipy.optimize import linear_sum_assignment\r\n",
        "\r\n",
        "# Hungarian method goes here\r\n",
        "start_time = time.time()\r\n",
        "hun_row_ind, hun_col_ind = linear_sum_assignment(C)\r\n",
        "hungarian_runtime = time.time() - start_time\r\n",
        "print(\"--- Hungarian run time: %s seconds ---\" % hungarian_runtime)\r\n",
        "\r\n",
        "# Plot results\r\n",
        "fig = go.Figure()\r\n",
        "fig = fig_add_test_cases(fig, p_lat, p_long, vacp_lat, vacp_long, vacant_parkings, origin_lat, origin_long, dest_lat, dest_long, hours)\r\n",
        "fig = fig_add_result_paths(fig, hun_row_ind, hun_col_ind, list_V, list_P)\r\n",
        "fig.show()"
      ],
      "execution_count": null,
      "outputs": [
        {
          "output_type": "stream",
          "text": [
            "--- Hungarian run time: 0.00041604042053222656 seconds ---\n"
          ],
          "name": "stdout"
        },
        {
          "output_type": "display_data",
          "data": {
            "text/html": [
              "<html>\n",
              "<head><meta charset=\"utf-8\" /></head>\n",
              "<body>\n",
              "    <div>\n",
              "            <script src=\"https://cdnjs.cloudflare.com/ajax/libs/mathjax/2.7.5/MathJax.js?config=TeX-AMS-MML_SVG\"></script><script type=\"text/javascript\">if (window.MathJax) {MathJax.Hub.Config({SVG: {font: \"STIX-Web\"}});}</script>\n",
              "                <script type=\"text/javascript\">window.PlotlyConfig = {MathJaxConfig: 'local'};</script>\n",
              "        <script src=\"https://cdn.plot.ly/plotly-latest.min.js\"></script>    \n",
              "            <div id=\"e1cc0607-2e98-4031-a4a3-790f29c0c09a\" class=\"plotly-graph-div\" style=\"height:525px; width:100%;\"></div>\n",
              "            <script type=\"text/javascript\">\n",
              "                \n",
              "                    window.PLOTLYENV=window.PLOTLYENV || {};\n",
              "                    \n",
              "                if (document.getElementById(\"e1cc0607-2e98-4031-a4a3-790f29c0c09a\")) {\n",
              "                    Plotly.newPlot(\n",
              "                        'e1cc0607-2e98-4031-a4a3-790f29c0c09a',\n",
              "                        [{\"lat\": [34.040251, 34.039715, 34.039839, 34.039673, 34.041576, 34.039273, 34.040221, 34.039802, 34.04044, 34.042094, 34.042382, 34.040272, 34.040754, 34.040363, 34.039163, 34.040416, 34.039911, 34.041313, 34.040629, 34.039178, 34.041838, 34.042397, 34.039631, 34.041533, 34.042111, 34.039818, 34.042067, 34.042506, 34.039593, 34.042517, 34.041645, 34.039187, 34.042127, 34.041807, 34.041486, 34.040402, 34.042296, 34.040348, 34.04235, 34.04176, 34.042038, 34.039381, 34.042278, 34.041281, 34.040588, 34.04231, 34.039724, 34.04168, 34.039243, 34.040291, 34.041618, 34.03988, 34.042759, 34.041248, 34.042314, 34.042225, 34.040658, 34.042366, 34.042262, 34.039871, 34.041411, 34.041729, 34.039685, 34.039537, 34.041566, 34.042554, 34.042638, 34.040406, 34.040138, 34.040441, 34.039703, 34.041725, 34.04008, 34.039942, 34.041062, 34.039244, 34.040186, 34.042166, 34.04014, 34.03931, 34.039124, 34.041104, 34.039846, 34.040455, 34.039504, 34.040333, 34.040123, 34.040536, 34.039183, 34.040537, 34.039054, 34.040248, 34.040313, 34.040044, 34.040575, 34.042572, 34.040487, 34.039747, 34.039361, 34.040268, 34.041324, 34.039925, 34.039364, 34.039193, 34.041687, 34.041435, 34.039967, 34.040768, 34.039708, 34.04049, 34.03992, 34.041455, 34.040922, 34.040331, 34.041976, 34.03922, 34.040226, 34.040982, 34.039795, 34.039706, 34.039791, 34.04093, 34.039074, 34.040189, 34.040429, 34.040319, 34.039326, 34.041764, 34.041378, 34.039703, 34.041177, 34.04206, 34.039931, 34.039143, 34.039902, 34.04018, 34.039889, 34.039977, 34.041117, 34.03927, 34.039999, 34.040026, 34.040624, 34.039543, 34.040865, 34.04028, 34.040511, 34.040534, 34.042064, 34.040354, 34.041079, 34.039278, 34.042373, 34.04152, 34.041017, 34.039148, 34.042621, 34.040777, 34.039846, 34.040015, 34.039169, 34.041284, 34.039758, 34.039233, 34.041256, 34.040375, 34.04142, 34.040717, 34.039059, 34.039433, 34.042004, 34.039315, 34.04036, 34.042326, 34.04167, 34.040309, 34.040191, 34.040414, 34.040813, 34.039412, 34.039088, 34.04106, 34.039743, 34.042476, 34.042151, 34.039794, 34.040862, 34.041455, 34.039884, 34.039676, 34.039179, 34.040236, 34.040471, 34.040971, 34.039759, 34.040101, 34.040452, 34.039142, 34.039769, 34.040812, 34.040355, 34.039608, 34.039644, 34.040455, 34.039129, 34.040525, 34.040812, 34.03986, 34.040663, 34.041533, 34.041181, 34.041962, 34.039821, 34.03908, 34.040869, 34.040586, 34.042679, 34.040247, 34.040509, 34.042261, 34.042091, 34.040221, 34.039533, 34.039938, 34.041487, 34.039786, 34.039666, 34.039238, 34.03969, 34.040283, 34.039287, 34.039849, 34.041378, 34.040899, 34.04202, 34.039955, 34.039661, 34.039749, 34.03979, 34.039097, 34.03978, 34.040501, 34.039807, 34.040715, 34.040319, 34.039045, 34.041918, 34.039599, 34.040909, 34.041786, 34.040402, 34.042149, 34.041414, 34.041005, 34.039808, 34.041478, 34.041329, 34.042721, 34.040902, 34.039093, 34.03973, 34.039976, 34.041062, 34.041077, 34.040318, 34.039823, 34.039239, 34.040179, 34.042106, 34.039418, 34.041476, 34.040666, 34.039902, 34.039862, 34.041213, 34.040947, 34.039951, 34.042053, 34.042163, 34.040278, 34.039051, 34.039624, 34.040041, 34.039447, 34.040727, 34.039278, 34.041279, 34.042422, 34.042206, 34.041452, 34.039212, 34.039109, 34.039967, 34.040772, 34.04252, 34.039763, 34.041351, 34.042206], \"lon\": [-118.25319, -118.252843, -118.250218, -118.251762, -118.248779, -118.253051, -118.251776, -118.250177, -118.252735, -118.249576, -118.252947, -118.250986, -118.248122, -118.251808, -118.252953, -118.25155, -118.250734, -118.246273, -118.251499, -118.248225, -118.252562, -118.251465, -118.251032, -118.252767, -118.251869, -118.250833, -118.251938, -118.251562, -118.251074, -118.251302, -118.252858, -118.252522, -118.251847, -118.252608, -118.25284, -118.250024, -118.249614, -118.25008, -118.251775, -118.252682, -118.251983, -118.251301, -118.251626, -118.253143, -118.250013, -118.251582, -118.250933, -118.252807, -118.252583, -118.250141, -118.25264, -118.25217, -118.250978, -118.253194, -118.251824, -118.251699, -118.24975, -118.251508, -118.251902, -118.250775, -118.246171, -118.252731, -118.250974, -118.251134, -118.252719, -118.251496, -118.25114, -118.252777, -118.24867, -118.24998, -118.252575, -118.251975, -118.251938, -118.247424, -118.249508, -118.249939, -118.251095, -118.252448, -118.247217, -118.253009, -118.252996, -118.249463, -118.247526, -118.250618, -118.24986, -118.247303, -118.251888, -118.248184, -118.249252, -118.251604, -118.252377, -118.250186, -118.251864, -118.247317, -118.251561, -118.247855, -118.251664, -118.247628, -118.252162, -118.252957, -118.250709, -118.25053, -118.252951, -118.251499, -118.248676, -118.248922, -118.250674, -118.249821, -118.251717, -118.252667, -118.252123, -118.250561, -118.251379, -118.253085, -118.249975, -118.25311, -118.248561, -118.252033, -118.252465, -118.249394, -118.253186, -118.246676, -118.248334, -118.248605, -118.247202, -118.251662, -118.252208, -118.252015, -118.249173, -118.247675, -118.250873, -118.249616, -118.25143, -118.252219, -118.247467, -118.247462, -118.252358, -118.252057, -118.251587, -118.248417, -118.247364, -118.252001, -118.251058, -118.249902, -118.252181, -118.247357, -118.25144, -118.250071, -118.248326, -118.248404, -118.250983, -118.24812, -118.24804, -118.249021, -118.246584, -118.25248, -118.24781, -118.252507, -118.251538, -118.251319, -118.248521, -118.250754, -118.251651, -118.251458, -118.246333, -118.251599, -118.249129, -118.248169, -118.251454, -118.248247, -118.24968, -118.248081, -118.250515, -118.25288, -118.251915, -118.250938, -118.250596, -118.250573, -118.249584, -118.252096, -118.25216, -118.25214, -118.24935, -118.247946, -118.249777, -118.251604, -118.2524, -118.246126, -118.25149, -118.252803, -118.253156, -118.252998, -118.251485, -118.246632, -118.252509, -118.247258, -118.251705, -118.250056, -118.252906, -118.252461, -118.252844, -118.247775, -118.247736, -118.248485, -118.248562, -118.252624, -118.249775, -118.249204, -118.248233, -118.248819, -118.251986, -118.249727, -118.250641, -118.251621, -118.249716, -118.251018, -118.247756, -118.250655, -118.250676, -118.248145, -118.252632, -118.251051, -118.25194, -118.252299, -118.250526, -118.25228, -118.252619, -118.248162, -118.252389, -118.253149, -118.2514, -118.252403, -118.248984, -118.252136, -118.249926, -118.253111, -118.249763, -118.25012, -118.249088, -118.251412, -118.250875, -118.249916, -118.247567, -118.249691, -118.250471, -118.249973, -118.250039, -118.249963, -118.249671, -118.25019, -118.251761, -118.252695, -118.251904, -118.249569, -118.252947, -118.249065, -118.249227, -118.247718, -118.247739, -118.25242, -118.252343, -118.252254, -118.246536, -118.251544, -118.252891, -118.252237, -118.25126, -118.251824, -118.248289, -118.251261, -118.248879, -118.251455, -118.25305, -118.253008, -118.246376, -118.252074, -118.247703, -118.252591, -118.248236, -118.251708, -118.252119, -118.249725, -118.247608, -118.252052, -118.252361, -118.251219, -118.249277, -118.252986, -118.252491, -118.251946, -118.249777, -118.250095, -118.251382, -118.249629, -118.247907, -118.250704, -118.246233, -118.248195], \"marker\": {\"color\": \"orange\", \"size\": 5}, \"mode\": \"markers\", \"name\": \"Occupied parking\", \"type\": \"scattermapbox\"}, {\"hoverinfo\": \"text\", \"hovertext\": [\"Hourly rate: 2.0; Max rate: 8.0; Hour Limit: 2.0\", \"Hourly rate: 1.5; Max rate: 12.0; Hour Limit: 2.0\", \"Hourly rate: 3.0; Max rate: 8.0; Hour Limit: 2.0\", \"Hourly rate: 0.5; Max rate: 10.0; Hour Limit: 2.0\", \"Hourly rate: 1.5; Max rate: 8.0; Hour Limit: 2.0\", \"Hourly rate: 3.0; Max rate: 10.0; Hour Limit: 2.0\", \"Hourly rate: 3.0; Max rate: 10.0; Hour Limit: 2.0\", \"Hourly rate: 1.5; Max rate: 10.0; Hour Limit: 2.0\", \"Hourly rate: 4.0; Max rate: 8.0; Hour Limit: 2.0\", \"Hourly rate: 4.0; Max rate: 8.0; Hour Limit: 2.0\", \"Hourly rate: 1.5; Max rate: 8.0; Hour Limit: 2.0\", \"Hourly rate: 4.0; Max rate: 8.0; Hour Limit: 2.0\", \"Hourly rate: 1.5; Max rate: 8.0; Hour Limit: 2.0\", \"Hourly rate: 1.5; Max rate: 8.0; Hour Limit: 2.0\", \"Hourly rate: 1.5; Max rate: 8.0; Hour Limit: 2.0\", \"Hourly rate: 4.0; Max rate: 12.0; Hour Limit: 2.0\", \"Hourly rate: 1.5; Max rate: 8.0; Hour Limit: 2.0\", \"Hourly rate: 3.0; Max rate: 8.0; Hour Limit: 2.0\", \"Hourly rate: 4.0; Max rate: 8.0; Hour Limit: 2.0\", \"Hourly rate: 2.0; Max rate: 24.0; Hour Limit: 4.0\", \"Hourly rate: 2.0; Max rate: 8.0; Hour Limit: 2.0\", \"Hourly rate: 1.5; Max rate: 8.0; Hour Limit: 2.0\", \"Hourly rate: 4.0; Max rate: 8.0; Hour Limit: 2.0\", \"Hourly rate: 1.5; Max rate: 8.0; Hour Limit: 2.0\", \"Hourly rate: 0.5; Max rate: 24.0; Hour Limit: 4.0\", \"Hourly rate: 1.5; Max rate: 8.0; Hour Limit: 2.0\", \"Hourly rate: 3.0; Max rate: 8.0; Hour Limit: 2.0\", \"Hourly rate: 4.0; Max rate: 12.0; Hour Limit: 2.0\", \"Hourly rate: 4.0; Max rate: 8.0; Hour Limit: 2.0\", \"Hourly rate: 3.0; Max rate: 10.0; Hour Limit: 2.0\", \"Hourly rate: 1.5; Max rate: 8.0; Hour Limit: 2.0\", \"Hourly rate: 4.0; Max rate: 8.0; Hour Limit: 2.0\", \"Hourly rate: 2.0; Max rate: 8.0; Hour Limit: 2.0\", \"Hourly rate: 1.5; Max rate: 8.0; Hour Limit: 2.0\", \"Hourly rate: 1.5; Max rate: 8.0; Hour Limit: 2.0\", \"Hourly rate: 2.0; Max rate: 8.0; Hour Limit: 2.0\", \"Hourly rate: 3.0; Max rate: 8.0; Hour Limit: 2.0\", \"Hourly rate: 4.0; Max rate: 8.0; Hour Limit: 2.0\", \"Hourly rate: 4.0; Max rate: 8.0; Hour Limit: 2.0\", \"Hourly rate: 1.5; Max rate: 8.0; Hour Limit: 2.0\", \"Hourly rate: 3.0; Max rate: 10.0; Hour Limit: 2.0\", \"Hourly rate: 0.5; Max rate: 12.0; Hour Limit: 2.0\", \"Hourly rate: 3.0; Max rate: 8.0; Hour Limit: 2.0\", \"Hourly rate: 0.5; Max rate: 10.0; Hour Limit: 2.0\", \"Hourly rate: 3.0; Max rate: 10.0; Hour Limit: 2.0\", \"Hourly rate: 4.0; Max rate: 12.0; Hour Limit: 2.0\", \"Hourly rate: 0.5; Max rate: 6.0; Hour Limit: 4.0\", \"Hourly rate: 4.0; Max rate: 8.0; Hour Limit: 2.0\", \"Hourly rate: 1.5; Max rate: 8.0; Hour Limit: 2.0\", \"Hourly rate: 4.0; Max rate: 8.0; Hour Limit: 2.0\", \"Hourly rate: 0.5; Max rate: 10.0; Hour Limit: 2.0\", \"Hourly rate: 0.5; Max rate: 24.0; Hour Limit: 4.0\", \"Hourly rate: 3.0; Max rate: 8.0; Hour Limit: 2.0\", \"Hourly rate: 3.0; Max rate: 10.0; Hour Limit: 2.0\", \"Hourly rate: 2.0; Max rate: 24.0; Hour Limit: 4.0\", \"Hourly rate: 1.5; Max rate: 8.0; Hour Limit: 2.0\", \"Hourly rate: 3.0; Max rate: 8.0; Hour Limit: 2.0\", \"Hourly rate: 4.0; Max rate: 8.0; Hour Limit: 2.0\", \"Hourly rate: 5.0; Max rate: 10.0; Hour Limit: 2.0\", \"Hourly rate: 1.0; Max rate: 3.0; Hour Limit: 2.0\", \"Hourly rate: 3.0; Max rate: 8.0; Hour Limit: 2.0\", \"Hourly rate: 3.0; Max rate: 10.0; Hour Limit: 2.0\", \"Hourly rate: 0.5; Max rate: 24.0; Hour Limit: 4.0\", \"Hourly rate: 3.0; Max rate: 8.0; Hour Limit: 2.0\", \"Hourly rate: 4.0; Max rate: 12.0; Hour Limit: 2.0\", \"Hourly rate: 4.0; Max rate: 8.0; Hour Limit: 2.0\", \"Hourly rate: 3.0; Max rate: 10.0; Hour Limit: 2.0\", \"Hourly rate: 0.5; Max rate: 6.0; Hour Limit: 4.0\", \"Hourly rate: 3.0; Max rate: 10.0; Hour Limit: 2.0\", \"Hourly rate: 4.0; Max rate: 10.0; Hour Limit: 2.0\", \"Hourly rate: 0.5; Max rate: 12.0; Hour Limit: 2.0\", \"Hourly rate: 3.0; Max rate: 8.0; Hour Limit: 2.0\", \"Hourly rate: 0.5; Max rate: 6.0; Hour Limit: 4.0\", \"Hourly rate: 2.0; Max rate: 24.0; Hour Limit: 4.0\", \"Hourly rate: 0.5; Max rate: 6.0; Hour Limit: 4.0\", \"Hourly rate: 1.0; Max rate: 3.0; Hour Limit: 2.0\", \"Hourly rate: 4.0; Max rate: 12.0; Hour Limit: 2.0\", \"Hourly rate: 0.5; Max rate: 6.0; Hour Limit: 4.0\", \"Hourly rate: 3.0; Max rate: 8.0; Hour Limit: 2.0\", \"Hourly rate: 3.0; Max rate: 8.0; Hour Limit: 2.0\", \"Hourly rate: 3.0; Max rate: 8.0; Hour Limit: 2.0\", \"Hourly rate: 1.0; Max rate: 3.0; Hour Limit: 2.0\", \"Hourly rate: 3.0; Max rate: 10.0; Hour Limit: 2.0\", \"Hourly rate: 2.0; Max rate: 8.0; Hour Limit: 2.0\", \"Hourly rate: 0.5; Max rate: 24.0; Hour Limit: 4.0\", \"Hourly rate: 3.0; Max rate: 10.0; Hour Limit: 2.0\", \"Hourly rate: 3.0; Max rate: 8.0; Hour Limit: 2.0\", \"Hourly rate: 4.0; Max rate: 12.0; Hour Limit: 2.0\", \"Hourly rate: 0.5; Max rate: 6.0; Hour Limit: 4.0\", \"Hourly rate: 2.0; Max rate: 24.0; Hour Limit: 4.0\", \"Hourly rate: 3.0; Max rate: 8.0; Hour Limit: 2.0\", \"Hourly rate: 2.0; Max rate: 8.0; Hour Limit: 2.0\", \"Hourly rate: 3.0; Max rate: 8.0; Hour Limit: 2.0\", \"Hourly rate: 3.0; Max rate: 8.0; Hour Limit: 2.0\", \"Hourly rate: 3.0; Max rate: 10.0; Hour Limit: 2.0\", \"Hourly rate: 1.0; Max rate: 3.0; Hour Limit: 2.0\", \"Hourly rate: 4.0; Max rate: 8.0; Hour Limit: 2.0\", \"Hourly rate: 0.5; Max rate: 6.0; Hour Limit: 4.0\", \"Hourly rate: 4.0; Max rate: 8.0; Hour Limit: 2.0\", \"Hourly rate: 1.5; Max rate: 12.0; Hour Limit: 2.0\", \"Hourly rate: 3.0; Max rate: 8.0; Hour Limit: 2.0\", \"Hourly rate: 0.5; Max rate: 6.0; Hour Limit: 4.0\", \"Hourly rate: 0.5; Max rate: 6.0; Hour Limit: 4.0\", \"Hourly rate: 0.5; Max rate: 24.0; Hour Limit: 4.0\", \"Hourly rate: 4.0; Max rate: 8.0; Hour Limit: 2.0\", \"Hourly rate: 0.5; Max rate: 6.0; Hour Limit: 4.0\", \"Hourly rate: 0.5; Max rate: 6.0; Hour Limit: 4.0\", \"Hourly rate: 3.0; Max rate: 8.0; Hour Limit: 2.0\", \"Hourly rate: 3.0; Max rate: 10.0; Hour Limit: 2.0\", \"Hourly rate: 4.0; Max rate: 8.0; Hour Limit: 2.0\", \"Hourly rate: 4.0; Max rate: 8.0; Hour Limit: 2.0\", \"Hourly rate: 3.0; Max rate: 8.0; Hour Limit: 2.0\", \"Hourly rate: 2.0; Max rate: 24.0; Hour Limit: 4.0\", \"Hourly rate: 1.5; Max rate: 12.0; Hour Limit: 2.0\", \"Hourly rate: 0.5; Max rate: 24.0; Hour Limit: 4.0\", \"Hourly rate: 2.0; Max rate: 8.0; Hour Limit: 2.0\", \"Hourly rate: 4.0; Max rate: 8.0; Hour Limit: 2.0\", \"Hourly rate: 0.5; Max rate: 12.0; Hour Limit: 2.0\", \"Hourly rate: 2.0; Max rate: 24.0; Hour Limit: 4.0\", \"Hourly rate: 2.0; Max rate: 24.0; Hour Limit: 4.0\", \"Hourly rate: 1.5; Max rate: 12.0; Hour Limit: 2.0\", \"Hourly rate: 0.5; Max rate: 6.0; Hour Limit: 4.0\", \"Hourly rate: 4.0; Max rate: 12.0; Hour Limit: 2.0\", \"Hourly rate: 3.0; Max rate: 10.0; Hour Limit: 2.0\", \"Hourly rate: 4.0; Max rate: 8.0; Hour Limit: 2.0\", \"Hourly rate: 1.0; Max rate: 3.0; Hour Limit: 2.0\", \"Hourly rate: 3.0; Max rate: 8.0; Hour Limit: 2.0\", \"Hourly rate: 3.0; Max rate: 10.0; Hour Limit: 2.0\", \"Hourly rate: 0.5; Max rate: 6.0; Hour Limit: 4.0\", \"Hourly rate: 1.5; Max rate: 12.0; Hour Limit: 2.0\", \"Hourly rate: 1.5; Max rate: 12.0; Hour Limit: 2.0\", \"Hourly rate: 0.5; Max rate: 6.0; Hour Limit: 4.0\", \"Hourly rate: 4.0; Max rate: 12.0; Hour Limit: 2.0\", \"Hourly rate: 0.5; Max rate: 10.0; Hour Limit: 2.0\", \"Hourly rate: 3.0; Max rate: 8.0; Hour Limit: 2.0\", \"Hourly rate: 2.0; Max rate: 8.0; Hour Limit: 2.0\", \"Hourly rate: 3.0; Max rate: 8.0; Hour Limit: 2.0\", \"Hourly rate: 0.5; Max rate: 6.0; Hour Limit: 4.0\", \"Hourly rate: 0.5; Max rate: 6.0; Hour Limit: 4.0\"], \"lat\": [34.040251, 34.039715, 34.039673, 34.041576, 34.039273, 34.040221, 34.042382, 34.040754, 34.040363, 34.039163, 34.042397, 34.041533, 34.042111, 34.042067, 34.042517, 34.039187, 34.042127, 34.041807, 34.041486, 34.042296, 34.04235, 34.042038, 34.039381, 34.042278, 34.040588, 34.04231, 34.04168, 34.039243, 34.041618, 34.03988, 34.042759, 34.041248, 34.042314, 34.042225, 34.042366, 34.042262, 34.041729, 34.039537, 34.041566, 34.042638, 34.04008, 34.039244, 34.040186, 34.040333, 34.040123, 34.039054, 34.042572, 34.040487, 34.039364, 34.039193, 34.041687, 34.040768, 34.039708, 34.03992, 34.041976, 34.03922, 34.040982, 34.039795, 34.039791, 34.04093, 34.039326, 34.041764, 34.041378, 34.039931, 34.039143, 34.039889, 34.039977, 34.039999, 34.040026, 34.040624, 34.039543, 34.040865, 34.042064, 34.041079, 34.042373, 34.041017, 34.039148, 34.042621, 34.039846, 34.040015, 34.039758, 34.041256, 34.040375, 34.039059, 34.042004, 34.042326, 34.039412, 34.039088, 34.042476, 34.042151, 34.039794, 34.040862, 34.039884, 34.040236, 34.040471, 34.040971, 34.039759, 34.040101, 34.040452, 34.039769, 34.040355, 34.039608, 34.039644, 34.040812, 34.03908, 34.042679, 34.042261, 34.039533, 34.039786, 34.039666, 34.039849, 34.040899, 34.04202, 34.039955, 34.039661, 34.039097, 34.03978, 34.040319, 34.041918, 34.041786, 34.039808, 34.042721, 34.039093, 34.03973, 34.039976, 34.041062, 34.040318, 34.039823, 34.042106, 34.039902, 34.039862, 34.042163, 34.039051, 34.040041, 34.039447, 34.039278, 34.039967, 34.04252, 34.042206], \"lon\": [-118.25319, -118.252843, -118.251762, -118.248779, -118.253051, -118.251776, -118.252947, -118.248122, -118.251808, -118.252953, -118.251465, -118.252767, -118.251869, -118.251938, -118.251302, -118.252522, -118.251847, -118.252608, -118.25284, -118.249614, -118.251775, -118.251983, -118.251301, -118.251626, -118.250013, -118.251582, -118.252807, -118.252583, -118.25264, -118.25217, -118.250978, -118.253194, -118.251824, -118.251699, -118.251508, -118.251902, -118.252731, -118.251134, -118.252719, -118.25114, -118.251938, -118.249939, -118.251095, -118.247303, -118.251888, -118.252377, -118.247855, -118.251664, -118.252951, -118.251499, -118.248676, -118.249821, -118.251717, -118.252123, -118.249975, -118.25311, -118.252033, -118.252465, -118.253186, -118.246676, -118.252208, -118.252015, -118.249173, -118.25143, -118.252219, -118.252358, -118.252057, -118.247364, -118.252001, -118.251058, -118.249902, -118.252181, -118.248326, -118.250983, -118.24804, -118.246584, -118.25248, -118.24781, -118.251538, -118.251319, -118.251651, -118.246333, -118.251599, -118.251454, -118.24968, -118.25288, -118.252096, -118.25216, -118.247946, -118.249777, -118.251604, -118.2524, -118.25149, -118.252998, -118.251485, -118.246632, -118.252509, -118.247258, -118.251705, -118.252906, -118.252844, -118.247775, -118.247736, -118.249775, -118.251621, -118.247756, -118.248145, -118.25194, -118.25228, -118.252619, -118.252403, -118.252136, -118.249926, -118.253111, -118.249763, -118.251412, -118.250875, -118.250471, -118.250039, -118.25019, -118.252947, -118.247718, -118.25242, -118.252343, -118.252254, -118.246536, -118.252891, -118.252237, -118.248289, -118.25305, -118.253008, -118.248236, -118.252119, -118.247608, -118.252052, -118.251219, -118.251382, -118.247907, -118.248195], \"marker\": {\"color\": \"darkgreen\", \"size\": 5}, \"mode\": \"markers\", \"name\": \"Vacant parking\", \"type\": \"scattermapbox\"}, {\"lat\": [34.038526], \"lon\": [-118.254028], \"marker\": {\"color\": \"blue\", \"size\": 10}, \"mode\": \"markers\", \"name\": \"Start point 0\", \"type\": \"scattermapbox\"}, {\"lat\": [34.034314], \"lon\": [-118.252074], \"marker\": {\"color\": \"blue\", \"size\": 10}, \"mode\": \"markers\", \"name\": \"Start point 1\", \"type\": \"scattermapbox\"}, {\"lat\": [34.043959], \"lon\": [-118.243785], \"marker\": {\"color\": \"blue\", \"size\": 10}, \"mode\": \"markers\", \"name\": \"Start point 2\", \"type\": \"scattermapbox\"}, {\"lat\": [34.038329], \"lon\": [-118.245367], \"marker\": {\"color\": \"blue\", \"size\": 10}, \"mode\": \"markers\", \"name\": \"Start point 3\", \"type\": \"scattermapbox\"}, {\"lat\": [34.040802], \"lon\": [-118.260495], \"marker\": {\"color\": \"blue\", \"size\": 10}, \"mode\": \"markers\", \"name\": \"Start point 4\", \"type\": \"scattermapbox\"}, {\"lat\": [34.038147], \"lon\": [-118.257064], \"marker\": {\"color\": \"blue\", \"size\": 10}, \"mode\": \"markers\", \"name\": \"Start point 5\", \"type\": \"scattermapbox\"}, {\"lat\": [34.034895], \"lon\": [-118.253033], \"marker\": {\"color\": \"blue\", \"size\": 10}, \"mode\": \"markers\", \"name\": \"Start point 6\", \"type\": \"scattermapbox\"}, {\"lat\": [34.042111], \"lon\": [-118.244735], \"marker\": {\"color\": \"blue\", \"size\": 10}, \"mode\": \"markers\", \"name\": \"Start point 7\", \"type\": \"scattermapbox\"}, {\"lat\": [34.046061], \"lon\": [-118.242705], \"marker\": {\"color\": \"blue\", \"size\": 10}, \"mode\": \"markers\", \"name\": \"Start point 8\", \"type\": \"scattermapbox\"}, {\"lat\": [34.03682], \"lon\": [-118.248662], \"marker\": {\"color\": \"blue\", \"size\": 10}, \"mode\": \"markers\", \"name\": \"Start point 9\", \"type\": \"scattermapbox\"}, {\"hoverinfo\": \"text\", \"hovertext\": \"Destination 0; Hours: 2.0\", \"lat\": [34.042308], \"lon\": [-118.250414], \"marker\": {\"color\": \"red\", \"size\": 10}, \"mode\": \"markers\", \"name\": \"Destination 0\", \"type\": \"scattermapbox\"}, {\"hoverinfo\": \"text\", \"hovertext\": \"Destination 1; Hours: 2.0\", \"lat\": [34.041665], \"lon\": [-118.251708], \"marker\": {\"color\": \"red\", \"size\": 10}, \"mode\": \"markers\", \"name\": \"Destination 1\", \"type\": \"scattermapbox\"}, {\"hoverinfo\": \"text\", \"hovertext\": \"Destination 2; Hours: 2.5\", \"lat\": [34.039068], \"lon\": [-118.251934], \"marker\": {\"color\": \"red\", \"size\": 10}, \"mode\": \"markers\", \"name\": \"Destination 2\", \"type\": \"scattermapbox\"}, {\"hoverinfo\": \"text\", \"hovertext\": \"Destination 3; Hours: 1\", \"lat\": [34.040547], \"lon\": [-118.246945], \"marker\": {\"color\": \"red\", \"size\": 10}, \"mode\": \"markers\", \"name\": \"Destination 3\", \"type\": \"scattermapbox\"}, {\"hoverinfo\": \"text\", \"hovertext\": \"Destination 4; Hours: 0.5\", \"lat\": [34.041726], \"lon\": [-118.248157], \"marker\": {\"color\": \"red\", \"size\": 10}, \"mode\": \"markers\", \"name\": \"Destination 4\", \"type\": \"scattermapbox\"}, {\"hoverinfo\": \"text\", \"hovertext\": \"Destination 5; Hours: 1\", \"lat\": [34.040755], \"lon\": [-118.251687], \"marker\": {\"color\": \"red\", \"size\": 10}, \"mode\": \"markers\", \"name\": \"Destination 5\", \"type\": \"scattermapbox\"}, {\"hoverinfo\": \"text\", \"hovertext\": \"Destination 6; Hours: 2.5\", \"lat\": [34.042034], \"lon\": [-118.247397], \"marker\": {\"color\": \"red\", \"size\": 10}, \"mode\": \"markers\", \"name\": \"Destination 6\", \"type\": \"scattermapbox\"}, {\"hoverinfo\": \"text\", \"hovertext\": \"Destination 7; Hours: 3\", \"lat\": [34.041959], \"lon\": [-118.252433], \"marker\": {\"color\": \"red\", \"size\": 10}, \"mode\": \"markers\", \"name\": \"Destination 7\", \"type\": \"scattermapbox\"}, {\"hoverinfo\": \"text\", \"hovertext\": \"Destination 8; Hours: 1.5\", \"lat\": [34.039944], \"lon\": [-118.252114], \"marker\": {\"color\": \"red\", \"size\": 10}, \"mode\": \"markers\", \"name\": \"Destination 8\", \"type\": \"scattermapbox\"}, {\"hoverinfo\": \"text\", \"hovertext\": \"Destination 9; Hours: 0.5\", \"lat\": [34.041198], \"lon\": [-118.246792], \"marker\": {\"color\": \"red\", \"size\": 10}, \"mode\": \"markers\", \"name\": \"Destination 9\", \"type\": \"scattermapbox\"}, {\"lat\": [34.038526, 34.0382973, 34.0394724, 34.0408341, 34.0424431, 34.0419269, 34.042064, 34.0419269, 34.0424431, 34.042308], \"line\": {\"color\": \"#636EFA\", \"width\": 4.5}, \"lon\": [-118.254028, -118.2540363, -118.2527045, -118.2511742, -118.249283, -118.2485441, -118.248326, -118.2485441, -118.249283, -118.250414], \"marker\": {\"size\": 10}, \"mode\": \"lines\", \"name\": \"path_0\", \"type\": \"scattermapbox\"}, {\"lat\": [34.034314, 34.0352169, 34.0359117, 34.0366293, 34.037278, 34.0385034, 34.0391437, 34.0394174, 34.0401238, 34.040319, 34.0401238, 34.040506, 34.0408341, 34.0413273, 34.041665], \"line\": {\"color\": \"#EF553B\", \"width\": 4.5}, \"lon\": [-118.252074, -118.2521834, -118.2517027, -118.2510571, -118.2503356, -118.2490889, -118.2493545, -118.2496629, -118.250412, -118.250471, -118.250412, -118.2508182, -118.2511742, -118.2516815, -118.251708], \"marker\": {\"size\": 10}, \"mode\": \"lines\", \"name\": \"path_1\", \"type\": \"scattermapbox\"}, {\"lat\": [34.043959, 34.0442021, 34.0445678, 34.0448965, 34.0434656, 34.0419269, 34.0401238, 34.040588, 34.0401238, 34.0387407, 34.039068], \"line\": {\"color\": \"#00CC96\", \"width\": 4.5}, \"lon\": [-118.243785, -118.2439151, -118.2449808, -118.2458399, -118.2471389, -118.2485441, -118.250412, -118.250013, -118.250412, -118.25192, -118.251934], \"marker\": {\"size\": 10}, \"mode\": \"lines\", \"name\": \"path_2\", \"type\": \"scattermapbox\"}, {\"lat\": [34.038329, 34.037839, 34.0384076, 34.0389202, 34.0395353, 34.0407102, 34.04093, 34.0407102, 34.040547], \"line\": {\"color\": \"#AB63FA\", \"width\": 4.5}, \"lon\": [-118.245367, -118.2456195, -118.2464231, -118.2471761, -118.2479788, -118.2467821, -118.246676, -118.2467821, -118.246945], \"marker\": {\"size\": 10}, \"mode\": \"lines\", \"name\": \"path_3\", \"type\": \"scattermapbox\"}, {\"lat\": [34.040802, 34.0408648, 34.0423135, 34.0416166, 34.0409224, 34.0404673, 34.0416058, 34.0419938, 34.0427546, 34.0439323, 34.043267, 34.0424431, 34.0419269, 34.041687, 34.0419269, 34.041726], \"line\": {\"color\": \"#FFA15A\", \"width\": 4.5}, \"lon\": [-118.260495, -118.2608845, -118.2595335, -118.2584557, -118.257417, -118.2567089, -118.2550012, -118.2543843, -118.2531745, -118.2513808, -118.2504401, -118.249283, -118.2485441, -118.248676, -118.2485441, -118.248157], \"marker\": {\"size\": 10}, \"mode\": \"lines\", \"name\": \"path_4\", \"type\": \"scattermapbox\"}, {\"lat\": [34.038147, 34.0384308, 34.0395951, 34.0407353, 34.0404699, 34.0403223, 34.0413273, 34.0408341, 34.041079, 34.0408341, 34.040755], \"line\": {\"color\": \"#19D3F3\", \"width\": 4.5}, \"lon\": [-118.257064, -118.257128, -118.2558518, -118.2541052, -118.2538167, -118.2529893, -118.2516815, -118.2511742, -118.250983, -118.2511742, -118.251687], \"marker\": {\"size\": 10}, \"mode\": \"lines\", \"name\": \"path_5\", \"type\": \"scattermapbox\"}, {\"lat\": [34.034895, 34.0352169, 34.0359117, 34.0366293, 34.037278, 34.0385034, 34.0388101, 34.0395353, 34.0407102, 34.040101, 34.0407102, 34.041176, 34.042034], \"line\": {\"color\": \"#FF6692\", \"width\": 4.5}, \"lon\": [-118.253033, -118.2521834, -118.2517027, -118.2510571, -118.2503356, -118.2490889, -118.2487295, -118.2479788, -118.2467821, -118.247258, -118.2467821, -118.2474616, -118.247397], \"marker\": {\"size\": 10}, \"mode\": \"lines\", \"name\": \"path_6\", \"type\": \"scattermapbox\"}, {\"lat\": [34.042111, 34.0422495, 34.0407102, 34.041176, 34.0419269, 34.0424431, 34.042004, 34.0424431, 34.043267, 34.0419066, 34.041959], \"line\": {\"color\": \"#B6E880\", \"width\": 4.5}, \"lon\": [-118.244735, -118.2452515, -118.2467821, -118.2474616, -118.2485441, -118.249283, -118.24968, -118.249283, -118.2504401, -118.2523204, -118.252433], \"marker\": {\"size\": 10}, \"mode\": \"lines\", \"name\": \"path_7\", \"type\": \"scattermapbox\"}, {\"lat\": [34.046061, 34.0458226, 34.0449539, 34.0442021, 34.0445678, 34.0448965, 34.0434656, 34.0419269, 34.0424431, 34.0408341, 34.0394724, 34.039364, 34.0394724, 34.039944], \"line\": {\"color\": \"#FF97FF\", \"width\": 4.5}, \"lon\": [-118.242705, -118.243018, -118.2434595, -118.2439151, -118.2449808, -118.2458399, -118.2471389, -118.2485441, -118.249283, -118.2511742, -118.2527045, -118.252951, -118.2527045, -118.252114], \"marker\": {\"size\": 10}, \"mode\": \"lines\", \"name\": \"path_8\", \"type\": \"scattermapbox\"}, {\"lat\": [34.03682, 34.036332, 34.0377329, 34.0378133, 34.0385034, 34.0388101, 34.0395353, 34.0407102, 34.040971, 34.0407102, 34.041198], \"line\": {\"color\": \"#FECB52\", \"width\": 4.5}, \"lon\": [-118.248662, -118.2492716, -118.2482505, -118.2483492, -118.2490889, -118.2487295, -118.2479788, -118.2467821, -118.246632, -118.2467821, -118.246792], \"marker\": {\"size\": 10}, \"mode\": \"lines\", \"name\": \"path_9\", \"type\": \"scattermapbox\"}],\n",
              "                        {\"mapbox\": {\"center\": {\"lat\": 34.0393964, \"lon\": -118.2501948}, \"style\": \"carto-positron\", \"zoom\": 14.5}, \"margin\": {\"b\": 0, \"l\": 0, \"r\": 0, \"t\": 0}, \"template\": {\"data\": {\"bar\": [{\"error_x\": {\"color\": \"#2a3f5f\"}, \"error_y\": {\"color\": \"#2a3f5f\"}, \"marker\": {\"line\": {\"color\": \"#E5ECF6\", \"width\": 0.5}}, \"type\": \"bar\"}], \"barpolar\": [{\"marker\": {\"line\": {\"color\": \"#E5ECF6\", \"width\": 0.5}}, \"type\": \"barpolar\"}], \"carpet\": [{\"aaxis\": {\"endlinecolor\": \"#2a3f5f\", \"gridcolor\": \"white\", \"linecolor\": \"white\", \"minorgridcolor\": \"white\", \"startlinecolor\": \"#2a3f5f\"}, \"baxis\": {\"endlinecolor\": \"#2a3f5f\", \"gridcolor\": \"white\", \"linecolor\": \"white\", \"minorgridcolor\": \"white\", \"startlinecolor\": \"#2a3f5f\"}, \"type\": \"carpet\"}], \"choropleth\": [{\"colorbar\": {\"outlinewidth\": 0, \"ticks\": \"\"}, \"type\": \"choropleth\"}], \"contour\": [{\"colorbar\": {\"outlinewidth\": 0, \"ticks\": \"\"}, \"colorscale\": [[0.0, \"#0d0887\"], [0.1111111111111111, \"#46039f\"], [0.2222222222222222, \"#7201a8\"], [0.3333333333333333, \"#9c179e\"], [0.4444444444444444, \"#bd3786\"], [0.5555555555555556, \"#d8576b\"], [0.6666666666666666, \"#ed7953\"], [0.7777777777777778, \"#fb9f3a\"], [0.8888888888888888, \"#fdca26\"], [1.0, \"#f0f921\"]], \"type\": \"contour\"}], \"contourcarpet\": [{\"colorbar\": {\"outlinewidth\": 0, \"ticks\": \"\"}, \"type\": \"contourcarpet\"}], \"heatmap\": [{\"colorbar\": {\"outlinewidth\": 0, \"ticks\": \"\"}, \"colorscale\": [[0.0, \"#0d0887\"], [0.1111111111111111, \"#46039f\"], [0.2222222222222222, \"#7201a8\"], [0.3333333333333333, \"#9c179e\"], [0.4444444444444444, \"#bd3786\"], [0.5555555555555556, \"#d8576b\"], [0.6666666666666666, \"#ed7953\"], [0.7777777777777778, \"#fb9f3a\"], [0.8888888888888888, \"#fdca26\"], [1.0, \"#f0f921\"]], \"type\": \"heatmap\"}], \"heatmapgl\": [{\"colorbar\": {\"outlinewidth\": 0, \"ticks\": \"\"}, \"colorscale\": [[0.0, \"#0d0887\"], [0.1111111111111111, \"#46039f\"], [0.2222222222222222, \"#7201a8\"], [0.3333333333333333, \"#9c179e\"], [0.4444444444444444, \"#bd3786\"], [0.5555555555555556, \"#d8576b\"], [0.6666666666666666, \"#ed7953\"], [0.7777777777777778, \"#fb9f3a\"], [0.8888888888888888, \"#fdca26\"], [1.0, \"#f0f921\"]], \"type\": \"heatmapgl\"}], \"histogram\": [{\"marker\": {\"colorbar\": {\"outlinewidth\": 0, \"ticks\": \"\"}}, \"type\": \"histogram\"}], \"histogram2d\": [{\"colorbar\": {\"outlinewidth\": 0, \"ticks\": \"\"}, \"colorscale\": [[0.0, \"#0d0887\"], [0.1111111111111111, \"#46039f\"], [0.2222222222222222, \"#7201a8\"], [0.3333333333333333, \"#9c179e\"], [0.4444444444444444, \"#bd3786\"], [0.5555555555555556, \"#d8576b\"], [0.6666666666666666, \"#ed7953\"], [0.7777777777777778, \"#fb9f3a\"], [0.8888888888888888, \"#fdca26\"], [1.0, \"#f0f921\"]], \"type\": \"histogram2d\"}], \"histogram2dcontour\": [{\"colorbar\": {\"outlinewidth\": 0, \"ticks\": \"\"}, \"colorscale\": [[0.0, \"#0d0887\"], [0.1111111111111111, \"#46039f\"], [0.2222222222222222, \"#7201a8\"], [0.3333333333333333, \"#9c179e\"], [0.4444444444444444, \"#bd3786\"], [0.5555555555555556, \"#d8576b\"], [0.6666666666666666, \"#ed7953\"], [0.7777777777777778, \"#fb9f3a\"], [0.8888888888888888, \"#fdca26\"], [1.0, \"#f0f921\"]], \"type\": \"histogram2dcontour\"}], \"mesh3d\": [{\"colorbar\": {\"outlinewidth\": 0, \"ticks\": \"\"}, \"type\": \"mesh3d\"}], \"parcoords\": [{\"line\": {\"colorbar\": {\"outlinewidth\": 0, \"ticks\": \"\"}}, \"type\": \"parcoords\"}], \"pie\": [{\"automargin\": true, \"type\": \"pie\"}], \"scatter\": [{\"marker\": {\"colorbar\": {\"outlinewidth\": 0, \"ticks\": \"\"}}, \"type\": \"scatter\"}], \"scatter3d\": [{\"line\": {\"colorbar\": {\"outlinewidth\": 0, \"ticks\": \"\"}}, \"marker\": {\"colorbar\": {\"outlinewidth\": 0, \"ticks\": \"\"}}, \"type\": \"scatter3d\"}], \"scattercarpet\": [{\"marker\": {\"colorbar\": {\"outlinewidth\": 0, \"ticks\": \"\"}}, \"type\": \"scattercarpet\"}], \"scattergeo\": [{\"marker\": {\"colorbar\": {\"outlinewidth\": 0, \"ticks\": \"\"}}, \"type\": \"scattergeo\"}], \"scattergl\": [{\"marker\": {\"colorbar\": {\"outlinewidth\": 0, \"ticks\": \"\"}}, \"type\": \"scattergl\"}], \"scattermapbox\": [{\"marker\": {\"colorbar\": {\"outlinewidth\": 0, \"ticks\": \"\"}}, \"type\": \"scattermapbox\"}], \"scatterpolar\": [{\"marker\": {\"colorbar\": {\"outlinewidth\": 0, \"ticks\": \"\"}}, \"type\": \"scatterpolar\"}], \"scatterpolargl\": [{\"marker\": {\"colorbar\": {\"outlinewidth\": 0, \"ticks\": \"\"}}, \"type\": \"scatterpolargl\"}], \"scatterternary\": [{\"marker\": {\"colorbar\": {\"outlinewidth\": 0, \"ticks\": \"\"}}, \"type\": \"scatterternary\"}], \"surface\": [{\"colorbar\": {\"outlinewidth\": 0, \"ticks\": \"\"}, \"colorscale\": [[0.0, \"#0d0887\"], [0.1111111111111111, \"#46039f\"], [0.2222222222222222, \"#7201a8\"], [0.3333333333333333, \"#9c179e\"], [0.4444444444444444, \"#bd3786\"], [0.5555555555555556, \"#d8576b\"], [0.6666666666666666, \"#ed7953\"], [0.7777777777777778, \"#fb9f3a\"], [0.8888888888888888, \"#fdca26\"], [1.0, \"#f0f921\"]], \"type\": \"surface\"}], \"table\": [{\"cells\": {\"fill\": {\"color\": \"#EBF0F8\"}, \"line\": {\"color\": \"white\"}}, \"header\": {\"fill\": {\"color\": \"#C8D4E3\"}, \"line\": {\"color\": \"white\"}}, \"type\": \"table\"}]}, \"layout\": {\"annotationdefaults\": {\"arrowcolor\": \"#2a3f5f\", \"arrowhead\": 0, \"arrowwidth\": 1}, \"coloraxis\": {\"colorbar\": {\"outlinewidth\": 0, \"ticks\": \"\"}}, \"colorscale\": {\"diverging\": [[0, \"#8e0152\"], [0.1, \"#c51b7d\"], [0.2, \"#de77ae\"], [0.3, \"#f1b6da\"], [0.4, \"#fde0ef\"], [0.5, \"#f7f7f7\"], [0.6, \"#e6f5d0\"], [0.7, \"#b8e186\"], [0.8, \"#7fbc41\"], [0.9, \"#4d9221\"], [1, \"#276419\"]], \"sequential\": [[0.0, \"#0d0887\"], [0.1111111111111111, \"#46039f\"], [0.2222222222222222, \"#7201a8\"], [0.3333333333333333, \"#9c179e\"], [0.4444444444444444, \"#bd3786\"], [0.5555555555555556, \"#d8576b\"], [0.6666666666666666, \"#ed7953\"], [0.7777777777777778, \"#fb9f3a\"], [0.8888888888888888, \"#fdca26\"], [1.0, \"#f0f921\"]], \"sequentialminus\": [[0.0, \"#0d0887\"], [0.1111111111111111, \"#46039f\"], [0.2222222222222222, \"#7201a8\"], [0.3333333333333333, \"#9c179e\"], [0.4444444444444444, \"#bd3786\"], [0.5555555555555556, \"#d8576b\"], [0.6666666666666666, \"#ed7953\"], [0.7777777777777778, \"#fb9f3a\"], [0.8888888888888888, \"#fdca26\"], [1.0, \"#f0f921\"]]}, \"colorway\": [\"#636efa\", \"#EF553B\", \"#00cc96\", \"#ab63fa\", \"#FFA15A\", \"#19d3f3\", \"#FF6692\", \"#B6E880\", \"#FF97FF\", \"#FECB52\"], \"font\": {\"color\": \"#2a3f5f\"}, \"geo\": {\"bgcolor\": \"white\", \"lakecolor\": \"white\", \"landcolor\": \"#E5ECF6\", \"showlakes\": true, \"showland\": true, \"subunitcolor\": \"white\"}, \"hoverlabel\": {\"align\": \"left\"}, \"hovermode\": \"closest\", \"mapbox\": {\"style\": \"light\"}, \"paper_bgcolor\": \"white\", \"plot_bgcolor\": \"#E5ECF6\", \"polar\": {\"angularaxis\": {\"gridcolor\": \"white\", \"linecolor\": \"white\", \"ticks\": \"\"}, \"bgcolor\": \"#E5ECF6\", \"radialaxis\": {\"gridcolor\": \"white\", \"linecolor\": \"white\", \"ticks\": \"\"}}, \"scene\": {\"xaxis\": {\"backgroundcolor\": \"#E5ECF6\", \"gridcolor\": \"white\", \"gridwidth\": 2, \"linecolor\": \"white\", \"showbackground\": true, \"ticks\": \"\", \"zerolinecolor\": \"white\"}, \"yaxis\": {\"backgroundcolor\": \"#E5ECF6\", \"gridcolor\": \"white\", \"gridwidth\": 2, \"linecolor\": \"white\", \"showbackground\": true, \"ticks\": \"\", \"zerolinecolor\": \"white\"}, \"zaxis\": {\"backgroundcolor\": \"#E5ECF6\", \"gridcolor\": \"white\", \"gridwidth\": 2, \"linecolor\": \"white\", \"showbackground\": true, \"ticks\": \"\", \"zerolinecolor\": \"white\"}}, \"shapedefaults\": {\"line\": {\"color\": \"#2a3f5f\"}}, \"ternary\": {\"aaxis\": {\"gridcolor\": \"white\", \"linecolor\": \"white\", \"ticks\": \"\"}, \"baxis\": {\"gridcolor\": \"white\", \"linecolor\": \"white\", \"ticks\": \"\"}, \"bgcolor\": \"#E5ECF6\", \"caxis\": {\"gridcolor\": \"white\", \"linecolor\": \"white\", \"ticks\": \"\"}}, \"title\": {\"x\": 0.05}, \"xaxis\": {\"automargin\": true, \"gridcolor\": \"white\", \"linecolor\": \"white\", \"ticks\": \"\", \"title\": {\"standoff\": 15}, \"zerolinecolor\": \"white\", \"zerolinewidth\": 2}, \"yaxis\": {\"automargin\": true, \"gridcolor\": \"white\", \"linecolor\": \"white\", \"ticks\": \"\", \"title\": {\"standoff\": 15}, \"zerolinecolor\": \"white\", \"zerolinewidth\": 2}}}},\n",
              "                        {\"responsive\": true}\n",
              "                    ).then(function(){\n",
              "                            \n",
              "var gd = document.getElementById('e1cc0607-2e98-4031-a4a3-790f29c0c09a');\n",
              "var x = new MutationObserver(function (mutations, observer) {{\n",
              "        var display = window.getComputedStyle(gd).display;\n",
              "        if (!display || display === 'none') {{\n",
              "            console.log([gd, 'removed!']);\n",
              "            Plotly.purge(gd);\n",
              "            observer.disconnect();\n",
              "        }}\n",
              "}});\n",
              "\n",
              "// Listen for the removal of the full notebook cells\n",
              "var notebookContainer = gd.closest('#notebook-container');\n",
              "if (notebookContainer) {{\n",
              "    x.observe(notebookContainer, {childList: true});\n",
              "}}\n",
              "\n",
              "// Listen for the clearing of the current output cell\n",
              "var outputEl = gd.closest('.output');\n",
              "if (outputEl) {{\n",
              "    x.observe(outputEl, {childList: true});\n",
              "}}\n",
              "\n",
              "                        })\n",
              "                };\n",
              "                \n",
              "            </script>\n",
              "        </div>\n",
              "</body>\n",
              "</html>"
            ]
          },
          "metadata": {
            "tags": []
          }
        }
      ]
    },
    {
      "cell_type": "code",
      "metadata": {
        "colab": {
          "base_uri": "https://localhost:8080/"
        },
        "id": "_kbP0MyvWetq",
        "outputId": "5f35cf2e-528e-4841-f790-c198538c1753"
      },
      "source": [
        "hun_X = np.zeros((NUM_V, NUM_P))\r\n",
        "for i in range(NUM_V):\r\n",
        "  hun_X[hun_row_ind[i], hun_col_ind[i]] = 1\r\n",
        "\r\n",
        "hungarian_cost = np.sum(np.multiply(hun_X, C))\r\n",
        "print(\"Hungarian cost: \", hungarian_cost)\r\n",
        "print(\"Hungarian assignment: \", hun_col_ind)"
      ],
      "execution_count": null,
      "outputs": [
        {
          "output_type": "stream",
          "text": [
            "Hungarian cost:  3479.1492051474625\n",
            "Hungarian assignment:  [ 72 117  24  59  50  73  97  84  48  95]\n"
          ],
          "name": "stdout"
        }
      ]
    },
    {
      "cell_type": "markdown",
      "metadata": {
        "id": "64YGQ6_rH_Em"
      },
      "source": [
        "## Differential Evolution Algorithm"
      ]
    },
    {
      "cell_type": "code",
      "metadata": {
        "id": "N2gqoREtQZKV"
      },
      "source": [
        "from scipy.optimize import differential_evolution\r\n",
        "\r\n",
        "# Define the objective function here\r\n",
        "def DE_objective_function(X, C):\r\n",
        "  X = np.reshape(X, (NUM_V, NUM_P))\r\n",
        "\r\n",
        "  # X[i][j] must be either 1 or 0\r\n",
        "  # Force each element of X to be an integer\r\n",
        "  X = np.around(X)\r\n",
        "  cost = np.sum(np.multiply(X, C))\r\n",
        "\r\n",
        "  # Constraints goes here\r\n",
        "  # Sum of each row of X equals 1\r\n",
        "  # Sum of each column of X <= 1\r\n",
        "  penalty = 0\r\n",
        "  for i in range(NUM_V):\r\n",
        "    row_sum = X[i].sum()\r\n",
        "    penalty += LARGER_NUM * np.abs(row_sum - 1)\r\n",
        "  for j in range(NUM_P):\r\n",
        "    col_sum = X[:, j].sum()\r\n",
        "    if col_sum > 1:\r\n",
        "      penalty += LARGER_NUM * (col_sum - 1)\r\n",
        "      \r\n",
        "  return cost + penalty\r\n",
        "\r\n",
        "# Initialization solution for DE\r\n",
        "def random_solution():\r\n",
        "  X0 = np.zeros((NUM_V, NUM_P))\r\n",
        "  col_ind = []\r\n",
        "  for i in range(NUM_V):\r\n",
        "    while True:\r\n",
        "      rand_ind = np.random.randint(NUM_P)\r\n",
        "      if rand_ind not in col_ind:\r\n",
        "        col_ind.append(rand_ind)\r\n",
        "        break\r\n",
        "\r\n",
        "  for i in range(NUM_V):\r\n",
        "    X0[i][col_ind[i]] = 1\r\n",
        "  \r\n",
        "  return X0\r\n",
        "  "
      ],
      "execution_count": null,
      "outputs": []
    },
    {
      "cell_type": "code",
      "metadata": {
        "colab": {
          "base_uri": "https://localhost:8080/"
        },
        "id": "YuePR5HwWmsD",
        "outputId": "95796be3-d312-4e84-b6ab-3afd1e8c2b50"
      },
      "source": [
        "start_time = time.time()\r\n",
        "# Set bounds for each variable\r\n",
        "bounds = []\r\n",
        "for i in range(NUM_V * NUM_P):\r\n",
        "  bounds.append((0, 1))\r\n",
        "\r\n",
        "# Give a eligible random initialization\r\n",
        "pop_size = 20\r\n",
        "X_init = np.zeros((pop_size, NUM_P * NUM_V))\r\n",
        "init_cost = LARGER_NUM * 10\r\n",
        "for i in range(pop_size):\r\n",
        "  X0 = random_solution()\r\n",
        "  # Record lowest cost in the initialization\r\n",
        "  this_cost = np.sum(np.multiply(X0, C))\r\n",
        "  if this_cost < init_cost:\r\n",
        "    init_cost = this_cost\r\n",
        "  X_init[i] = X0.flatten()\r\n",
        "\r\n",
        "print('Initialization cost: ', init_cost)\r\n",
        "\r\n",
        "DE_res = differential_evolution(DE_objective_function, bounds, args = (C, ), init = X_init, maxiter = 10000, popsize = pop_size)\r\n",
        "\r\n",
        "DE_runtime = time.time() - start_time\r\n",
        "print(\"--- DE run time: %s seconds ---\" % DE_runtime)\r\n",
        "\r\n",
        "# Show results and prepare for plotting\r\n",
        "DE_X = DE_res.x\r\n",
        "DE_X = np.around(DE_X)\r\n",
        "DE_X = np.reshape(DE_X, (NUM_V, NUM_P))\r\n",
        "\r\n",
        "DE_row_ind = []\r\n",
        "DE_col_ind = []\r\n",
        "for i in range(NUM_V):\r\n",
        "  DE_row_ind.append(i)\r\n",
        "  row = DE_X[i]\r\n",
        "  DE_col_ind.append(np.argwhere(row == 1)[0][0])\r\n",
        "\r\n",
        "DE_cost = DE_res.fun\r\n",
        "print(\"DE cost: \", DE_cost)\r\n",
        "print(\"DE assignment: \", DE_col_ind)"
      ],
      "execution_count": null,
      "outputs": [
        {
          "output_type": "stream",
          "text": [
            "Initialization cost:  1011146.4300869539\n",
            "--- DE run time: 13.75355839729309 seconds ---\n",
            "DE cost:  8890.257983711217\n",
            "DE assignment:  [28, 41, 72, 24, 115, 117, 105, 88, 60, 75]\n"
          ],
          "name": "stdout"
        }
      ]
    },
    {
      "cell_type": "code",
      "metadata": {
        "colab": {
          "base_uri": "https://localhost:8080/",
          "height": 542
        },
        "id": "jqxvZgt8wADY",
        "outputId": "a994eaba-4b28-4092-e8a0-d2e57c1b8253"
      },
      "source": [
        "# Plot results\r\n",
        "fig = go.Figure()\r\n",
        "fig = fig_add_test_cases(fig, p_lat, p_long, vacp_lat, vacp_long, vacant_parkings, origin_lat, origin_long, dest_lat, dest_long, hours)\r\n",
        "fig = fig_add_result_paths(fig, DE_row_ind, DE_col_ind, list_V, list_P)\r\n",
        "fig.show()"
      ],
      "execution_count": null,
      "outputs": [
        {
          "output_type": "display_data",
          "data": {
            "text/html": [
              "<html>\n",
              "<head><meta charset=\"utf-8\" /></head>\n",
              "<body>\n",
              "    <div>\n",
              "            <script src=\"https://cdnjs.cloudflare.com/ajax/libs/mathjax/2.7.5/MathJax.js?config=TeX-AMS-MML_SVG\"></script><script type=\"text/javascript\">if (window.MathJax) {MathJax.Hub.Config({SVG: {font: \"STIX-Web\"}});}</script>\n",
              "                <script type=\"text/javascript\">window.PlotlyConfig = {MathJaxConfig: 'local'};</script>\n",
              "        <script src=\"https://cdn.plot.ly/plotly-latest.min.js\"></script>    \n",
              "            <div id=\"23c09679-d7fe-40be-a4ac-0fc84872f3d1\" class=\"plotly-graph-div\" style=\"height:525px; width:100%;\"></div>\n",
              "            <script type=\"text/javascript\">\n",
              "                \n",
              "                    window.PLOTLYENV=window.PLOTLYENV || {};\n",
              "                    \n",
              "                if (document.getElementById(\"23c09679-d7fe-40be-a4ac-0fc84872f3d1\")) {\n",
              "                    Plotly.newPlot(\n",
              "                        '23c09679-d7fe-40be-a4ac-0fc84872f3d1',\n",
              "                        [{\"lat\": [34.040251, 34.039715, 34.039839, 34.039673, 34.041576, 34.039273, 34.040221, 34.039802, 34.04044, 34.042094, 34.042382, 34.040272, 34.040754, 34.040363, 34.039163, 34.040416, 34.039911, 34.041313, 34.040629, 34.039178, 34.041838, 34.042397, 34.039631, 34.041533, 34.042111, 34.039818, 34.042067, 34.042506, 34.039593, 34.042517, 34.041645, 34.039187, 34.042127, 34.041807, 34.041486, 34.040402, 34.042296, 34.040348, 34.04235, 34.04176, 34.042038, 34.039381, 34.042278, 34.041281, 34.040588, 34.04231, 34.039724, 34.04168, 34.039243, 34.040291, 34.041618, 34.03988, 34.042759, 34.041248, 34.042314, 34.042225, 34.040658, 34.042366, 34.042262, 34.039871, 34.041411, 34.041729, 34.039685, 34.039537, 34.041566, 34.042554, 34.042638, 34.040406, 34.040138, 34.040441, 34.039703, 34.041725, 34.04008, 34.039942, 34.041062, 34.039244, 34.040186, 34.042166, 34.04014, 34.03931, 34.039124, 34.041104, 34.039846, 34.040455, 34.039504, 34.040333, 34.040123, 34.040536, 34.039183, 34.040537, 34.039054, 34.040248, 34.040313, 34.040044, 34.040575, 34.042572, 34.040487, 34.039747, 34.039361, 34.040268, 34.041324, 34.039925, 34.039364, 34.039193, 34.041687, 34.041435, 34.039967, 34.040768, 34.039708, 34.04049, 34.03992, 34.041455, 34.040922, 34.040331, 34.041976, 34.03922, 34.040226, 34.040982, 34.039795, 34.039706, 34.039791, 34.04093, 34.039074, 34.040189, 34.040429, 34.040319, 34.039326, 34.041764, 34.041378, 34.039703, 34.041177, 34.04206, 34.039931, 34.039143, 34.039902, 34.04018, 34.039889, 34.039977, 34.041117, 34.03927, 34.039999, 34.040026, 34.040624, 34.039543, 34.040865, 34.04028, 34.040511, 34.040534, 34.042064, 34.040354, 34.041079, 34.039278, 34.042373, 34.04152, 34.041017, 34.039148, 34.042621, 34.040777, 34.039846, 34.040015, 34.039169, 34.041284, 34.039758, 34.039233, 34.041256, 34.040375, 34.04142, 34.040717, 34.039059, 34.039433, 34.042004, 34.039315, 34.04036, 34.042326, 34.04167, 34.040309, 34.040191, 34.040414, 34.040813, 34.039412, 34.039088, 34.04106, 34.039743, 34.042476, 34.042151, 34.039794, 34.040862, 34.041455, 34.039884, 34.039676, 34.039179, 34.040236, 34.040471, 34.040971, 34.039759, 34.040101, 34.040452, 34.039142, 34.039769, 34.040812, 34.040355, 34.039608, 34.039644, 34.040455, 34.039129, 34.040525, 34.040812, 34.03986, 34.040663, 34.041533, 34.041181, 34.041962, 34.039821, 34.03908, 34.040869, 34.040586, 34.042679, 34.040247, 34.040509, 34.042261, 34.042091, 34.040221, 34.039533, 34.039938, 34.041487, 34.039786, 34.039666, 34.039238, 34.03969, 34.040283, 34.039287, 34.039849, 34.041378, 34.040899, 34.04202, 34.039955, 34.039661, 34.039749, 34.03979, 34.039097, 34.03978, 34.040501, 34.039807, 34.040715, 34.040319, 34.039045, 34.041918, 34.039599, 34.040909, 34.041786, 34.040402, 34.042149, 34.041414, 34.041005, 34.039808, 34.041478, 34.041329, 34.042721, 34.040902, 34.039093, 34.03973, 34.039976, 34.041062, 34.041077, 34.040318, 34.039823, 34.039239, 34.040179, 34.042106, 34.039418, 34.041476, 34.040666, 34.039902, 34.039862, 34.041213, 34.040947, 34.039951, 34.042053, 34.042163, 34.040278, 34.039051, 34.039624, 34.040041, 34.039447, 34.040727, 34.039278, 34.041279, 34.042422, 34.042206, 34.041452, 34.039212, 34.039109, 34.039967, 34.040772, 34.04252, 34.039763, 34.041351, 34.042206], \"lon\": [-118.25319, -118.252843, -118.250218, -118.251762, -118.248779, -118.253051, -118.251776, -118.250177, -118.252735, -118.249576, -118.252947, -118.250986, -118.248122, -118.251808, -118.252953, -118.25155, -118.250734, -118.246273, -118.251499, -118.248225, -118.252562, -118.251465, -118.251032, -118.252767, -118.251869, -118.250833, -118.251938, -118.251562, -118.251074, -118.251302, -118.252858, -118.252522, -118.251847, -118.252608, -118.25284, -118.250024, -118.249614, -118.25008, -118.251775, -118.252682, -118.251983, -118.251301, -118.251626, -118.253143, -118.250013, -118.251582, -118.250933, -118.252807, -118.252583, -118.250141, -118.25264, -118.25217, -118.250978, -118.253194, -118.251824, -118.251699, -118.24975, -118.251508, -118.251902, -118.250775, -118.246171, -118.252731, -118.250974, -118.251134, -118.252719, -118.251496, -118.25114, -118.252777, -118.24867, -118.24998, -118.252575, -118.251975, -118.251938, -118.247424, -118.249508, -118.249939, -118.251095, -118.252448, -118.247217, -118.253009, -118.252996, -118.249463, -118.247526, -118.250618, -118.24986, -118.247303, -118.251888, -118.248184, -118.249252, -118.251604, -118.252377, -118.250186, -118.251864, -118.247317, -118.251561, -118.247855, -118.251664, -118.247628, -118.252162, -118.252957, -118.250709, -118.25053, -118.252951, -118.251499, -118.248676, -118.248922, -118.250674, -118.249821, -118.251717, -118.252667, -118.252123, -118.250561, -118.251379, -118.253085, -118.249975, -118.25311, -118.248561, -118.252033, -118.252465, -118.249394, -118.253186, -118.246676, -118.248334, -118.248605, -118.247202, -118.251662, -118.252208, -118.252015, -118.249173, -118.247675, -118.250873, -118.249616, -118.25143, -118.252219, -118.247467, -118.247462, -118.252358, -118.252057, -118.251587, -118.248417, -118.247364, -118.252001, -118.251058, -118.249902, -118.252181, -118.247357, -118.25144, -118.250071, -118.248326, -118.248404, -118.250983, -118.24812, -118.24804, -118.249021, -118.246584, -118.25248, -118.24781, -118.252507, -118.251538, -118.251319, -118.248521, -118.250754, -118.251651, -118.251458, -118.246333, -118.251599, -118.249129, -118.248169, -118.251454, -118.248247, -118.24968, -118.248081, -118.250515, -118.25288, -118.251915, -118.250938, -118.250596, -118.250573, -118.249584, -118.252096, -118.25216, -118.25214, -118.24935, -118.247946, -118.249777, -118.251604, -118.2524, -118.246126, -118.25149, -118.252803, -118.253156, -118.252998, -118.251485, -118.246632, -118.252509, -118.247258, -118.251705, -118.250056, -118.252906, -118.252461, -118.252844, -118.247775, -118.247736, -118.248485, -118.248562, -118.252624, -118.249775, -118.249204, -118.248233, -118.248819, -118.251986, -118.249727, -118.250641, -118.251621, -118.249716, -118.251018, -118.247756, -118.250655, -118.250676, -118.248145, -118.252632, -118.251051, -118.25194, -118.252299, -118.250526, -118.25228, -118.252619, -118.248162, -118.252389, -118.253149, -118.2514, -118.252403, -118.248984, -118.252136, -118.249926, -118.253111, -118.249763, -118.25012, -118.249088, -118.251412, -118.250875, -118.249916, -118.247567, -118.249691, -118.250471, -118.249973, -118.250039, -118.249963, -118.249671, -118.25019, -118.251761, -118.252695, -118.251904, -118.249569, -118.252947, -118.249065, -118.249227, -118.247718, -118.247739, -118.25242, -118.252343, -118.252254, -118.246536, -118.251544, -118.252891, -118.252237, -118.25126, -118.251824, -118.248289, -118.251261, -118.248879, -118.251455, -118.25305, -118.253008, -118.246376, -118.252074, -118.247703, -118.252591, -118.248236, -118.251708, -118.252119, -118.249725, -118.247608, -118.252052, -118.252361, -118.251219, -118.249277, -118.252986, -118.252491, -118.251946, -118.249777, -118.250095, -118.251382, -118.249629, -118.247907, -118.250704, -118.246233, -118.248195], \"marker\": {\"color\": \"orange\", \"size\": 5}, \"mode\": \"markers\", \"name\": \"Occupied parking\", \"type\": \"scattermapbox\"}, {\"hoverinfo\": \"text\", \"hovertext\": [\"Hourly rate: 2.0; Max rate: 8.0; Hour Limit: 2.0\", \"Hourly rate: 1.5; Max rate: 12.0; Hour Limit: 2.0\", \"Hourly rate: 3.0; Max rate: 8.0; Hour Limit: 2.0\", \"Hourly rate: 0.5; Max rate: 10.0; Hour Limit: 2.0\", \"Hourly rate: 1.5; Max rate: 8.0; Hour Limit: 2.0\", \"Hourly rate: 3.0; Max rate: 10.0; Hour Limit: 2.0\", \"Hourly rate: 3.0; Max rate: 10.0; Hour Limit: 2.0\", \"Hourly rate: 1.5; Max rate: 10.0; Hour Limit: 2.0\", \"Hourly rate: 4.0; Max rate: 8.0; Hour Limit: 2.0\", \"Hourly rate: 4.0; Max rate: 8.0; Hour Limit: 2.0\", \"Hourly rate: 1.5; Max rate: 8.0; Hour Limit: 2.0\", \"Hourly rate: 4.0; Max rate: 8.0; Hour Limit: 2.0\", \"Hourly rate: 1.5; Max rate: 8.0; Hour Limit: 2.0\", \"Hourly rate: 1.5; Max rate: 8.0; Hour Limit: 2.0\", \"Hourly rate: 1.5; Max rate: 8.0; Hour Limit: 2.0\", \"Hourly rate: 4.0; Max rate: 12.0; Hour Limit: 2.0\", \"Hourly rate: 1.5; Max rate: 8.0; Hour Limit: 2.0\", \"Hourly rate: 3.0; Max rate: 8.0; Hour Limit: 2.0\", \"Hourly rate: 4.0; Max rate: 8.0; Hour Limit: 2.0\", \"Hourly rate: 2.0; Max rate: 24.0; Hour Limit: 4.0\", \"Hourly rate: 2.0; Max rate: 8.0; Hour Limit: 2.0\", \"Hourly rate: 1.5; Max rate: 8.0; Hour Limit: 2.0\", \"Hourly rate: 4.0; Max rate: 8.0; Hour Limit: 2.0\", \"Hourly rate: 1.5; Max rate: 8.0; Hour Limit: 2.0\", \"Hourly rate: 0.5; Max rate: 24.0; Hour Limit: 4.0\", \"Hourly rate: 1.5; Max rate: 8.0; Hour Limit: 2.0\", \"Hourly rate: 3.0; Max rate: 8.0; Hour Limit: 2.0\", \"Hourly rate: 4.0; Max rate: 12.0; Hour Limit: 2.0\", \"Hourly rate: 4.0; Max rate: 8.0; Hour Limit: 2.0\", \"Hourly rate: 3.0; Max rate: 10.0; Hour Limit: 2.0\", \"Hourly rate: 1.5; Max rate: 8.0; Hour Limit: 2.0\", \"Hourly rate: 4.0; Max rate: 8.0; Hour Limit: 2.0\", \"Hourly rate: 2.0; Max rate: 8.0; Hour Limit: 2.0\", \"Hourly rate: 1.5; Max rate: 8.0; Hour Limit: 2.0\", \"Hourly rate: 1.5; Max rate: 8.0; Hour Limit: 2.0\", \"Hourly rate: 2.0; Max rate: 8.0; Hour Limit: 2.0\", \"Hourly rate: 3.0; Max rate: 8.0; Hour Limit: 2.0\", \"Hourly rate: 4.0; Max rate: 8.0; Hour Limit: 2.0\", \"Hourly rate: 4.0; Max rate: 8.0; Hour Limit: 2.0\", \"Hourly rate: 1.5; Max rate: 8.0; Hour Limit: 2.0\", \"Hourly rate: 3.0; Max rate: 10.0; Hour Limit: 2.0\", \"Hourly rate: 0.5; Max rate: 12.0; Hour Limit: 2.0\", \"Hourly rate: 3.0; Max rate: 8.0; Hour Limit: 2.0\", \"Hourly rate: 0.5; Max rate: 10.0; Hour Limit: 2.0\", \"Hourly rate: 3.0; Max rate: 10.0; Hour Limit: 2.0\", \"Hourly rate: 4.0; Max rate: 12.0; Hour Limit: 2.0\", \"Hourly rate: 0.5; Max rate: 6.0; Hour Limit: 4.0\", \"Hourly rate: 4.0; Max rate: 8.0; Hour Limit: 2.0\", \"Hourly rate: 1.5; Max rate: 8.0; Hour Limit: 2.0\", \"Hourly rate: 4.0; Max rate: 8.0; Hour Limit: 2.0\", \"Hourly rate: 0.5; Max rate: 10.0; Hour Limit: 2.0\", \"Hourly rate: 0.5; Max rate: 24.0; Hour Limit: 4.0\", \"Hourly rate: 3.0; Max rate: 8.0; Hour Limit: 2.0\", \"Hourly rate: 3.0; Max rate: 10.0; Hour Limit: 2.0\", \"Hourly rate: 2.0; Max rate: 24.0; Hour Limit: 4.0\", \"Hourly rate: 1.5; Max rate: 8.0; Hour Limit: 2.0\", \"Hourly rate: 3.0; Max rate: 8.0; Hour Limit: 2.0\", \"Hourly rate: 4.0; Max rate: 8.0; Hour Limit: 2.0\", \"Hourly rate: 5.0; Max rate: 10.0; Hour Limit: 2.0\", \"Hourly rate: 1.0; Max rate: 3.0; Hour Limit: 2.0\", \"Hourly rate: 3.0; Max rate: 8.0; Hour Limit: 2.0\", \"Hourly rate: 3.0; Max rate: 10.0; Hour Limit: 2.0\", \"Hourly rate: 0.5; Max rate: 24.0; Hour Limit: 4.0\", \"Hourly rate: 3.0; Max rate: 8.0; Hour Limit: 2.0\", \"Hourly rate: 4.0; Max rate: 12.0; Hour Limit: 2.0\", \"Hourly rate: 4.0; Max rate: 8.0; Hour Limit: 2.0\", \"Hourly rate: 3.0; Max rate: 10.0; Hour Limit: 2.0\", \"Hourly rate: 0.5; Max rate: 6.0; Hour Limit: 4.0\", \"Hourly rate: 3.0; Max rate: 10.0; Hour Limit: 2.0\", \"Hourly rate: 4.0; Max rate: 10.0; Hour Limit: 2.0\", \"Hourly rate: 0.5; Max rate: 12.0; Hour Limit: 2.0\", \"Hourly rate: 3.0; Max rate: 8.0; Hour Limit: 2.0\", \"Hourly rate: 0.5; Max rate: 6.0; Hour Limit: 4.0\", \"Hourly rate: 2.0; Max rate: 24.0; Hour Limit: 4.0\", \"Hourly rate: 0.5; Max rate: 6.0; Hour Limit: 4.0\", \"Hourly rate: 1.0; Max rate: 3.0; Hour Limit: 2.0\", \"Hourly rate: 4.0; Max rate: 12.0; Hour Limit: 2.0\", \"Hourly rate: 0.5; Max rate: 6.0; Hour Limit: 4.0\", \"Hourly rate: 3.0; Max rate: 8.0; Hour Limit: 2.0\", \"Hourly rate: 3.0; Max rate: 8.0; Hour Limit: 2.0\", \"Hourly rate: 3.0; Max rate: 8.0; Hour Limit: 2.0\", \"Hourly rate: 1.0; Max rate: 3.0; Hour Limit: 2.0\", \"Hourly rate: 3.0; Max rate: 10.0; Hour Limit: 2.0\", \"Hourly rate: 2.0; Max rate: 8.0; Hour Limit: 2.0\", \"Hourly rate: 0.5; Max rate: 24.0; Hour Limit: 4.0\", \"Hourly rate: 3.0; Max rate: 10.0; Hour Limit: 2.0\", \"Hourly rate: 3.0; Max rate: 8.0; Hour Limit: 2.0\", \"Hourly rate: 4.0; Max rate: 12.0; Hour Limit: 2.0\", \"Hourly rate: 0.5; Max rate: 6.0; Hour Limit: 4.0\", \"Hourly rate: 2.0; Max rate: 24.0; Hour Limit: 4.0\", \"Hourly rate: 3.0; Max rate: 8.0; Hour Limit: 2.0\", \"Hourly rate: 2.0; Max rate: 8.0; Hour Limit: 2.0\", \"Hourly rate: 3.0; Max rate: 8.0; Hour Limit: 2.0\", \"Hourly rate: 3.0; Max rate: 8.0; Hour Limit: 2.0\", \"Hourly rate: 3.0; Max rate: 10.0; Hour Limit: 2.0\", \"Hourly rate: 1.0; Max rate: 3.0; Hour Limit: 2.0\", \"Hourly rate: 4.0; Max rate: 8.0; Hour Limit: 2.0\", \"Hourly rate: 0.5; Max rate: 6.0; Hour Limit: 4.0\", \"Hourly rate: 4.0; Max rate: 8.0; Hour Limit: 2.0\", \"Hourly rate: 1.5; Max rate: 12.0; Hour Limit: 2.0\", \"Hourly rate: 3.0; Max rate: 8.0; Hour Limit: 2.0\", \"Hourly rate: 0.5; Max rate: 6.0; Hour Limit: 4.0\", \"Hourly rate: 0.5; Max rate: 6.0; Hour Limit: 4.0\", \"Hourly rate: 0.5; Max rate: 24.0; Hour Limit: 4.0\", \"Hourly rate: 4.0; Max rate: 8.0; Hour Limit: 2.0\", \"Hourly rate: 0.5; Max rate: 6.0; Hour Limit: 4.0\", \"Hourly rate: 0.5; Max rate: 6.0; Hour Limit: 4.0\", \"Hourly rate: 3.0; Max rate: 8.0; Hour Limit: 2.0\", \"Hourly rate: 3.0; Max rate: 10.0; Hour Limit: 2.0\", \"Hourly rate: 4.0; Max rate: 8.0; Hour Limit: 2.0\", \"Hourly rate: 4.0; Max rate: 8.0; Hour Limit: 2.0\", \"Hourly rate: 3.0; Max rate: 8.0; Hour Limit: 2.0\", \"Hourly rate: 2.0; Max rate: 24.0; Hour Limit: 4.0\", \"Hourly rate: 1.5; Max rate: 12.0; Hour Limit: 2.0\", \"Hourly rate: 0.5; Max rate: 24.0; Hour Limit: 4.0\", \"Hourly rate: 2.0; Max rate: 8.0; Hour Limit: 2.0\", \"Hourly rate: 4.0; Max rate: 8.0; Hour Limit: 2.0\", \"Hourly rate: 0.5; Max rate: 12.0; Hour Limit: 2.0\", \"Hourly rate: 2.0; Max rate: 24.0; Hour Limit: 4.0\", \"Hourly rate: 2.0; Max rate: 24.0; Hour Limit: 4.0\", \"Hourly rate: 1.5; Max rate: 12.0; Hour Limit: 2.0\", \"Hourly rate: 0.5; Max rate: 6.0; Hour Limit: 4.0\", \"Hourly rate: 4.0; Max rate: 12.0; Hour Limit: 2.0\", \"Hourly rate: 3.0; Max rate: 10.0; Hour Limit: 2.0\", \"Hourly rate: 4.0; Max rate: 8.0; Hour Limit: 2.0\", \"Hourly rate: 1.0; Max rate: 3.0; Hour Limit: 2.0\", \"Hourly rate: 3.0; Max rate: 8.0; Hour Limit: 2.0\", \"Hourly rate: 3.0; Max rate: 10.0; Hour Limit: 2.0\", \"Hourly rate: 0.5; Max rate: 6.0; Hour Limit: 4.0\", \"Hourly rate: 1.5; Max rate: 12.0; Hour Limit: 2.0\", \"Hourly rate: 1.5; Max rate: 12.0; Hour Limit: 2.0\", \"Hourly rate: 0.5; Max rate: 6.0; Hour Limit: 4.0\", \"Hourly rate: 4.0; Max rate: 12.0; Hour Limit: 2.0\", \"Hourly rate: 0.5; Max rate: 10.0; Hour Limit: 2.0\", \"Hourly rate: 3.0; Max rate: 8.0; Hour Limit: 2.0\", \"Hourly rate: 2.0; Max rate: 8.0; Hour Limit: 2.0\", \"Hourly rate: 3.0; Max rate: 8.0; Hour Limit: 2.0\", \"Hourly rate: 0.5; Max rate: 6.0; Hour Limit: 4.0\", \"Hourly rate: 0.5; Max rate: 6.0; Hour Limit: 4.0\"], \"lat\": [34.040251, 34.039715, 34.039673, 34.041576, 34.039273, 34.040221, 34.042382, 34.040754, 34.040363, 34.039163, 34.042397, 34.041533, 34.042111, 34.042067, 34.042517, 34.039187, 34.042127, 34.041807, 34.041486, 34.042296, 34.04235, 34.042038, 34.039381, 34.042278, 34.040588, 34.04231, 34.04168, 34.039243, 34.041618, 34.03988, 34.042759, 34.041248, 34.042314, 34.042225, 34.042366, 34.042262, 34.041729, 34.039537, 34.041566, 34.042638, 34.04008, 34.039244, 34.040186, 34.040333, 34.040123, 34.039054, 34.042572, 34.040487, 34.039364, 34.039193, 34.041687, 34.040768, 34.039708, 34.03992, 34.041976, 34.03922, 34.040982, 34.039795, 34.039791, 34.04093, 34.039326, 34.041764, 34.041378, 34.039931, 34.039143, 34.039889, 34.039977, 34.039999, 34.040026, 34.040624, 34.039543, 34.040865, 34.042064, 34.041079, 34.042373, 34.041017, 34.039148, 34.042621, 34.039846, 34.040015, 34.039758, 34.041256, 34.040375, 34.039059, 34.042004, 34.042326, 34.039412, 34.039088, 34.042476, 34.042151, 34.039794, 34.040862, 34.039884, 34.040236, 34.040471, 34.040971, 34.039759, 34.040101, 34.040452, 34.039769, 34.040355, 34.039608, 34.039644, 34.040812, 34.03908, 34.042679, 34.042261, 34.039533, 34.039786, 34.039666, 34.039849, 34.040899, 34.04202, 34.039955, 34.039661, 34.039097, 34.03978, 34.040319, 34.041918, 34.041786, 34.039808, 34.042721, 34.039093, 34.03973, 34.039976, 34.041062, 34.040318, 34.039823, 34.042106, 34.039902, 34.039862, 34.042163, 34.039051, 34.040041, 34.039447, 34.039278, 34.039967, 34.04252, 34.042206], \"lon\": [-118.25319, -118.252843, -118.251762, -118.248779, -118.253051, -118.251776, -118.252947, -118.248122, -118.251808, -118.252953, -118.251465, -118.252767, -118.251869, -118.251938, -118.251302, -118.252522, -118.251847, -118.252608, -118.25284, -118.249614, -118.251775, -118.251983, -118.251301, -118.251626, -118.250013, -118.251582, -118.252807, -118.252583, -118.25264, -118.25217, -118.250978, -118.253194, -118.251824, -118.251699, -118.251508, -118.251902, -118.252731, -118.251134, -118.252719, -118.25114, -118.251938, -118.249939, -118.251095, -118.247303, -118.251888, -118.252377, -118.247855, -118.251664, -118.252951, -118.251499, -118.248676, -118.249821, -118.251717, -118.252123, -118.249975, -118.25311, -118.252033, -118.252465, -118.253186, -118.246676, -118.252208, -118.252015, -118.249173, -118.25143, -118.252219, -118.252358, -118.252057, -118.247364, -118.252001, -118.251058, -118.249902, -118.252181, -118.248326, -118.250983, -118.24804, -118.246584, -118.25248, -118.24781, -118.251538, -118.251319, -118.251651, -118.246333, -118.251599, -118.251454, -118.24968, -118.25288, -118.252096, -118.25216, -118.247946, -118.249777, -118.251604, -118.2524, -118.25149, -118.252998, -118.251485, -118.246632, -118.252509, -118.247258, -118.251705, -118.252906, -118.252844, -118.247775, -118.247736, -118.249775, -118.251621, -118.247756, -118.248145, -118.25194, -118.25228, -118.252619, -118.252403, -118.252136, -118.249926, -118.253111, -118.249763, -118.251412, -118.250875, -118.250471, -118.250039, -118.25019, -118.252947, -118.247718, -118.25242, -118.252343, -118.252254, -118.246536, -118.252891, -118.252237, -118.248289, -118.25305, -118.253008, -118.248236, -118.252119, -118.247608, -118.252052, -118.251219, -118.251382, -118.247907, -118.248195], \"marker\": {\"color\": \"darkgreen\", \"size\": 5}, \"mode\": \"markers\", \"name\": \"Vacant parking\", \"type\": \"scattermapbox\"}, {\"lat\": [34.038526], \"lon\": [-118.254028], \"marker\": {\"color\": \"blue\", \"size\": 10}, \"mode\": \"markers\", \"name\": \"Start point 0\", \"type\": \"scattermapbox\"}, {\"lat\": [34.034314], \"lon\": [-118.252074], \"marker\": {\"color\": \"blue\", \"size\": 10}, \"mode\": \"markers\", \"name\": \"Start point 1\", \"type\": \"scattermapbox\"}, {\"lat\": [34.043959], \"lon\": [-118.243785], \"marker\": {\"color\": \"blue\", \"size\": 10}, \"mode\": \"markers\", \"name\": \"Start point 2\", \"type\": \"scattermapbox\"}, {\"lat\": [34.038329], \"lon\": [-118.245367], \"marker\": {\"color\": \"blue\", \"size\": 10}, \"mode\": \"markers\", \"name\": \"Start point 3\", \"type\": \"scattermapbox\"}, {\"lat\": [34.040802], \"lon\": [-118.260495], \"marker\": {\"color\": \"blue\", \"size\": 10}, \"mode\": \"markers\", \"name\": \"Start point 4\", \"type\": \"scattermapbox\"}, {\"lat\": [34.038147], \"lon\": [-118.257064], \"marker\": {\"color\": \"blue\", \"size\": 10}, \"mode\": \"markers\", \"name\": \"Start point 5\", \"type\": \"scattermapbox\"}, {\"lat\": [34.034895], \"lon\": [-118.253033], \"marker\": {\"color\": \"blue\", \"size\": 10}, \"mode\": \"markers\", \"name\": \"Start point 6\", \"type\": \"scattermapbox\"}, {\"lat\": [34.042111], \"lon\": [-118.244735], \"marker\": {\"color\": \"blue\", \"size\": 10}, \"mode\": \"markers\", \"name\": \"Start point 7\", \"type\": \"scattermapbox\"}, {\"lat\": [34.046061], \"lon\": [-118.242705], \"marker\": {\"color\": \"blue\", \"size\": 10}, \"mode\": \"markers\", \"name\": \"Start point 8\", \"type\": \"scattermapbox\"}, {\"lat\": [34.03682], \"lon\": [-118.248662], \"marker\": {\"color\": \"blue\", \"size\": 10}, \"mode\": \"markers\", \"name\": \"Start point 9\", \"type\": \"scattermapbox\"}, {\"hoverinfo\": \"text\", \"hovertext\": \"Destination 0; Hours: 2.0\", \"lat\": [34.042308], \"lon\": [-118.250414], \"marker\": {\"color\": \"red\", \"size\": 10}, \"mode\": \"markers\", \"name\": \"Destination 0\", \"type\": \"scattermapbox\"}, {\"hoverinfo\": \"text\", \"hovertext\": \"Destination 1; Hours: 2.0\", \"lat\": [34.041665], \"lon\": [-118.251708], \"marker\": {\"color\": \"red\", \"size\": 10}, \"mode\": \"markers\", \"name\": \"Destination 1\", \"type\": \"scattermapbox\"}, {\"hoverinfo\": \"text\", \"hovertext\": \"Destination 2; Hours: 2.5\", \"lat\": [34.039068], \"lon\": [-118.251934], \"marker\": {\"color\": \"red\", \"size\": 10}, \"mode\": \"markers\", \"name\": \"Destination 2\", \"type\": \"scattermapbox\"}, {\"hoverinfo\": \"text\", \"hovertext\": \"Destination 3; Hours: 1\", \"lat\": [34.040547], \"lon\": [-118.246945], \"marker\": {\"color\": \"red\", \"size\": 10}, \"mode\": \"markers\", \"name\": \"Destination 3\", \"type\": \"scattermapbox\"}, {\"hoverinfo\": \"text\", \"hovertext\": \"Destination 4; Hours: 0.5\", \"lat\": [34.041726], \"lon\": [-118.248157], \"marker\": {\"color\": \"red\", \"size\": 10}, \"mode\": \"markers\", \"name\": \"Destination 4\", \"type\": \"scattermapbox\"}, {\"hoverinfo\": \"text\", \"hovertext\": \"Destination 5; Hours: 1\", \"lat\": [34.040755], \"lon\": [-118.251687], \"marker\": {\"color\": \"red\", \"size\": 10}, \"mode\": \"markers\", \"name\": \"Destination 5\", \"type\": \"scattermapbox\"}, {\"hoverinfo\": \"text\", \"hovertext\": \"Destination 6; Hours: 2.5\", \"lat\": [34.042034], \"lon\": [-118.247397], \"marker\": {\"color\": \"red\", \"size\": 10}, \"mode\": \"markers\", \"name\": \"Destination 6\", \"type\": \"scattermapbox\"}, {\"hoverinfo\": \"text\", \"hovertext\": \"Destination 7; Hours: 3\", \"lat\": [34.041959], \"lon\": [-118.252433], \"marker\": {\"color\": \"red\", \"size\": 10}, \"mode\": \"markers\", \"name\": \"Destination 7\", \"type\": \"scattermapbox\"}, {\"hoverinfo\": \"text\", \"hovertext\": \"Destination 8; Hours: 1.5\", \"lat\": [34.039944], \"lon\": [-118.252114], \"marker\": {\"color\": \"red\", \"size\": 10}, \"mode\": \"markers\", \"name\": \"Destination 8\", \"type\": \"scattermapbox\"}, {\"hoverinfo\": \"text\", \"hovertext\": \"Destination 9; Hours: 0.5\", \"lat\": [34.041198], \"lon\": [-118.246792], \"marker\": {\"color\": \"red\", \"size\": 10}, \"mode\": \"markers\", \"name\": \"Destination 9\", \"type\": \"scattermapbox\"}, {\"lat\": [34.038526, 34.0382973, 34.0394724, 34.0408341, 34.0413273, 34.0419066, 34.041618, 34.0419066, 34.043267, 34.0424431, 34.042308], \"line\": {\"color\": \"#636EFA\", \"width\": 4.5}, \"lon\": [-118.254028, -118.2540363, -118.2527045, -118.2511742, -118.2516815, -118.2523204, -118.25264, -118.2523204, -118.2504401, -118.249283, -118.250414], \"marker\": {\"size\": 10}, \"mode\": \"lines\", \"name\": \"path_0\", \"type\": \"scattermapbox\"}, {\"lat\": [34.034314, 34.0352169, 34.0359117, 34.0366293, 34.037278, 34.0385034, 34.0391437, 34.0394174, 34.039244, 34.0394174, 34.0401238, 34.040506, 34.0408341, 34.0413273, 34.041665], \"line\": {\"color\": \"#EF553B\", \"width\": 4.5}, \"lon\": [-118.252074, -118.2521834, -118.2517027, -118.2510571, -118.2503356, -118.2490889, -118.2493545, -118.2496629, -118.249939, -118.2496629, -118.250412, -118.2508182, -118.2511742, -118.2516815, -118.251708], \"marker\": {\"size\": 10}, \"mode\": \"lines\", \"name\": \"path_1\", \"type\": \"scattermapbox\"}, {\"lat\": [34.043959, 34.0442021, 34.0445678, 34.0448965, 34.0434656, 34.0419269, 34.042064, 34.0419269, 34.0401238, 34.0387407, 34.039068], \"line\": {\"color\": \"#00CC96\", \"width\": 4.5}, \"lon\": [-118.243785, -118.2439151, -118.2449808, -118.2458399, -118.2471389, -118.2485441, -118.248326, -118.2485441, -118.250412, -118.25192, -118.251934], \"marker\": {\"size\": 10}, \"mode\": \"lines\", \"name\": \"path_2\", \"type\": \"scattermapbox\"}, {\"lat\": [34.038329, 34.037839, 34.0384076, 34.0389202, 34.0395353, 34.0388101, 34.0391437, 34.0394174, 34.0401238, 34.040588, 34.0401238, 34.0394174, 34.041176, 34.0407102, 34.040547], \"line\": {\"color\": \"#AB63FA\", \"width\": 4.5}, \"lon\": [-118.245367, -118.2456195, -118.2464231, -118.2471761, -118.2479788, -118.2487295, -118.2493545, -118.2496629, -118.250412, -118.250013, -118.250412, -118.2496629, -118.2474616, -118.2467821, -118.246945], \"marker\": {\"size\": 10}, \"mode\": \"lines\", \"name\": \"path_3\", \"type\": \"scattermapbox\"}, {\"lat\": [34.040802, 34.0408648, 34.0423135, 34.0416166, 34.0409224, 34.0404673, 34.0416058, 34.0407353, 34.0404699, 34.0400347, 34.0394724, 34.0392388, 34.0387407, 34.039097, 34.0387407, 34.0401238, 34.0419269, 34.041726], \"line\": {\"color\": \"#FFA15A\", \"width\": 4.5}, \"lon\": [-118.260495, -118.2608845, -118.2595335, -118.2584557, -118.257417, -118.2567089, -118.2550012, -118.2541052, -118.2538167, -118.2533637, -118.2527045, -118.2524433, -118.25192, -118.251412, -118.25192, -118.250412, -118.2485441, -118.248157], \"marker\": {\"size\": 10}, \"mode\": \"lines\", \"name\": \"path_4\", \"type\": \"scattermapbox\"}, {\"lat\": [34.038147, 34.0384308, 34.0395951, 34.0407353, 34.0404699, 34.0403223, 34.0413273, 34.0408341, 34.040506, 34.0401238, 34.040319, 34.0401238, 34.040506, 34.0408341, 34.040755], \"line\": {\"color\": \"#19D3F3\", \"width\": 4.5}, \"lon\": [-118.257064, -118.257128, -118.2558518, -118.2541052, -118.2538167, -118.2529893, -118.2516815, -118.2511742, -118.2508182, -118.250412, -118.250471, -118.250412, -118.2508182, -118.2511742, -118.251687], \"marker\": {\"size\": 10}, \"mode\": \"lines\", \"name\": \"path_5\", \"type\": \"scattermapbox\"}, {\"lat\": [34.034895, 34.0352169, 34.0359117, 34.0366293, 34.037278, 34.0385034, 34.0391437, 34.0394174, 34.0401238, 34.0419269, 34.0434656, 34.042679, 34.0434656, 34.0428342, 34.041176, 34.042034], \"line\": {\"color\": \"#FF6692\", \"width\": 4.5}, \"lon\": [-118.253033, -118.2521834, -118.2517027, -118.2510571, -118.2503356, -118.2490889, -118.2493545, -118.2496629, -118.250412, -118.2485441, -118.2471389, -118.247756, -118.2471389, -118.2461932, -118.2474616, -118.247397], \"marker\": {\"size\": 10}, \"mode\": \"lines\", \"name\": \"path_6\", \"type\": \"scattermapbox\"}, {\"lat\": [34.042111, 34.0422495, 34.0407102, 34.041176, 34.0419269, 34.042476, 34.0419269, 34.0424431, 34.043267, 34.0419066, 34.041959], \"line\": {\"color\": \"#B6E880\", \"width\": 4.5}, \"lon\": [-118.244735, -118.2452515, -118.2467821, -118.2474616, -118.2485441, -118.247946, -118.2485441, -118.249283, -118.2504401, -118.2523204, -118.252433], \"marker\": {\"size\": 10}, \"mode\": \"lines\", \"name\": \"path_7\", \"type\": \"scattermapbox\"}, {\"lat\": [34.046061, 34.0458226, 34.0449539, 34.0442021, 34.0445678, 34.0448965, 34.0434656, 34.0419269, 34.0401238, 34.040506, 34.0392388, 34.039326, 34.0392388, 34.0394724, 34.039944], \"line\": {\"color\": \"#FF97FF\", \"width\": 4.5}, \"lon\": [-118.242705, -118.243018, -118.2434595, -118.2439151, -118.2449808, -118.2458399, -118.2471389, -118.2485441, -118.250412, -118.2508182, -118.2524433, -118.252208, -118.2524433, -118.2527045, -118.252114], \"marker\": {\"size\": 10}, \"mode\": \"lines\", \"name\": \"path_8\", \"type\": \"scattermapbox\"}, {\"lat\": [34.03682, 34.036332, 34.0377329, 34.0378133, 34.0385034, 34.0388101, 34.0395353, 34.0407102, 34.041017, 34.0407102, 34.041198], \"line\": {\"color\": \"#FECB52\", \"width\": 4.5}, \"lon\": [-118.248662, -118.2492716, -118.2482505, -118.2483492, -118.2490889, -118.2487295, -118.2479788, -118.2467821, -118.246584, -118.2467821, -118.246792], \"marker\": {\"size\": 10}, \"mode\": \"lines\", \"name\": \"path_9\", \"type\": \"scattermapbox\"}],\n",
              "                        {\"mapbox\": {\"center\": {\"lat\": 34.0393964, \"lon\": -118.2501948}, \"style\": \"carto-positron\", \"zoom\": 14.5}, \"margin\": {\"b\": 0, \"l\": 0, \"r\": 0, \"t\": 0}, \"template\": {\"data\": {\"bar\": [{\"error_x\": {\"color\": \"#2a3f5f\"}, \"error_y\": {\"color\": \"#2a3f5f\"}, \"marker\": {\"line\": {\"color\": \"#E5ECF6\", \"width\": 0.5}}, \"type\": \"bar\"}], \"barpolar\": [{\"marker\": {\"line\": {\"color\": \"#E5ECF6\", \"width\": 0.5}}, \"type\": \"barpolar\"}], \"carpet\": [{\"aaxis\": {\"endlinecolor\": \"#2a3f5f\", \"gridcolor\": \"white\", \"linecolor\": \"white\", \"minorgridcolor\": \"white\", \"startlinecolor\": \"#2a3f5f\"}, \"baxis\": {\"endlinecolor\": \"#2a3f5f\", \"gridcolor\": \"white\", \"linecolor\": \"white\", \"minorgridcolor\": \"white\", \"startlinecolor\": \"#2a3f5f\"}, \"type\": \"carpet\"}], \"choropleth\": [{\"colorbar\": {\"outlinewidth\": 0, \"ticks\": \"\"}, \"type\": \"choropleth\"}], \"contour\": [{\"colorbar\": {\"outlinewidth\": 0, \"ticks\": \"\"}, \"colorscale\": [[0.0, \"#0d0887\"], [0.1111111111111111, \"#46039f\"], [0.2222222222222222, \"#7201a8\"], [0.3333333333333333, \"#9c179e\"], [0.4444444444444444, \"#bd3786\"], [0.5555555555555556, \"#d8576b\"], [0.6666666666666666, \"#ed7953\"], [0.7777777777777778, \"#fb9f3a\"], [0.8888888888888888, \"#fdca26\"], [1.0, \"#f0f921\"]], \"type\": \"contour\"}], \"contourcarpet\": [{\"colorbar\": {\"outlinewidth\": 0, \"ticks\": \"\"}, \"type\": \"contourcarpet\"}], \"heatmap\": [{\"colorbar\": {\"outlinewidth\": 0, \"ticks\": \"\"}, \"colorscale\": [[0.0, \"#0d0887\"], [0.1111111111111111, \"#46039f\"], [0.2222222222222222, \"#7201a8\"], [0.3333333333333333, \"#9c179e\"], [0.4444444444444444, \"#bd3786\"], [0.5555555555555556, \"#d8576b\"], [0.6666666666666666, \"#ed7953\"], [0.7777777777777778, \"#fb9f3a\"], [0.8888888888888888, \"#fdca26\"], [1.0, \"#f0f921\"]], \"type\": \"heatmap\"}], \"heatmapgl\": [{\"colorbar\": {\"outlinewidth\": 0, \"ticks\": \"\"}, \"colorscale\": [[0.0, \"#0d0887\"], [0.1111111111111111, \"#46039f\"], [0.2222222222222222, \"#7201a8\"], [0.3333333333333333, \"#9c179e\"], [0.4444444444444444, \"#bd3786\"], [0.5555555555555556, \"#d8576b\"], [0.6666666666666666, \"#ed7953\"], [0.7777777777777778, \"#fb9f3a\"], [0.8888888888888888, \"#fdca26\"], [1.0, \"#f0f921\"]], \"type\": \"heatmapgl\"}], \"histogram\": [{\"marker\": {\"colorbar\": {\"outlinewidth\": 0, \"ticks\": \"\"}}, \"type\": \"histogram\"}], \"histogram2d\": [{\"colorbar\": {\"outlinewidth\": 0, \"ticks\": \"\"}, \"colorscale\": [[0.0, \"#0d0887\"], [0.1111111111111111, \"#46039f\"], [0.2222222222222222, \"#7201a8\"], [0.3333333333333333, \"#9c179e\"], [0.4444444444444444, \"#bd3786\"], [0.5555555555555556, \"#d8576b\"], [0.6666666666666666, \"#ed7953\"], [0.7777777777777778, \"#fb9f3a\"], [0.8888888888888888, \"#fdca26\"], [1.0, \"#f0f921\"]], \"type\": \"histogram2d\"}], \"histogram2dcontour\": [{\"colorbar\": {\"outlinewidth\": 0, \"ticks\": \"\"}, \"colorscale\": [[0.0, \"#0d0887\"], [0.1111111111111111, \"#46039f\"], [0.2222222222222222, \"#7201a8\"], [0.3333333333333333, \"#9c179e\"], [0.4444444444444444, \"#bd3786\"], [0.5555555555555556, \"#d8576b\"], [0.6666666666666666, \"#ed7953\"], [0.7777777777777778, \"#fb9f3a\"], [0.8888888888888888, \"#fdca26\"], [1.0, \"#f0f921\"]], \"type\": \"histogram2dcontour\"}], \"mesh3d\": [{\"colorbar\": {\"outlinewidth\": 0, \"ticks\": \"\"}, \"type\": \"mesh3d\"}], \"parcoords\": [{\"line\": {\"colorbar\": {\"outlinewidth\": 0, \"ticks\": \"\"}}, \"type\": \"parcoords\"}], \"pie\": [{\"automargin\": true, \"type\": \"pie\"}], \"scatter\": [{\"marker\": {\"colorbar\": {\"outlinewidth\": 0, \"ticks\": \"\"}}, \"type\": \"scatter\"}], \"scatter3d\": [{\"line\": {\"colorbar\": {\"outlinewidth\": 0, \"ticks\": \"\"}}, \"marker\": {\"colorbar\": {\"outlinewidth\": 0, \"ticks\": \"\"}}, \"type\": \"scatter3d\"}], \"scattercarpet\": [{\"marker\": {\"colorbar\": {\"outlinewidth\": 0, \"ticks\": \"\"}}, \"type\": \"scattercarpet\"}], \"scattergeo\": [{\"marker\": {\"colorbar\": {\"outlinewidth\": 0, \"ticks\": \"\"}}, \"type\": \"scattergeo\"}], \"scattergl\": [{\"marker\": {\"colorbar\": {\"outlinewidth\": 0, \"ticks\": \"\"}}, \"type\": \"scattergl\"}], \"scattermapbox\": [{\"marker\": {\"colorbar\": {\"outlinewidth\": 0, \"ticks\": \"\"}}, \"type\": \"scattermapbox\"}], \"scatterpolar\": [{\"marker\": {\"colorbar\": {\"outlinewidth\": 0, \"ticks\": \"\"}}, \"type\": \"scatterpolar\"}], \"scatterpolargl\": [{\"marker\": {\"colorbar\": {\"outlinewidth\": 0, \"ticks\": \"\"}}, \"type\": \"scatterpolargl\"}], \"scatterternary\": [{\"marker\": {\"colorbar\": {\"outlinewidth\": 0, \"ticks\": \"\"}}, \"type\": \"scatterternary\"}], \"surface\": [{\"colorbar\": {\"outlinewidth\": 0, \"ticks\": \"\"}, \"colorscale\": [[0.0, \"#0d0887\"], [0.1111111111111111, \"#46039f\"], [0.2222222222222222, \"#7201a8\"], [0.3333333333333333, \"#9c179e\"], [0.4444444444444444, \"#bd3786\"], [0.5555555555555556, \"#d8576b\"], [0.6666666666666666, \"#ed7953\"], [0.7777777777777778, \"#fb9f3a\"], [0.8888888888888888, \"#fdca26\"], [1.0, \"#f0f921\"]], \"type\": \"surface\"}], \"table\": [{\"cells\": {\"fill\": {\"color\": \"#EBF0F8\"}, \"line\": {\"color\": \"white\"}}, \"header\": {\"fill\": {\"color\": \"#C8D4E3\"}, \"line\": {\"color\": \"white\"}}, \"type\": \"table\"}]}, \"layout\": {\"annotationdefaults\": {\"arrowcolor\": \"#2a3f5f\", \"arrowhead\": 0, \"arrowwidth\": 1}, \"coloraxis\": {\"colorbar\": {\"outlinewidth\": 0, \"ticks\": \"\"}}, \"colorscale\": {\"diverging\": [[0, \"#8e0152\"], [0.1, \"#c51b7d\"], [0.2, \"#de77ae\"], [0.3, \"#f1b6da\"], [0.4, \"#fde0ef\"], [0.5, \"#f7f7f7\"], [0.6, \"#e6f5d0\"], [0.7, \"#b8e186\"], [0.8, \"#7fbc41\"], [0.9, \"#4d9221\"], [1, \"#276419\"]], \"sequential\": [[0.0, \"#0d0887\"], [0.1111111111111111, \"#46039f\"], [0.2222222222222222, \"#7201a8\"], [0.3333333333333333, \"#9c179e\"], [0.4444444444444444, \"#bd3786\"], [0.5555555555555556, \"#d8576b\"], [0.6666666666666666, \"#ed7953\"], [0.7777777777777778, \"#fb9f3a\"], [0.8888888888888888, \"#fdca26\"], [1.0, \"#f0f921\"]], \"sequentialminus\": [[0.0, \"#0d0887\"], [0.1111111111111111, \"#46039f\"], [0.2222222222222222, \"#7201a8\"], [0.3333333333333333, \"#9c179e\"], [0.4444444444444444, \"#bd3786\"], [0.5555555555555556, \"#d8576b\"], [0.6666666666666666, \"#ed7953\"], [0.7777777777777778, \"#fb9f3a\"], [0.8888888888888888, \"#fdca26\"], [1.0, \"#f0f921\"]]}, \"colorway\": [\"#636efa\", \"#EF553B\", \"#00cc96\", \"#ab63fa\", \"#FFA15A\", \"#19d3f3\", \"#FF6692\", \"#B6E880\", \"#FF97FF\", \"#FECB52\"], \"font\": {\"color\": \"#2a3f5f\"}, \"geo\": {\"bgcolor\": \"white\", \"lakecolor\": \"white\", \"landcolor\": \"#E5ECF6\", \"showlakes\": true, \"showland\": true, \"subunitcolor\": \"white\"}, \"hoverlabel\": {\"align\": \"left\"}, \"hovermode\": \"closest\", \"mapbox\": {\"style\": \"light\"}, \"paper_bgcolor\": \"white\", \"plot_bgcolor\": \"#E5ECF6\", \"polar\": {\"angularaxis\": {\"gridcolor\": \"white\", \"linecolor\": \"white\", \"ticks\": \"\"}, \"bgcolor\": \"#E5ECF6\", \"radialaxis\": {\"gridcolor\": \"white\", \"linecolor\": \"white\", \"ticks\": \"\"}}, \"scene\": {\"xaxis\": {\"backgroundcolor\": \"#E5ECF6\", \"gridcolor\": \"white\", \"gridwidth\": 2, \"linecolor\": \"white\", \"showbackground\": true, \"ticks\": \"\", \"zerolinecolor\": \"white\"}, \"yaxis\": {\"backgroundcolor\": \"#E5ECF6\", \"gridcolor\": \"white\", \"gridwidth\": 2, \"linecolor\": \"white\", \"showbackground\": true, \"ticks\": \"\", \"zerolinecolor\": \"white\"}, \"zaxis\": {\"backgroundcolor\": \"#E5ECF6\", \"gridcolor\": \"white\", \"gridwidth\": 2, \"linecolor\": \"white\", \"showbackground\": true, \"ticks\": \"\", \"zerolinecolor\": \"white\"}}, \"shapedefaults\": {\"line\": {\"color\": \"#2a3f5f\"}}, \"ternary\": {\"aaxis\": {\"gridcolor\": \"white\", \"linecolor\": \"white\", \"ticks\": \"\"}, \"baxis\": {\"gridcolor\": \"white\", \"linecolor\": \"white\", \"ticks\": \"\"}, \"bgcolor\": \"#E5ECF6\", \"caxis\": {\"gridcolor\": \"white\", \"linecolor\": \"white\", \"ticks\": \"\"}}, \"title\": {\"x\": 0.05}, \"xaxis\": {\"automargin\": true, \"gridcolor\": \"white\", \"linecolor\": \"white\", \"ticks\": \"\", \"title\": {\"standoff\": 15}, \"zerolinecolor\": \"white\", \"zerolinewidth\": 2}, \"yaxis\": {\"automargin\": true, \"gridcolor\": \"white\", \"linecolor\": \"white\", \"ticks\": \"\", \"title\": {\"standoff\": 15}, \"zerolinecolor\": \"white\", \"zerolinewidth\": 2}}}},\n",
              "                        {\"responsive\": true}\n",
              "                    ).then(function(){\n",
              "                            \n",
              "var gd = document.getElementById('23c09679-d7fe-40be-a4ac-0fc84872f3d1');\n",
              "var x = new MutationObserver(function (mutations, observer) {{\n",
              "        var display = window.getComputedStyle(gd).display;\n",
              "        if (!display || display === 'none') {{\n",
              "            console.log([gd, 'removed!']);\n",
              "            Plotly.purge(gd);\n",
              "            observer.disconnect();\n",
              "        }}\n",
              "}});\n",
              "\n",
              "// Listen for the removal of the full notebook cells\n",
              "var notebookContainer = gd.closest('#notebook-container');\n",
              "if (notebookContainer) {{\n",
              "    x.observe(notebookContainer, {childList: true});\n",
              "}}\n",
              "\n",
              "// Listen for the clearing of the current output cell\n",
              "var outputEl = gd.closest('.output');\n",
              "if (outputEl) {{\n",
              "    x.observe(outputEl, {childList: true});\n",
              "}}\n",
              "\n",
              "                        })\n",
              "                };\n",
              "                \n",
              "            </script>\n",
              "        </div>\n",
              "</body>\n",
              "</html>"
            ]
          },
          "metadata": {
            "tags": []
          }
        }
      ]
    },
    {
      "cell_type": "markdown",
      "metadata": {
        "id": "Yw1kjhMTzghH"
      },
      "source": [
        "## Swarm Intelligence"
      ]
    },
    {
      "cell_type": "code",
      "metadata": {
        "id": "jR2-c2C0O-mh"
      },
      "source": [
        "from pyswarms.single.global_best import GlobalBestPSO\r\n",
        "from pyswarms.utils.plotters import plot_cost_history\r\n",
        "\r\n",
        "# Define the objective function here\r\n",
        "def SI_objective_function(X, C, n_particles):\r\n",
        "  # X in shape of (n_particles, NUM_V, NUM_P)\r\n",
        "  X = np.reshape(X, (n_particles, NUM_V))\r\n",
        "  X = np.around(X)\r\n",
        "  cost = np.zeros(n_particles)\r\n",
        "\r\n",
        "  for i in range(n_particles):\r\n",
        "    # X[i][j] must be either 1 or 0\r\n",
        "    # Force each element of X to be an integer\r\n",
        "    X_i = np.zeros((NUM_V, NUM_P)) \r\n",
        "    for j in range(NUM_V):\r\n",
        "      X_i[j][int(X[i][j])] = 1\r\n",
        "\r\n",
        "    cost_i = np.sum(np.multiply(X_i, C))\r\n",
        "\r\n",
        "    # Constraints goes here\r\n",
        "    # Sum of each row of X equals 1\r\n",
        "    # Sum of each column of X <= 1\r\n",
        "    penalty = 0\r\n",
        "    for k in range(NUM_P):\r\n",
        "      col_sum = X_i[:, k].sum()\r\n",
        "      if col_sum > 1:\r\n",
        "        penalty += LARGER_NUM * (col_sum - 1)\r\n",
        "    \r\n",
        "    cost[i] = cost_i + penalty\r\n",
        "        \r\n",
        "  return cost"
      ],
      "execution_count": null,
      "outputs": []
    },
    {
      "cell_type": "code",
      "metadata": {
        "colab": {
          "base_uri": "https://localhost:8080/",
          "height": 581
        },
        "id": "zJLcsNx9zfjr",
        "outputId": "38347a3b-134d-4cd4-f070-c7559a8de1f9"
      },
      "source": [
        "start_time = time.time()\r\n",
        "# Set bounds for each variable\r\n",
        "x_min = np.full(NUM_V, 0)\r\n",
        "x_max = np.full(NUM_V, NUM_P - 1)\r\n",
        "SI_bounds = (x_min, x_max)\r\n",
        "\r\n",
        "# Give a eligible random initialization\r\n",
        "n_particles = 100\r\n",
        "\r\n",
        "# instatiate the optimizer\r\n",
        "options = {'c1': 0.5, 'c2': 0.3, 'w': 0.9}\r\n",
        "optimizer = GlobalBestPSO(n_particles = n_particles, dimensions = NUM_V, options = options, bounds = SI_bounds)\r\n",
        "SI_cost, SI_pos = optimizer.optimize(SI_objective_function, iters = 1000, verbose = False, C = C, n_particles = n_particles)\r\n",
        "\r\n",
        "SI_runtime = time.time() - start_time\r\n",
        "print(\"--- SI run time: %s seconds ---\" % SI_runtime)\r\n",
        "\r\n",
        "# Show results and prepare for plotting\r\n",
        "SI_pos = np.around(SI_pos)\r\n",
        "\r\n",
        "SI_row_ind = []\r\n",
        "SI_col_ind = []\r\n",
        "for i in range(NUM_V):\r\n",
        "  SI_row_ind.append(i)\r\n",
        "  SI_col_ind.append(int(SI_pos[i]))\r\n",
        "\r\n",
        "print(\"Swarm Intelligence cost: \", SI_cost)\r\n",
        "print(\"Swarm Intelligence assignment: \", SI_pos)\r\n",
        "\r\n",
        "plot_cost_history(cost_history = optimizer.cost_history)"
      ],
      "execution_count": null,
      "outputs": [
        {
          "output_type": "stream",
          "text": [
            "--- SI run time: 40.340291261672974 seconds ---\n",
            "Swarm Intelligence cost:  4219.900200984221\n",
            "Swarm Intelligence assignment:  [ 50.  94. 103.  95.  88.  24. 106.  72.  48.  59.]\n"
          ],
          "name": "stdout"
        },
        {
          "output_type": "execute_result",
          "data": {
            "text/plain": [
              "<AxesSubplot:title={'center':'Cost History'}, xlabel='Iterations', ylabel='Cost'>"
            ]
          },
          "metadata": {
            "tags": []
          },
          "execution_count": 52
        },
        {
          "output_type": "display_data",
          "data": {
            "image/png": "[encoded data removed]",
            "text/plain": [
              "<Figure size 720x576 with 1 Axes>"
            ]
          },
          "metadata": {
            "tags": [],
            "needs_background": "light"
          }
        }
      ]
    },
    {
      "cell_type": "code",
      "metadata": {
        "colab": {
          "base_uri": "https://localhost:8080/",
          "height": 542
        },
        "id": "98Hyf95H51VN",
        "outputId": "54309036-fc25-4050-93ea-9cb441adf604"
      },
      "source": [
        "# Plot results\r\n",
        "fig = go.Figure()\r\n",
        "fig = fig_add_test_cases(fig, p_lat, p_long, vacp_lat, vacp_long, vacant_parkings, origin_lat, origin_long, dest_lat, dest_long, hours)\r\n",
        "fig = fig_add_result_paths(fig, SI_row_ind, SI_col_ind, list_V, list_P)\r\n",
        "fig.show()"
      ],
      "execution_count": null,
      "outputs": [
        {
          "output_type": "display_data",
          "data": {
            "text/html": [
              "<html>\n",
              "<head><meta charset=\"utf-8\" /></head>\n",
              "<body>\n",
              "    <div>\n",
              "            <script src=\"https://cdnjs.cloudflare.com/ajax/libs/mathjax/2.7.5/MathJax.js?config=TeX-AMS-MML_SVG\"></script><script type=\"text/javascript\">if (window.MathJax) {MathJax.Hub.Config({SVG: {font: \"STIX-Web\"}});}</script>\n",
              "                <script type=\"text/javascript\">window.PlotlyConfig = {MathJaxConfig: 'local'};</script>\n",
              "        <script src=\"https://cdn.plot.ly/plotly-latest.min.js\"></script>    \n",
              "            <div id=\"9638d23e-48b9-42ac-9df9-4bfc1331a821\" class=\"plotly-graph-div\" style=\"height:525px; width:100%;\"></div>\n",
              "            <script type=\"text/javascript\">\n",
              "                \n",
              "                    window.PLOTLYENV=window.PLOTLYENV || {};\n",
              "                    \n",
              "                if (document.getElementById(\"9638d23e-48b9-42ac-9df9-4bfc1331a821\")) {\n",
              "                    Plotly.newPlot(\n",
              "                        '9638d23e-48b9-42ac-9df9-4bfc1331a821',\n",
              "                        [{\"lat\": [34.040251, 34.039715, 34.039839, 34.039673, 34.041576, 34.039273, 34.040221, 34.039802, 34.04044, 34.042094, 34.042382, 34.040272, 34.040754, 34.040363, 34.039163, 34.040416, 34.039911, 34.041313, 34.040629, 34.039178, 34.041838, 34.042397, 34.039631, 34.041533, 34.042111, 34.039818, 34.042067, 34.042506, 34.039593, 34.042517, 34.041645, 34.039187, 34.042127, 34.041807, 34.041486, 34.040402, 34.042296, 34.040348, 34.04235, 34.04176, 34.042038, 34.039381, 34.042278, 34.041281, 34.040588, 34.04231, 34.039724, 34.04168, 34.039243, 34.040291, 34.041618, 34.03988, 34.042759, 34.041248, 34.042314, 34.042225, 34.040658, 34.042366, 34.042262, 34.039871, 34.041411, 34.041729, 34.039685, 34.039537, 34.041566, 34.042554, 34.042638, 34.040406, 34.040138, 34.040441, 34.039703, 34.041725, 34.04008, 34.039942, 34.041062, 34.039244, 34.040186, 34.042166, 34.04014, 34.03931, 34.039124, 34.041104, 34.039846, 34.040455, 34.039504, 34.040333, 34.040123, 34.040536, 34.039183, 34.040537, 34.039054, 34.040248, 34.040313, 34.040044, 34.040575, 34.042572, 34.040487, 34.039747, 34.039361, 34.040268, 34.041324, 34.039925, 34.039364, 34.039193, 34.041687, 34.041435, 34.039967, 34.040768, 34.039708, 34.04049, 34.03992, 34.041455, 34.040922, 34.040331, 34.041976, 34.03922, 34.040226, 34.040982, 34.039795, 34.039706, 34.039791, 34.04093, 34.039074, 34.040189, 34.040429, 34.040319, 34.039326, 34.041764, 34.041378, 34.039703, 34.041177, 34.04206, 34.039931, 34.039143, 34.039902, 34.04018, 34.039889, 34.039977, 34.041117, 34.03927, 34.039999, 34.040026, 34.040624, 34.039543, 34.040865, 34.04028, 34.040511, 34.040534, 34.042064, 34.040354, 34.041079, 34.039278, 34.042373, 34.04152, 34.041017, 34.039148, 34.042621, 34.040777, 34.039846, 34.040015, 34.039169, 34.041284, 34.039758, 34.039233, 34.041256, 34.040375, 34.04142, 34.040717, 34.039059, 34.039433, 34.042004, 34.039315, 34.04036, 34.042326, 34.04167, 34.040309, 34.040191, 34.040414, 34.040813, 34.039412, 34.039088, 34.04106, 34.039743, 34.042476, 34.042151, 34.039794, 34.040862, 34.041455, 34.039884, 34.039676, 34.039179, 34.040236, 34.040471, 34.040971, 34.039759, 34.040101, 34.040452, 34.039142, 34.039769, 34.040812, 34.040355, 34.039608, 34.039644, 34.040455, 34.039129, 34.040525, 34.040812, 34.03986, 34.040663, 34.041533, 34.041181, 34.041962, 34.039821, 34.03908, 34.040869, 34.040586, 34.042679, 34.040247, 34.040509, 34.042261, 34.042091, 34.040221, 34.039533, 34.039938, 34.041487, 34.039786, 34.039666, 34.039238, 34.03969, 34.040283, 34.039287, 34.039849, 34.041378, 34.040899, 34.04202, 34.039955, 34.039661, 34.039749, 34.03979, 34.039097, 34.03978, 34.040501, 34.039807, 34.040715, 34.040319, 34.039045, 34.041918, 34.039599, 34.040909, 34.041786, 34.040402, 34.042149, 34.041414, 34.041005, 34.039808, 34.041478, 34.041329, 34.042721, 34.040902, 34.039093, 34.03973, 34.039976, 34.041062, 34.041077, 34.040318, 34.039823, 34.039239, 34.040179, 34.042106, 34.039418, 34.041476, 34.040666, 34.039902, 34.039862, 34.041213, 34.040947, 34.039951, 34.042053, 34.042163, 34.040278, 34.039051, 34.039624, 34.040041, 34.039447, 34.040727, 34.039278, 34.041279, 34.042422, 34.042206, 34.041452, 34.039212, 34.039109, 34.039967, 34.040772, 34.04252, 34.039763, 34.041351, 34.042206], \"lon\": [-118.25319, -118.252843, -118.250218, -118.251762, -118.248779, -118.253051, -118.251776, -118.250177, -118.252735, -118.249576, -118.252947, -118.250986, -118.248122, -118.251808, -118.252953, -118.25155, -118.250734, -118.246273, -118.251499, -118.248225, -118.252562, -118.251465, -118.251032, -118.252767, -118.251869, -118.250833, -118.251938, -118.251562, -118.251074, -118.251302, -118.252858, -118.252522, -118.251847, -118.252608, -118.25284, -118.250024, -118.249614, -118.25008, -118.251775, -118.252682, -118.251983, -118.251301, -118.251626, -118.253143, -118.250013, -118.251582, -118.250933, -118.252807, -118.252583, -118.250141, -118.25264, -118.25217, -118.250978, -118.253194, -118.251824, -118.251699, -118.24975, -118.251508, -118.251902, -118.250775, -118.246171, -118.252731, -118.250974, -118.251134, -118.252719, -118.251496, -118.25114, -118.252777, -118.24867, -118.24998, -118.252575, -118.251975, -118.251938, -118.247424, -118.249508, -118.249939, -118.251095, -118.252448, -118.247217, -118.253009, -118.252996, -118.249463, -118.247526, -118.250618, -118.24986, -118.247303, -118.251888, -118.248184, -118.249252, -118.251604, -118.252377, -118.250186, -118.251864, -118.247317, -118.251561, -118.247855, -118.251664, -118.247628, -118.252162, -118.252957, -118.250709, -118.25053, -118.252951, -118.251499, -118.248676, -118.248922, -118.250674, -118.249821, -118.251717, -118.252667, -118.252123, -118.250561, -118.251379, -118.253085, -118.249975, -118.25311, -118.248561, -118.252033, -118.252465, -118.249394, -118.253186, -118.246676, -118.248334, -118.248605, -118.247202, -118.251662, -118.252208, -118.252015, -118.249173, -118.247675, -118.250873, -118.249616, -118.25143, -118.252219, -118.247467, -118.247462, -118.252358, -118.252057, -118.251587, -118.248417, -118.247364, -118.252001, -118.251058, -118.249902, -118.252181, -118.247357, -118.25144, -118.250071, -118.248326, -118.248404, -118.250983, -118.24812, -118.24804, -118.249021, -118.246584, -118.25248, -118.24781, -118.252507, -118.251538, -118.251319, -118.248521, -118.250754, -118.251651, -118.251458, -118.246333, -118.251599, -118.249129, -118.248169, -118.251454, -118.248247, -118.24968, -118.248081, -118.250515, -118.25288, -118.251915, -118.250938, -118.250596, -118.250573, -118.249584, -118.252096, -118.25216, -118.25214, -118.24935, -118.247946, -118.249777, -118.251604, -118.2524, -118.246126, -118.25149, -118.252803, -118.253156, -118.252998, -118.251485, -118.246632, -118.252509, -118.247258, -118.251705, -118.250056, -118.252906, -118.252461, -118.252844, -118.247775, -118.247736, -118.248485, -118.248562, -118.252624, -118.249775, -118.249204, -118.248233, -118.248819, -118.251986, -118.249727, -118.250641, -118.251621, -118.249716, -118.251018, -118.247756, -118.250655, -118.250676, -118.248145, -118.252632, -118.251051, -118.25194, -118.252299, -118.250526, -118.25228, -118.252619, -118.248162, -118.252389, -118.253149, -118.2514, -118.252403, -118.248984, -118.252136, -118.249926, -118.253111, -118.249763, -118.25012, -118.249088, -118.251412, -118.250875, -118.249916, -118.247567, -118.249691, -118.250471, -118.249973, -118.250039, -118.249963, -118.249671, -118.25019, -118.251761, -118.252695, -118.251904, -118.249569, -118.252947, -118.249065, -118.249227, -118.247718, -118.247739, -118.25242, -118.252343, -118.252254, -118.246536, -118.251544, -118.252891, -118.252237, -118.25126, -118.251824, -118.248289, -118.251261, -118.248879, -118.251455, -118.25305, -118.253008, -118.246376, -118.252074, -118.247703, -118.252591, -118.248236, -118.251708, -118.252119, -118.249725, -118.247608, -118.252052, -118.252361, -118.251219, -118.249277, -118.252986, -118.252491, -118.251946, -118.249777, -118.250095, -118.251382, -118.249629, -118.247907, -118.250704, -118.246233, -118.248195], \"marker\": {\"color\": \"orange\", \"size\": 5}, \"mode\": \"markers\", \"name\": \"Occupied parking\", \"type\": \"scattermapbox\"}, {\"hoverinfo\": \"text\", \"hovertext\": [\"Hourly rate: 2.0; Max rate: 8.0; Hour Limit: 2.0\", \"Hourly rate: 1.5; Max rate: 12.0; Hour Limit: 2.0\", \"Hourly rate: 3.0; Max rate: 8.0; Hour Limit: 2.0\", \"Hourly rate: 0.5; Max rate: 10.0; Hour Limit: 2.0\", \"Hourly rate: 1.5; Max rate: 8.0; Hour Limit: 2.0\", \"Hourly rate: 3.0; Max rate: 10.0; Hour Limit: 2.0\", \"Hourly rate: 3.0; Max rate: 10.0; Hour Limit: 2.0\", \"Hourly rate: 1.5; Max rate: 10.0; Hour Limit: 2.0\", \"Hourly rate: 4.0; Max rate: 8.0; Hour Limit: 2.0\", \"Hourly rate: 4.0; Max rate: 8.0; Hour Limit: 2.0\", \"Hourly rate: 1.5; Max rate: 8.0; Hour Limit: 2.0\", \"Hourly rate: 4.0; Max rate: 8.0; Hour Limit: 2.0\", \"Hourly rate: 1.5; Max rate: 8.0; Hour Limit: 2.0\", \"Hourly rate: 1.5; Max rate: 8.0; Hour Limit: 2.0\", \"Hourly rate: 1.5; Max rate: 8.0; Hour Limit: 2.0\", \"Hourly rate: 4.0; Max rate: 12.0; Hour Limit: 2.0\", \"Hourly rate: 1.5; Max rate: 8.0; Hour Limit: 2.0\", \"Hourly rate: 3.0; Max rate: 8.0; Hour Limit: 2.0\", \"Hourly rate: 4.0; Max rate: 8.0; Hour Limit: 2.0\", \"Hourly rate: 2.0; Max rate: 24.0; Hour Limit: 4.0\", \"Hourly rate: 2.0; Max rate: 8.0; Hour Limit: 2.0\", \"Hourly rate: 1.5; Max rate: 8.0; Hour Limit: 2.0\", \"Hourly rate: 4.0; Max rate: 8.0; Hour Limit: 2.0\", \"Hourly rate: 1.5; Max rate: 8.0; Hour Limit: 2.0\", \"Hourly rate: 0.5; Max rate: 24.0; Hour Limit: 4.0\", \"Hourly rate: 1.5; Max rate: 8.0; Hour Limit: 2.0\", \"Hourly rate: 3.0; Max rate: 8.0; Hour Limit: 2.0\", \"Hourly rate: 4.0; Max rate: 12.0; Hour Limit: 2.0\", \"Hourly rate: 4.0; Max rate: 8.0; Hour Limit: 2.0\", \"Hourly rate: 3.0; Max rate: 10.0; Hour Limit: 2.0\", \"Hourly rate: 1.5; Max rate: 8.0; Hour Limit: 2.0\", \"Hourly rate: 4.0; Max rate: 8.0; Hour Limit: 2.0\", \"Hourly rate: 2.0; Max rate: 8.0; Hour Limit: 2.0\", \"Hourly rate: 1.5; Max rate: 8.0; Hour Limit: 2.0\", \"Hourly rate: 1.5; Max rate: 8.0; Hour Limit: 2.0\", \"Hourly rate: 2.0; Max rate: 8.0; Hour Limit: 2.0\", \"Hourly rate: 3.0; Max rate: 8.0; Hour Limit: 2.0\", \"Hourly rate: 4.0; Max rate: 8.0; Hour Limit: 2.0\", \"Hourly rate: 4.0; Max rate: 8.0; Hour Limit: 2.0\", \"Hourly rate: 1.5; Max rate: 8.0; Hour Limit: 2.0\", \"Hourly rate: 3.0; Max rate: 10.0; Hour Limit: 2.0\", \"Hourly rate: 0.5; Max rate: 12.0; Hour Limit: 2.0\", \"Hourly rate: 3.0; Max rate: 8.0; Hour Limit: 2.0\", \"Hourly rate: 0.5; Max rate: 10.0; Hour Limit: 2.0\", \"Hourly rate: 3.0; Max rate: 10.0; Hour Limit: 2.0\", \"Hourly rate: 4.0; Max rate: 12.0; Hour Limit: 2.0\", \"Hourly rate: 0.5; Max rate: 6.0; Hour Limit: 4.0\", \"Hourly rate: 4.0; Max rate: 8.0; Hour Limit: 2.0\", \"Hourly rate: 1.5; Max rate: 8.0; Hour Limit: 2.0\", \"Hourly rate: 4.0; Max rate: 8.0; Hour Limit: 2.0\", \"Hourly rate: 0.5; Max rate: 10.0; Hour Limit: 2.0\", \"Hourly rate: 0.5; Max rate: 24.0; Hour Limit: 4.0\", \"Hourly rate: 3.0; Max rate: 8.0; Hour Limit: 2.0\", \"Hourly rate: 3.0; Max rate: 10.0; Hour Limit: 2.0\", \"Hourly rate: 2.0; Max rate: 24.0; Hour Limit: 4.0\", \"Hourly rate: 1.5; Max rate: 8.0; Hour Limit: 2.0\", \"Hourly rate: 3.0; Max rate: 8.0; Hour Limit: 2.0\", \"Hourly rate: 4.0; Max rate: 8.0; Hour Limit: 2.0\", \"Hourly rate: 5.0; Max rate: 10.0; Hour Limit: 2.0\", \"Hourly rate: 1.0; Max rate: 3.0; Hour Limit: 2.0\", \"Hourly rate: 3.0; Max rate: 8.0; Hour Limit: 2.0\", \"Hourly rate: 3.0; Max rate: 10.0; Hour Limit: 2.0\", \"Hourly rate: 0.5; Max rate: 24.0; Hour Limit: 4.0\", \"Hourly rate: 3.0; Max rate: 8.0; Hour Limit: 2.0\", \"Hourly rate: 4.0; Max rate: 12.0; Hour Limit: 2.0\", \"Hourly rate: 4.0; Max rate: 8.0; Hour Limit: 2.0\", \"Hourly rate: 3.0; Max rate: 10.0; Hour Limit: 2.0\", \"Hourly rate: 0.5; Max rate: 6.0; Hour Limit: 4.0\", \"Hourly rate: 3.0; Max rate: 10.0; Hour Limit: 2.0\", \"Hourly rate: 4.0; Max rate: 10.0; Hour Limit: 2.0\", \"Hourly rate: 0.5; Max rate: 12.0; Hour Limit: 2.0\", \"Hourly rate: 3.0; Max rate: 8.0; Hour Limit: 2.0\", \"Hourly rate: 0.5; Max rate: 6.0; Hour Limit: 4.0\", \"Hourly rate: 2.0; Max rate: 24.0; Hour Limit: 4.0\", \"Hourly rate: 0.5; Max rate: 6.0; Hour Limit: 4.0\", \"Hourly rate: 1.0; Max rate: 3.0; Hour Limit: 2.0\", \"Hourly rate: 4.0; Max rate: 12.0; Hour Limit: 2.0\", \"Hourly rate: 0.5; Max rate: 6.0; Hour Limit: 4.0\", \"Hourly rate: 3.0; Max rate: 8.0; Hour Limit: 2.0\", \"Hourly rate: 3.0; Max rate: 8.0; Hour Limit: 2.0\", \"Hourly rate: 3.0; Max rate: 8.0; Hour Limit: 2.0\", \"Hourly rate: 1.0; Max rate: 3.0; Hour Limit: 2.0\", \"Hourly rate: 3.0; Max rate: 10.0; Hour Limit: 2.0\", \"Hourly rate: 2.0; Max rate: 8.0; Hour Limit: 2.0\", \"Hourly rate: 0.5; Max rate: 24.0; Hour Limit: 4.0\", \"Hourly rate: 3.0; Max rate: 10.0; Hour Limit: 2.0\", \"Hourly rate: 3.0; Max rate: 8.0; Hour Limit: 2.0\", \"Hourly rate: 4.0; Max rate: 12.0; Hour Limit: 2.0\", \"Hourly rate: 0.5; Max rate: 6.0; Hour Limit: 4.0\", \"Hourly rate: 2.0; Max rate: 24.0; Hour Limit: 4.0\", \"Hourly rate: 3.0; Max rate: 8.0; Hour Limit: 2.0\", \"Hourly rate: 2.0; Max rate: 8.0; Hour Limit: 2.0\", \"Hourly rate: 3.0; Max rate: 8.0; Hour Limit: 2.0\", \"Hourly rate: 3.0; Max rate: 8.0; Hour Limit: 2.0\", \"Hourly rate: 3.0; Max rate: 10.0; Hour Limit: 2.0\", \"Hourly rate: 1.0; Max rate: 3.0; Hour Limit: 2.0\", \"Hourly rate: 4.0; Max rate: 8.0; Hour Limit: 2.0\", \"Hourly rate: 0.5; Max rate: 6.0; Hour Limit: 4.0\", \"Hourly rate: 4.0; Max rate: 8.0; Hour Limit: 2.0\", \"Hourly rate: 1.5; Max rate: 12.0; Hour Limit: 2.0\", \"Hourly rate: 3.0; Max rate: 8.0; Hour Limit: 2.0\", \"Hourly rate: 0.5; Max rate: 6.0; Hour Limit: 4.0\", \"Hourly rate: 0.5; Max rate: 6.0; Hour Limit: 4.0\", \"Hourly rate: 0.5; Max rate: 24.0; Hour Limit: 4.0\", \"Hourly rate: 4.0; Max rate: 8.0; Hour Limit: 2.0\", \"Hourly rate: 0.5; Max rate: 6.0; Hour Limit: 4.0\", \"Hourly rate: 0.5; Max rate: 6.0; Hour Limit: 4.0\", \"Hourly rate: 3.0; Max rate: 8.0; Hour Limit: 2.0\", \"Hourly rate: 3.0; Max rate: 10.0; Hour Limit: 2.0\", \"Hourly rate: 4.0; Max rate: 8.0; Hour Limit: 2.0\", \"Hourly rate: 4.0; Max rate: 8.0; Hour Limit: 2.0\", \"Hourly rate: 3.0; Max rate: 8.0; Hour Limit: 2.0\", \"Hourly rate: 2.0; Max rate: 24.0; Hour Limit: 4.0\", \"Hourly rate: 1.5; Max rate: 12.0; Hour Limit: 2.0\", \"Hourly rate: 0.5; Max rate: 24.0; Hour Limit: 4.0\", \"Hourly rate: 2.0; Max rate: 8.0; Hour Limit: 2.0\", \"Hourly rate: 4.0; Max rate: 8.0; Hour Limit: 2.0\", \"Hourly rate: 0.5; Max rate: 12.0; Hour Limit: 2.0\", \"Hourly rate: 2.0; Max rate: 24.0; Hour Limit: 4.0\", \"Hourly rate: 2.0; Max rate: 24.0; Hour Limit: 4.0\", \"Hourly rate: 1.5; Max rate: 12.0; Hour Limit: 2.0\", \"Hourly rate: 0.5; Max rate: 6.0; Hour Limit: 4.0\", \"Hourly rate: 4.0; Max rate: 12.0; Hour Limit: 2.0\", \"Hourly rate: 3.0; Max rate: 10.0; Hour Limit: 2.0\", \"Hourly rate: 4.0; Max rate: 8.0; Hour Limit: 2.0\", \"Hourly rate: 1.0; Max rate: 3.0; Hour Limit: 2.0\", \"Hourly rate: 3.0; Max rate: 8.0; Hour Limit: 2.0\", \"Hourly rate: 3.0; Max rate: 10.0; Hour Limit: 2.0\", \"Hourly rate: 0.5; Max rate: 6.0; Hour Limit: 4.0\", \"Hourly rate: 1.5; Max rate: 12.0; Hour Limit: 2.0\", \"Hourly rate: 1.5; Max rate: 12.0; Hour Limit: 2.0\", \"Hourly rate: 0.5; Max rate: 6.0; Hour Limit: 4.0\", \"Hourly rate: 4.0; Max rate: 12.0; Hour Limit: 2.0\", \"Hourly rate: 0.5; Max rate: 10.0; Hour Limit: 2.0\", \"Hourly rate: 3.0; Max rate: 8.0; Hour Limit: 2.0\", \"Hourly rate: 2.0; Max rate: 8.0; Hour Limit: 2.0\", \"Hourly rate: 3.0; Max rate: 8.0; Hour Limit: 2.0\", \"Hourly rate: 0.5; Max rate: 6.0; Hour Limit: 4.0\", \"Hourly rate: 0.5; Max rate: 6.0; Hour Limit: 4.0\"], \"lat\": [34.040251, 34.039715, 34.039673, 34.041576, 34.039273, 34.040221, 34.042382, 34.040754, 34.040363, 34.039163, 34.042397, 34.041533, 34.042111, 34.042067, 34.042517, 34.039187, 34.042127, 34.041807, 34.041486, 34.042296, 34.04235, 34.042038, 34.039381, 34.042278, 34.040588, 34.04231, 34.04168, 34.039243, 34.041618, 34.03988, 34.042759, 34.041248, 34.042314, 34.042225, 34.042366, 34.042262, 34.041729, 34.039537, 34.041566, 34.042638, 34.04008, 34.039244, 34.040186, 34.040333, 34.040123, 34.039054, 34.042572, 34.040487, 34.039364, 34.039193, 34.041687, 34.040768, 34.039708, 34.03992, 34.041976, 34.03922, 34.040982, 34.039795, 34.039791, 34.04093, 34.039326, 34.041764, 34.041378, 34.039931, 34.039143, 34.039889, 34.039977, 34.039999, 34.040026, 34.040624, 34.039543, 34.040865, 34.042064, 34.041079, 34.042373, 34.041017, 34.039148, 34.042621, 34.039846, 34.040015, 34.039758, 34.041256, 34.040375, 34.039059, 34.042004, 34.042326, 34.039412, 34.039088, 34.042476, 34.042151, 34.039794, 34.040862, 34.039884, 34.040236, 34.040471, 34.040971, 34.039759, 34.040101, 34.040452, 34.039769, 34.040355, 34.039608, 34.039644, 34.040812, 34.03908, 34.042679, 34.042261, 34.039533, 34.039786, 34.039666, 34.039849, 34.040899, 34.04202, 34.039955, 34.039661, 34.039097, 34.03978, 34.040319, 34.041918, 34.041786, 34.039808, 34.042721, 34.039093, 34.03973, 34.039976, 34.041062, 34.040318, 34.039823, 34.042106, 34.039902, 34.039862, 34.042163, 34.039051, 34.040041, 34.039447, 34.039278, 34.039967, 34.04252, 34.042206], \"lon\": [-118.25319, -118.252843, -118.251762, -118.248779, -118.253051, -118.251776, -118.252947, -118.248122, -118.251808, -118.252953, -118.251465, -118.252767, -118.251869, -118.251938, -118.251302, -118.252522, -118.251847, -118.252608, -118.25284, -118.249614, -118.251775, -118.251983, -118.251301, -118.251626, -118.250013, -118.251582, -118.252807, -118.252583, -118.25264, -118.25217, -118.250978, -118.253194, -118.251824, -118.251699, -118.251508, -118.251902, -118.252731, -118.251134, -118.252719, -118.25114, -118.251938, -118.249939, -118.251095, -118.247303, -118.251888, -118.252377, -118.247855, -118.251664, -118.252951, -118.251499, -118.248676, -118.249821, -118.251717, -118.252123, -118.249975, -118.25311, -118.252033, -118.252465, -118.253186, -118.246676, -118.252208, -118.252015, -118.249173, -118.25143, -118.252219, -118.252358, -118.252057, -118.247364, -118.252001, -118.251058, -118.249902, -118.252181, -118.248326, -118.250983, -118.24804, -118.246584, -118.25248, -118.24781, -118.251538, -118.251319, -118.251651, -118.246333, -118.251599, -118.251454, -118.24968, -118.25288, -118.252096, -118.25216, -118.247946, -118.249777, -118.251604, -118.2524, -118.25149, -118.252998, -118.251485, -118.246632, -118.252509, -118.247258, -118.251705, -118.252906, -118.252844, -118.247775, -118.247736, -118.249775, -118.251621, -118.247756, -118.248145, -118.25194, -118.25228, -118.252619, -118.252403, -118.252136, -118.249926, -118.253111, -118.249763, -118.251412, -118.250875, -118.250471, -118.250039, -118.25019, -118.252947, -118.247718, -118.25242, -118.252343, -118.252254, -118.246536, -118.252891, -118.252237, -118.248289, -118.25305, -118.253008, -118.248236, -118.252119, -118.247608, -118.252052, -118.251219, -118.251382, -118.247907, -118.248195], \"marker\": {\"color\": \"darkgreen\", \"size\": 5}, \"mode\": \"markers\", \"name\": \"Vacant parking\", \"type\": \"scattermapbox\"}, {\"lat\": [34.038526], \"lon\": [-118.254028], \"marker\": {\"color\": \"blue\", \"size\": 10}, \"mode\": \"markers\", \"name\": \"Start point 0\", \"type\": \"scattermapbox\"}, {\"lat\": [34.034314], \"lon\": [-118.252074], \"marker\": {\"color\": \"blue\", \"size\": 10}, \"mode\": \"markers\", \"name\": \"Start point 1\", \"type\": \"scattermapbox\"}, {\"lat\": [34.043959], \"lon\": [-118.243785], \"marker\": {\"color\": \"blue\", \"size\": 10}, \"mode\": \"markers\", \"name\": \"Start point 2\", \"type\": \"scattermapbox\"}, {\"lat\": [34.038329], \"lon\": [-118.245367], \"marker\": {\"color\": \"blue\", \"size\": 10}, \"mode\": \"markers\", \"name\": \"Start point 3\", \"type\": \"scattermapbox\"}, {\"lat\": [34.040802], \"lon\": [-118.260495], \"marker\": {\"color\": \"blue\", \"size\": 10}, \"mode\": \"markers\", \"name\": \"Start point 4\", \"type\": \"scattermapbox\"}, {\"lat\": [34.038147], \"lon\": [-118.257064], \"marker\": {\"color\": \"blue\", \"size\": 10}, \"mode\": \"markers\", \"name\": \"Start point 5\", \"type\": \"scattermapbox\"}, {\"lat\": [34.034895], \"lon\": [-118.253033], \"marker\": {\"color\": \"blue\", \"size\": 10}, \"mode\": \"markers\", \"name\": \"Start point 6\", \"type\": \"scattermapbox\"}, {\"lat\": [34.042111], \"lon\": [-118.244735], \"marker\": {\"color\": \"blue\", \"size\": 10}, \"mode\": \"markers\", \"name\": \"Start point 7\", \"type\": \"scattermapbox\"}, {\"lat\": [34.046061], \"lon\": [-118.242705], \"marker\": {\"color\": \"blue\", \"size\": 10}, \"mode\": \"markers\", \"name\": \"Start point 8\", \"type\": \"scattermapbox\"}, {\"lat\": [34.03682], \"lon\": [-118.248662], \"marker\": {\"color\": \"blue\", \"size\": 10}, \"mode\": \"markers\", \"name\": \"Start point 9\", \"type\": \"scattermapbox\"}, {\"hoverinfo\": \"text\", \"hovertext\": \"Destination 0; Hours: 2.0\", \"lat\": [34.042308], \"lon\": [-118.250414], \"marker\": {\"color\": \"red\", \"size\": 10}, \"mode\": \"markers\", \"name\": \"Destination 0\", \"type\": \"scattermapbox\"}, {\"hoverinfo\": \"text\", \"hovertext\": \"Destination 1; Hours: 2.0\", \"lat\": [34.041665], \"lon\": [-118.251708], \"marker\": {\"color\": \"red\", \"size\": 10}, \"mode\": \"markers\", \"name\": \"Destination 1\", \"type\": \"scattermapbox\"}, {\"hoverinfo\": \"text\", \"hovertext\": \"Destination 2; Hours: 2.5\", \"lat\": [34.039068], \"lon\": [-118.251934], \"marker\": {\"color\": \"red\", \"size\": 10}, \"mode\": \"markers\", \"name\": \"Destination 2\", \"type\": \"scattermapbox\"}, {\"hoverinfo\": \"text\", \"hovertext\": \"Destination 3; Hours: 1\", \"lat\": [34.040547], \"lon\": [-118.246945], \"marker\": {\"color\": \"red\", \"size\": 10}, \"mode\": \"markers\", \"name\": \"Destination 3\", \"type\": \"scattermapbox\"}, {\"hoverinfo\": \"text\", \"hovertext\": \"Destination 4; Hours: 0.5\", \"lat\": [34.041726], \"lon\": [-118.248157], \"marker\": {\"color\": \"red\", \"size\": 10}, \"mode\": \"markers\", \"name\": \"Destination 4\", \"type\": \"scattermapbox\"}, {\"hoverinfo\": \"text\", \"hovertext\": \"Destination 5; Hours: 1\", \"lat\": [34.040755], \"lon\": [-118.251687], \"marker\": {\"color\": \"red\", \"size\": 10}, \"mode\": \"markers\", \"name\": \"Destination 5\", \"type\": \"scattermapbox\"}, {\"hoverinfo\": \"text\", \"hovertext\": \"Destination 6; Hours: 2.5\", \"lat\": [34.042034], \"lon\": [-118.247397], \"marker\": {\"color\": \"red\", \"size\": 10}, \"mode\": \"markers\", \"name\": \"Destination 6\", \"type\": \"scattermapbox\"}, {\"hoverinfo\": \"text\", \"hovertext\": \"Destination 7; Hours: 3\", \"lat\": [34.041959], \"lon\": [-118.252433], \"marker\": {\"color\": \"red\", \"size\": 10}, \"mode\": \"markers\", \"name\": \"Destination 7\", \"type\": \"scattermapbox\"}, {\"hoverinfo\": \"text\", \"hovertext\": \"Destination 8; Hours: 1.5\", \"lat\": [34.039944], \"lon\": [-118.252114], \"marker\": {\"color\": \"red\", \"size\": 10}, \"mode\": \"markers\", \"name\": \"Destination 8\", \"type\": \"scattermapbox\"}, {\"hoverinfo\": \"text\", \"hovertext\": \"Destination 9; Hours: 0.5\", \"lat\": [34.041198], \"lon\": [-118.246792], \"marker\": {\"color\": \"red\", \"size\": 10}, \"mode\": \"markers\", \"name\": \"Destination 9\", \"type\": \"scattermapbox\"}, {\"lat\": [34.038526, 34.0382973, 34.0394724, 34.0408341, 34.0424431, 34.0419269, 34.041687, 34.0419269, 34.0424431, 34.042308], \"line\": {\"color\": \"#636EFA\", \"width\": 4.5}, \"lon\": [-118.254028, -118.2540363, -118.2527045, -118.2511742, -118.249283, -118.2485441, -118.248676, -118.2485441, -118.249283, -118.250414], \"marker\": {\"size\": 10}, \"mode\": \"lines\", \"name\": \"path_0\", \"type\": \"scattermapbox\"}, {\"lat\": [34.034314, 34.0352169, 34.0359117, 34.0366293, 34.037278, 34.0385034, 34.0391437, 34.0394174, 34.0401238, 34.040506, 34.0408341, 34.040471, 34.0408341, 34.0413273, 34.041665], \"line\": {\"color\": \"#EF553B\", \"width\": 4.5}, \"lon\": [-118.252074, -118.2521834, -118.2517027, -118.2510571, -118.2503356, -118.2490889, -118.2493545, -118.2496629, -118.250412, -118.2508182, -118.2511742, -118.251485, -118.2511742, -118.2516815, -118.251708], \"marker\": {\"size\": 10}, \"mode\": \"lines\", \"name\": \"path_1\", \"type\": \"scattermapbox\"}, {\"lat\": [34.043959, 34.0442021, 34.0445678, 34.0448965, 34.0434656, 34.0419269, 34.0401238, 34.040812, 34.0401238, 34.0387407, 34.039068], \"line\": {\"color\": \"#00CC96\", \"width\": 4.5}, \"lon\": [-118.243785, -118.2439151, -118.2449808, -118.2458399, -118.2471389, -118.2485441, -118.250412, -118.249775, -118.250412, -118.25192, -118.251934], \"marker\": {\"size\": 10}, \"mode\": \"lines\", \"name\": \"path_2\", \"type\": \"scattermapbox\"}, {\"lat\": [34.038329, 34.037839, 34.0384076, 34.0389202, 34.0395353, 34.0407102, 34.040971, 34.0407102, 34.040547], \"line\": {\"color\": \"#AB63FA\", \"width\": 4.5}, \"lon\": [-118.245367, -118.2456195, -118.2464231, -118.2471761, -118.2479788, -118.2467821, -118.246632, -118.2467821, -118.246945], \"marker\": {\"size\": 10}, \"mode\": \"lines\", \"name\": \"path_3\", \"type\": \"scattermapbox\"}, {\"lat\": [34.040802, 34.0408648, 34.0423135, 34.0416166, 34.0409224, 34.0404673, 34.0416058, 34.0419938, 34.0427546, 34.0439323, 34.043267, 34.0424431, 34.0419269, 34.042476, 34.0419269, 34.041726], \"line\": {\"color\": \"#FFA15A\", \"width\": 4.5}, \"lon\": [-118.260495, -118.2608845, -118.2595335, -118.2584557, -118.257417, -118.2567089, -118.2550012, -118.2543843, -118.2531745, -118.2513808, -118.2504401, -118.249283, -118.2485441, -118.247946, -118.2485441, -118.248157], \"marker\": {\"size\": 10}, \"mode\": \"lines\", \"name\": \"path_4\", \"type\": \"scattermapbox\"}, {\"lat\": [34.038147, 34.0384308, 34.0395951, 34.0407353, 34.0404699, 34.0403223, 34.0413273, 34.0408341, 34.040506, 34.0401238, 34.040588, 34.0401238, 34.040506, 34.0408341, 34.040755], \"line\": {\"color\": \"#19D3F3\", \"width\": 4.5}, \"lon\": [-118.257064, -118.257128, -118.2558518, -118.2541052, -118.2538167, -118.2529893, -118.2516815, -118.2511742, -118.2508182, -118.250412, -118.250013, -118.250412, -118.2508182, -118.2511742, -118.251687], \"marker\": {\"size\": 10}, \"mode\": \"lines\", \"name\": \"path_5\", \"type\": \"scattermapbox\"}, {\"lat\": [34.034895, 34.0352169, 34.0359117, 34.0366293, 34.037278, 34.0385034, 34.0391437, 34.0394174, 34.0401238, 34.0419269, 34.042261, 34.0419269, 34.041176, 34.042034], \"line\": {\"color\": \"#FF6692\", \"width\": 4.5}, \"lon\": [-118.253033, -118.2521834, -118.2517027, -118.2510571, -118.2503356, -118.2490889, -118.2493545, -118.2496629, -118.250412, -118.2485441, -118.248145, -118.2485441, -118.2474616, -118.247397], \"marker\": {\"size\": 10}, \"mode\": \"lines\", \"name\": \"path_6\", \"type\": \"scattermapbox\"}, {\"lat\": [34.042111, 34.0422495, 34.0407102, 34.041176, 34.0419269, 34.042064, 34.0419269, 34.0424431, 34.043267, 34.0419066, 34.041959], \"line\": {\"color\": \"#B6E880\", \"width\": 4.5}, \"lon\": [-118.244735, -118.2452515, -118.2467821, -118.2474616, -118.2485441, -118.248326, -118.2485441, -118.249283, -118.2504401, -118.2523204, -118.252433], \"marker\": {\"size\": 10}, \"mode\": \"lines\", \"name\": \"path_7\", \"type\": \"scattermapbox\"}, {\"lat\": [34.046061, 34.0458226, 34.0449539, 34.0442021, 34.0445678, 34.0448965, 34.0434656, 34.0419269, 34.0424431, 34.0408341, 34.0394724, 34.039364, 34.0394724, 34.039944], \"line\": {\"color\": \"#FF97FF\", \"width\": 4.5}, \"lon\": [-118.242705, -118.243018, -118.2434595, -118.2439151, -118.2449808, -118.2458399, -118.2471389, -118.2485441, -118.249283, -118.2511742, -118.2527045, -118.252951, -118.2527045, -118.252114], \"marker\": {\"size\": 10}, \"mode\": \"lines\", \"name\": \"path_8\", \"type\": \"scattermapbox\"}, {\"lat\": [34.03682, 34.036332, 34.0377329, 34.0378133, 34.0385034, 34.0388101, 34.0395353, 34.0407102, 34.04093, 34.0407102, 34.041198], \"line\": {\"color\": \"#FECB52\", \"width\": 4.5}, \"lon\": [-118.248662, -118.2492716, -118.2482505, -118.2483492, -118.2490889, -118.2487295, -118.2479788, -118.2467821, -118.246676, -118.2467821, -118.246792], \"marker\": {\"size\": 10}, \"mode\": \"lines\", \"name\": \"path_9\", \"type\": \"scattermapbox\"}],\n",
              "                        {\"mapbox\": {\"center\": {\"lat\": 34.0393964, \"lon\": -118.2501948}, \"style\": \"carto-positron\", \"zoom\": 14.5}, \"margin\": {\"b\": 0, \"l\": 0, \"r\": 0, \"t\": 0}, \"template\": {\"data\": {\"bar\": [{\"error_x\": {\"color\": \"#2a3f5f\"}, \"error_y\": {\"color\": \"#2a3f5f\"}, \"marker\": {\"line\": {\"color\": \"#E5ECF6\", \"width\": 0.5}}, \"type\": \"bar\"}], \"barpolar\": [{\"marker\": {\"line\": {\"color\": \"#E5ECF6\", \"width\": 0.5}}, \"type\": \"barpolar\"}], \"carpet\": [{\"aaxis\": {\"endlinecolor\": \"#2a3f5f\", \"gridcolor\": \"white\", \"linecolor\": \"white\", \"minorgridcolor\": \"white\", \"startlinecolor\": \"#2a3f5f\"}, \"baxis\": {\"endlinecolor\": \"#2a3f5f\", \"gridcolor\": \"white\", \"linecolor\": \"white\", \"minorgridcolor\": \"white\", \"startlinecolor\": \"#2a3f5f\"}, \"type\": \"carpet\"}], \"choropleth\": [{\"colorbar\": {\"outlinewidth\": 0, \"ticks\": \"\"}, \"type\": \"choropleth\"}], \"contour\": [{\"colorbar\": {\"outlinewidth\": 0, \"ticks\": \"\"}, \"colorscale\": [[0.0, \"#0d0887\"], [0.1111111111111111, \"#46039f\"], [0.2222222222222222, \"#7201a8\"], [0.3333333333333333, \"#9c179e\"], [0.4444444444444444, \"#bd3786\"], [0.5555555555555556, \"#d8576b\"], [0.6666666666666666, \"#ed7953\"], [0.7777777777777778, \"#fb9f3a\"], [0.8888888888888888, \"#fdca26\"], [1.0, \"#f0f921\"]], \"type\": \"contour\"}], \"contourcarpet\": [{\"colorbar\": {\"outlinewidth\": 0, \"ticks\": \"\"}, \"type\": \"contourcarpet\"}], \"heatmap\": [{\"colorbar\": {\"outlinewidth\": 0, \"ticks\": \"\"}, \"colorscale\": [[0.0, \"#0d0887\"], [0.1111111111111111, \"#46039f\"], [0.2222222222222222, \"#7201a8\"], [0.3333333333333333, \"#9c179e\"], [0.4444444444444444, \"#bd3786\"], [0.5555555555555556, \"#d8576b\"], [0.6666666666666666, \"#ed7953\"], [0.7777777777777778, \"#fb9f3a\"], [0.8888888888888888, \"#fdca26\"], [1.0, \"#f0f921\"]], \"type\": \"heatmap\"}], \"heatmapgl\": [{\"colorbar\": {\"outlinewidth\": 0, \"ticks\": \"\"}, \"colorscale\": [[0.0, \"#0d0887\"], [0.1111111111111111, \"#46039f\"], [0.2222222222222222, \"#7201a8\"], [0.3333333333333333, \"#9c179e\"], [0.4444444444444444, \"#bd3786\"], [0.5555555555555556, \"#d8576b\"], [0.6666666666666666, \"#ed7953\"], [0.7777777777777778, \"#fb9f3a\"], [0.8888888888888888, \"#fdca26\"], [1.0, \"#f0f921\"]], \"type\": \"heatmapgl\"}], \"histogram\": [{\"marker\": {\"colorbar\": {\"outlinewidth\": 0, \"ticks\": \"\"}}, \"type\": \"histogram\"}], \"histogram2d\": [{\"colorbar\": {\"outlinewidth\": 0, \"ticks\": \"\"}, \"colorscale\": [[0.0, \"#0d0887\"], [0.1111111111111111, \"#46039f\"], [0.2222222222222222, \"#7201a8\"], [0.3333333333333333, \"#9c179e\"], [0.4444444444444444, \"#bd3786\"], [0.5555555555555556, \"#d8576b\"], [0.6666666666666666, \"#ed7953\"], [0.7777777777777778, \"#fb9f3a\"], [0.8888888888888888, \"#fdca26\"], [1.0, \"#f0f921\"]], \"type\": \"histogram2d\"}], \"histogram2dcontour\": [{\"colorbar\": {\"outlinewidth\": 0, \"ticks\": \"\"}, \"colorscale\": [[0.0, \"#0d0887\"], [0.1111111111111111, \"#46039f\"], [0.2222222222222222, \"#7201a8\"], [0.3333333333333333, \"#9c179e\"], [0.4444444444444444, \"#bd3786\"], [0.5555555555555556, \"#d8576b\"], [0.6666666666666666, \"#ed7953\"], [0.7777777777777778, \"#fb9f3a\"], [0.8888888888888888, \"#fdca26\"], [1.0, \"#f0f921\"]], \"type\": \"histogram2dcontour\"}], \"mesh3d\": [{\"colorbar\": {\"outlinewidth\": 0, \"ticks\": \"\"}, \"type\": \"mesh3d\"}], \"parcoords\": [{\"line\": {\"colorbar\": {\"outlinewidth\": 0, \"ticks\": \"\"}}, \"type\": \"parcoords\"}], \"pie\": [{\"automargin\": true, \"type\": \"pie\"}], \"scatter\": [{\"marker\": {\"colorbar\": {\"outlinewidth\": 0, \"ticks\": \"\"}}, \"type\": \"scatter\"}], \"scatter3d\": [{\"line\": {\"colorbar\": {\"outlinewidth\": 0, \"ticks\": \"\"}}, \"marker\": {\"colorbar\": {\"outlinewidth\": 0, \"ticks\": \"\"}}, \"type\": \"scatter3d\"}], \"scattercarpet\": [{\"marker\": {\"colorbar\": {\"outlinewidth\": 0, \"ticks\": \"\"}}, \"type\": \"scattercarpet\"}], \"scattergeo\": [{\"marker\": {\"colorbar\": {\"outlinewidth\": 0, \"ticks\": \"\"}}, \"type\": \"scattergeo\"}], \"scattergl\": [{\"marker\": {\"colorbar\": {\"outlinewidth\": 0, \"ticks\": \"\"}}, \"type\": \"scattergl\"}], \"scattermapbox\": [{\"marker\": {\"colorbar\": {\"outlinewidth\": 0, \"ticks\": \"\"}}, \"type\": \"scattermapbox\"}], \"scatterpolar\": [{\"marker\": {\"colorbar\": {\"outlinewidth\": 0, \"ticks\": \"\"}}, \"type\": \"scatterpolar\"}], \"scatterpolargl\": [{\"marker\": {\"colorbar\": {\"outlinewidth\": 0, \"ticks\": \"\"}}, \"type\": \"scatterpolargl\"}], \"scatterternary\": [{\"marker\": {\"colorbar\": {\"outlinewidth\": 0, \"ticks\": \"\"}}, \"type\": \"scatterternary\"}], \"surface\": [{\"colorbar\": {\"outlinewidth\": 0, \"ticks\": \"\"}, \"colorscale\": [[0.0, \"#0d0887\"], [0.1111111111111111, \"#46039f\"], [0.2222222222222222, \"#7201a8\"], [0.3333333333333333, \"#9c179e\"], [0.4444444444444444, \"#bd3786\"], [0.5555555555555556, \"#d8576b\"], [0.6666666666666666, \"#ed7953\"], [0.7777777777777778, \"#fb9f3a\"], [0.8888888888888888, \"#fdca26\"], [1.0, \"#f0f921\"]], \"type\": \"surface\"}], \"table\": [{\"cells\": {\"fill\": {\"color\": \"#EBF0F8\"}, \"line\": {\"color\": \"white\"}}, \"header\": {\"fill\": {\"color\": \"#C8D4E3\"}, \"line\": {\"color\": \"white\"}}, \"type\": \"table\"}]}, \"layout\": {\"annotationdefaults\": {\"arrowcolor\": \"#2a3f5f\", \"arrowhead\": 0, \"arrowwidth\": 1}, \"coloraxis\": {\"colorbar\": {\"outlinewidth\": 0, \"ticks\": \"\"}}, \"colorscale\": {\"diverging\": [[0, \"#8e0152\"], [0.1, \"#c51b7d\"], [0.2, \"#de77ae\"], [0.3, \"#f1b6da\"], [0.4, \"#fde0ef\"], [0.5, \"#f7f7f7\"], [0.6, \"#e6f5d0\"], [0.7, \"#b8e186\"], [0.8, \"#7fbc41\"], [0.9, \"#4d9221\"], [1, \"#276419\"]], \"sequential\": [[0.0, \"#0d0887\"], [0.1111111111111111, \"#46039f\"], [0.2222222222222222, \"#7201a8\"], [0.3333333333333333, \"#9c179e\"], [0.4444444444444444, \"#bd3786\"], [0.5555555555555556, \"#d8576b\"], [0.6666666666666666, \"#ed7953\"], [0.7777777777777778, \"#fb9f3a\"], [0.8888888888888888, \"#fdca26\"], [1.0, \"#f0f921\"]], \"sequentialminus\": [[0.0, \"#0d0887\"], [0.1111111111111111, \"#46039f\"], [0.2222222222222222, \"#7201a8\"], [0.3333333333333333, \"#9c179e\"], [0.4444444444444444, \"#bd3786\"], [0.5555555555555556, \"#d8576b\"], [0.6666666666666666, \"#ed7953\"], [0.7777777777777778, \"#fb9f3a\"], [0.8888888888888888, \"#fdca26\"], [1.0, \"#f0f921\"]]}, \"colorway\": [\"#636efa\", \"#EF553B\", \"#00cc96\", \"#ab63fa\", \"#FFA15A\", \"#19d3f3\", \"#FF6692\", \"#B6E880\", \"#FF97FF\", \"#FECB52\"], \"font\": {\"color\": \"#2a3f5f\"}, \"geo\": {\"bgcolor\": \"white\", \"lakecolor\": \"white\", \"landcolor\": \"#E5ECF6\", \"showlakes\": true, \"showland\": true, \"subunitcolor\": \"white\"}, \"hoverlabel\": {\"align\": \"left\"}, \"hovermode\": \"closest\", \"mapbox\": {\"style\": \"light\"}, \"paper_bgcolor\": \"white\", \"plot_bgcolor\": \"#E5ECF6\", \"polar\": {\"angularaxis\": {\"gridcolor\": \"white\", \"linecolor\": \"white\", \"ticks\": \"\"}, \"bgcolor\": \"#E5ECF6\", \"radialaxis\": {\"gridcolor\": \"white\", \"linecolor\": \"white\", \"ticks\": \"\"}}, \"scene\": {\"xaxis\": {\"backgroundcolor\": \"#E5ECF6\", \"gridcolor\": \"white\", \"gridwidth\": 2, \"linecolor\": \"white\", \"showbackground\": true, \"ticks\": \"\", \"zerolinecolor\": \"white\"}, \"yaxis\": {\"backgroundcolor\": \"#E5ECF6\", \"gridcolor\": \"white\", \"gridwidth\": 2, \"linecolor\": \"white\", \"showbackground\": true, \"ticks\": \"\", \"zerolinecolor\": \"white\"}, \"zaxis\": {\"backgroundcolor\": \"#E5ECF6\", \"gridcolor\": \"white\", \"gridwidth\": 2, \"linecolor\": \"white\", \"showbackground\": true, \"ticks\": \"\", \"zerolinecolor\": \"white\"}}, \"shapedefaults\": {\"line\": {\"color\": \"#2a3f5f\"}}, \"ternary\": {\"aaxis\": {\"gridcolor\": \"white\", \"linecolor\": \"white\", \"ticks\": \"\"}, \"baxis\": {\"gridcolor\": \"white\", \"linecolor\": \"white\", \"ticks\": \"\"}, \"bgcolor\": \"#E5ECF6\", \"caxis\": {\"gridcolor\": \"white\", \"linecolor\": \"white\", \"ticks\": \"\"}}, \"title\": {\"x\": 0.05}, \"xaxis\": {\"automargin\": true, \"gridcolor\": \"white\", \"linecolor\": \"white\", \"ticks\": \"\", \"title\": {\"standoff\": 15}, \"zerolinecolor\": \"white\", \"zerolinewidth\": 2}, \"yaxis\": {\"automargin\": true, \"gridcolor\": \"white\", \"linecolor\": \"white\", \"ticks\": \"\", \"title\": {\"standoff\": 15}, \"zerolinecolor\": \"white\", \"zerolinewidth\": 2}}}},\n",
              "                        {\"responsive\": true}\n",
              "                    ).then(function(){\n",
              "                            \n",
              "var gd = document.getElementById('9638d23e-48b9-42ac-9df9-4bfc1331a821');\n",
              "var x = new MutationObserver(function (mutations, observer) {{\n",
              "        var display = window.getComputedStyle(gd).display;\n",
              "        if (!display || display === 'none') {{\n",
              "            console.log([gd, 'removed!']);\n",
              "            Plotly.purge(gd);\n",
              "            observer.disconnect();\n",
              "        }}\n",
              "}});\n",
              "\n",
              "// Listen for the removal of the full notebook cells\n",
              "var notebookContainer = gd.closest('#notebook-container');\n",
              "if (notebookContainer) {{\n",
              "    x.observe(notebookContainer, {childList: true});\n",
              "}}\n",
              "\n",
              "// Listen for the clearing of the current output cell\n",
              "var outputEl = gd.closest('.output');\n",
              "if (outputEl) {{\n",
              "    x.observe(outputEl, {childList: true});\n",
              "}}\n",
              "\n",
              "                        })\n",
              "                };\n",
              "                \n",
              "            </script>\n",
              "        </div>\n",
              "</body>\n",
              "</html>"
            ]
          },
          "metadata": {
            "tags": []
          }
        }
      ]
    },
    {
      "cell_type": "markdown",
      "metadata": {
        "id": "W6SqitLwhfCD"
      },
      "source": [
        "## Genetic Algorithm"
      ]
    },
    {
      "cell_type": "code",
      "metadata": {
        "id": "u_si6KuJWE2c"
      },
      "source": [
        "from geneticalgorithm import geneticalgorithm as ga\r\n",
        "\r\n",
        "# Define the objective function here\r\n",
        "def GA_objective_function(X):\r\n",
        "  X = np.reshape(X, (NUM_V, NUM_P))\r\n",
        "\r\n",
        "  # X[i][j] must be either 1 or 0\r\n",
        "  # Force each element of X to be an integer\r\n",
        "  X = np.around(X)\r\n",
        "  cost = np.sum(np.multiply(X, C))\r\n",
        "\r\n",
        "  # Constraints goes here\r\n",
        "  # Sum of each row of X equals 1\r\n",
        "  # Sum of each column of X <= 1\r\n",
        "  penalty = 0\r\n",
        "  for i in range(NUM_V):\r\n",
        "    row_sum = X[i].sum()\r\n",
        "    penalty += LARGER_NUM * np.abs(row_sum - 1)\r\n",
        "  for j in range(NUM_P):\r\n",
        "    col_sum = X[:, j].sum()\r\n",
        "    if col_sum > 1:\r\n",
        "      penalty += LARGER_NUM * (col_sum - 1)\r\n",
        "      \r\n",
        "  return cost + penalty\r\n",
        "\r\n",
        "# Define the objective function here\r\n",
        "def GA_objective_function_2(v):\r\n",
        "  X = np.zeros((NUM_V, NUM_P))\r\n",
        "  for i in range(NUM_V):\r\n",
        "    X[i][int(v[i])] = 1\r\n",
        "\r\n",
        "  # X[i][j] must be either 1 or 0\r\n",
        "  # Force each element of X to be an integer\r\n",
        "  X = np.around(X)\r\n",
        "  cost = np.sum(np.multiply(X, C))\r\n",
        "\r\n",
        "  # Constraints goes here\r\n",
        "  # Sum of each row of X equals 1\r\n",
        "  # Sum of each column of X <= 1\r\n",
        "  penalty = 0\r\n",
        "  for j in range(NUM_P):\r\n",
        "    col_sum = X[:, j].sum()\r\n",
        "    if col_sum > 1:\r\n",
        "      penalty += LARGER_NUM * (col_sum - 1)\r\n",
        "      \r\n",
        "  return cost + penalty\r\n"
      ],
      "execution_count": null,
      "outputs": []
    },
    {
      "cell_type": "code",
      "metadata": {
        "colab": {
          "base_uri": "https://localhost:8080/",
          "height": 397
        },
        "id": "8N9fS2IciruV",
        "outputId": "5e509eaa-efa1-4331-8e1b-e76b4e194621"
      },
      "source": [
        "start_time = time.time()\r\n",
        "algorithm_param = {'max_num_iteration': 1000,\\\r\n",
        "                   'population_size':100,\\\r\n",
        "                   'mutation_probability':0.1,\\\r\n",
        "                   'elit_ratio': 0.01,\\\r\n",
        "                   'crossover_probability': 0.5,\\\r\n",
        "                   'parents_portion': 0.3,\\\r\n",
        "                   'crossover_type':'uniform',\\\r\n",
        "                   'max_iteration_without_improv':None}\r\n",
        "\r\n",
        "varbound=np.array([[0,NUM_P-1]]*NUM_V)\r\n",
        "\r\n",
        "model=ga(function = GA_objective_function_2, dimension = NUM_V, variable_type = 'int', algorithm_parameters = algorithm_param, variable_boundaries = varbound)\r\n",
        "\r\n",
        "model.run()\r\n",
        "\r\n",
        "GA_runtime = time.time() - start_time\r\n",
        "print(\"--- GA run time: %s seconds ---\" % GA_runtime)"
      ],
      "execution_count": null,
      "outputs": [
        {
          "output_type": "stream",
          "text": [
            " The best solution found:\n",
            " [ 72. 117.  51.  43.  50.  24.  97.  84.  48.  75.]\n",
            "\n",
            " Objective function:\n",
            " 3619.136389222591\n"
          ],
          "name": "stdout"
        },
        {
          "output_type": "display_data",
          "data": {
            "image/png": "[encoded data removed]",
            "text/plain": [
              "<Figure size 432x288 with 1 Axes>"
            ]
          },
          "metadata": {
            "tags": [],
            "needs_background": "light"
          }
        },
        {
          "output_type": "stream",
          "text": [
            "--- GA run time: 59.60599374771118 seconds ---\n"
          ],
          "name": "stdout"
        }
      ]
    },
    {
      "cell_type": "code",
      "metadata": {
        "colab": {
          "base_uri": "https://localhost:8080/"
        },
        "id": "unmNpcla9nz8",
        "outputId": "05f6ff2c-d3cf-4d9e-e1e2-e63ee2a03e2b"
      },
      "source": [
        "# Show results and prepare for plotting\r\n",
        "GA_pos = np.around(model.output_dict['variable'])\r\n",
        "\r\n",
        "GA_row_ind = []\r\n",
        "GA_col_ind = []\r\n",
        "for i in range(NUM_V):\r\n",
        "  GA_row_ind.append(i)\r\n",
        "  GA_col_ind.append(int(GA_pos[i]))\r\n",
        "\r\n",
        "GA_cost = model.output_dict['function']\r\n",
        "print(\"GA cost: \", GA_cost)\r\n",
        "print(\"GA assignment: \", GA_col_ind)"
      ],
      "execution_count": null,
      "outputs": [
        {
          "output_type": "stream",
          "text": [
            "GA cost:  3619.136389222591\n",
            "GA assignment:  [72, 117, 51, 43, 50, 24, 97, 84, 48, 75]\n"
          ],
          "name": "stdout"
        }
      ]
    },
    {
      "cell_type": "code",
      "metadata": {
        "colab": {
          "base_uri": "https://localhost:8080/",
          "height": 542
        },
        "id": "EVjjFsZ_-V0r",
        "outputId": "766db1a9-b421-4631-ca51-4a0c57119527"
      },
      "source": [
        "# Plot results\r\n",
        "fig = go.Figure()\r\n",
        "fig = fig_add_test_cases(fig, p_lat, p_long, vacp_lat, vacp_long, vacant_parkings, origin_lat, origin_long, dest_lat, dest_long, hours)\r\n",
        "fig = fig_add_result_paths(fig, GA_row_ind, GA_col_ind, list_V, list_P)\r\n",
        "fig.show()"
      ],
      "execution_count": null,
      "outputs": [
        {
          "output_type": "display_data",
          "data": {
            "text/html": [
              "<html>\n",
              "<head><meta charset=\"utf-8\" /></head>\n",
              "<body>\n",
              "    <div>\n",
              "            <script src=\"https://cdnjs.cloudflare.com/ajax/libs/mathjax/2.7.5/MathJax.js?config=TeX-AMS-MML_SVG\"></script><script type=\"text/javascript\">if (window.MathJax) {MathJax.Hub.Config({SVG: {font: \"STIX-Web\"}});}</script>\n",
              "                <script type=\"text/javascript\">window.PlotlyConfig = {MathJaxConfig: 'local'};</script>\n",
              "        <script src=\"https://cdn.plot.ly/plotly-latest.min.js\"></script>    \n",
              "            <div id=\"773ce7ea-f27e-4080-9bab-06b44bb19dcc\" class=\"plotly-graph-div\" style=\"height:525px; width:100%;\"></div>\n",
              "            <script type=\"text/javascript\">\n",
              "                \n",
              "                    window.PLOTLYENV=window.PLOTLYENV || {};\n",
              "                    \n",
              "                if (document.getElementById(\"773ce7ea-f27e-4080-9bab-06b44bb19dcc\")) {\n",
              "                    Plotly.newPlot(\n",
              "                        '773ce7ea-f27e-4080-9bab-06b44bb19dcc',\n",
              "                        [{\"lat\": [34.040251, 34.039715, 34.039839, 34.039673, 34.041576, 34.039273, 34.040221, 34.039802, 34.04044, 34.042094, 34.042382, 34.040272, 34.040754, 34.040363, 34.039163, 34.040416, 34.039911, 34.041313, 34.040629, 34.039178, 34.041838, 34.042397, 34.039631, 34.041533, 34.042111, 34.039818, 34.042067, 34.042506, 34.039593, 34.042517, 34.041645, 34.039187, 34.042127, 34.041807, 34.041486, 34.040402, 34.042296, 34.040348, 34.04235, 34.04176, 34.042038, 34.039381, 34.042278, 34.041281, 34.040588, 34.04231, 34.039724, 34.04168, 34.039243, 34.040291, 34.041618, 34.03988, 34.042759, 34.041248, 34.042314, 34.042225, 34.040658, 34.042366, 34.042262, 34.039871, 34.041411, 34.041729, 34.039685, 34.039537, 34.041566, 34.042554, 34.042638, 34.040406, 34.040138, 34.040441, 34.039703, 34.041725, 34.04008, 34.039942, 34.041062, 34.039244, 34.040186, 34.042166, 34.04014, 34.03931, 34.039124, 34.041104, 34.039846, 34.040455, 34.039504, 34.040333, 34.040123, 34.040536, 34.039183, 34.040537, 34.039054, 34.040248, 34.040313, 34.040044, 34.040575, 34.042572, 34.040487, 34.039747, 34.039361, 34.040268, 34.041324, 34.039925, 34.039364, 34.039193, 34.041687, 34.041435, 34.039967, 34.040768, 34.039708, 34.04049, 34.03992, 34.041455, 34.040922, 34.040331, 34.041976, 34.03922, 34.040226, 34.040982, 34.039795, 34.039706, 34.039791, 34.04093, 34.039074, 34.040189, 34.040429, 34.040319, 34.039326, 34.041764, 34.041378, 34.039703, 34.041177, 34.04206, 34.039931, 34.039143, 34.039902, 34.04018, 34.039889, 34.039977, 34.041117, 34.03927, 34.039999, 34.040026, 34.040624, 34.039543, 34.040865, 34.04028, 34.040511, 34.040534, 34.042064, 34.040354, 34.041079, 34.039278, 34.042373, 34.04152, 34.041017, 34.039148, 34.042621, 34.040777, 34.039846, 34.040015, 34.039169, 34.041284, 34.039758, 34.039233, 34.041256, 34.040375, 34.04142, 34.040717, 34.039059, 34.039433, 34.042004, 34.039315, 34.04036, 34.042326, 34.04167, 34.040309, 34.040191, 34.040414, 34.040813, 34.039412, 34.039088, 34.04106, 34.039743, 34.042476, 34.042151, 34.039794, 34.040862, 34.041455, 34.039884, 34.039676, 34.039179, 34.040236, 34.040471, 34.040971, 34.039759, 34.040101, 34.040452, 34.039142, 34.039769, 34.040812, 34.040355, 34.039608, 34.039644, 34.040455, 34.039129, 34.040525, 34.040812, 34.03986, 34.040663, 34.041533, 34.041181, 34.041962, 34.039821, 34.03908, 34.040869, 34.040586, 34.042679, 34.040247, 34.040509, 34.042261, 34.042091, 34.040221, 34.039533, 34.039938, 34.041487, 34.039786, 34.039666, 34.039238, 34.03969, 34.040283, 34.039287, 34.039849, 34.041378, 34.040899, 34.04202, 34.039955, 34.039661, 34.039749, 34.03979, 34.039097, 34.03978, 34.040501, 34.039807, 34.040715, 34.040319, 34.039045, 34.041918, 34.039599, 34.040909, 34.041786, 34.040402, 34.042149, 34.041414, 34.041005, 34.039808, 34.041478, 34.041329, 34.042721, 34.040902, 34.039093, 34.03973, 34.039976, 34.041062, 34.041077, 34.040318, 34.039823, 34.039239, 34.040179, 34.042106, 34.039418, 34.041476, 34.040666, 34.039902, 34.039862, 34.041213, 34.040947, 34.039951, 34.042053, 34.042163, 34.040278, 34.039051, 34.039624, 34.040041, 34.039447, 34.040727, 34.039278, 34.041279, 34.042422, 34.042206, 34.041452, 34.039212, 34.039109, 34.039967, 34.040772, 34.04252, 34.039763, 34.041351, 34.042206], \"lon\": [-118.25319, -118.252843, -118.250218, -118.251762, -118.248779, -118.253051, -118.251776, -118.250177, -118.252735, -118.249576, -118.252947, -118.250986, -118.248122, -118.251808, -118.252953, -118.25155, -118.250734, -118.246273, -118.251499, -118.248225, -118.252562, -118.251465, -118.251032, -118.252767, -118.251869, -118.250833, -118.251938, -118.251562, -118.251074, -118.251302, -118.252858, -118.252522, -118.251847, -118.252608, -118.25284, -118.250024, -118.249614, -118.25008, -118.251775, -118.252682, -118.251983, -118.251301, -118.251626, -118.253143, -118.250013, -118.251582, -118.250933, -118.252807, -118.252583, -118.250141, -118.25264, -118.25217, -118.250978, -118.253194, -118.251824, -118.251699, -118.24975, -118.251508, -118.251902, -118.250775, -118.246171, -118.252731, -118.250974, -118.251134, -118.252719, -118.251496, -118.25114, -118.252777, -118.24867, -118.24998, -118.252575, -118.251975, -118.251938, -118.247424, -118.249508, -118.249939, -118.251095, -118.252448, -118.247217, -118.253009, -118.252996, -118.249463, -118.247526, -118.250618, -118.24986, -118.247303, -118.251888, -118.248184, -118.249252, -118.251604, -118.252377, -118.250186, -118.251864, -118.247317, -118.251561, -118.247855, -118.251664, -118.247628, -118.252162, -118.252957, -118.250709, -118.25053, -118.252951, -118.251499, -118.248676, -118.248922, -118.250674, -118.249821, -118.251717, -118.252667, -118.252123, -118.250561, -118.251379, -118.253085, -118.249975, -118.25311, -118.248561, -118.252033, -118.252465, -118.249394, -118.253186, -118.246676, -118.248334, -118.248605, -118.247202, -118.251662, -118.252208, -118.252015, -118.249173, -118.247675, -118.250873, -118.249616, -118.25143, -118.252219, -118.247467, -118.247462, -118.252358, -118.252057, -118.251587, -118.248417, -118.247364, -118.252001, -118.251058, -118.249902, -118.252181, -118.247357, -118.25144, -118.250071, -118.248326, -118.248404, -118.250983, -118.24812, -118.24804, -118.249021, -118.246584, -118.25248, -118.24781, -118.252507, -118.251538, -118.251319, -118.248521, -118.250754, -118.251651, -118.251458, -118.246333, -118.251599, -118.249129, -118.248169, -118.251454, -118.248247, -118.24968, -118.248081, -118.250515, -118.25288, -118.251915, -118.250938, -118.250596, -118.250573, -118.249584, -118.252096, -118.25216, -118.25214, -118.24935, -118.247946, -118.249777, -118.251604, -118.2524, -118.246126, -118.25149, -118.252803, -118.253156, -118.252998, -118.251485, -118.246632, -118.252509, -118.247258, -118.251705, -118.250056, -118.252906, -118.252461, -118.252844, -118.247775, -118.247736, -118.248485, -118.248562, -118.252624, -118.249775, -118.249204, -118.248233, -118.248819, -118.251986, -118.249727, -118.250641, -118.251621, -118.249716, -118.251018, -118.247756, -118.250655, -118.250676, -118.248145, -118.252632, -118.251051, -118.25194, -118.252299, -118.250526, -118.25228, -118.252619, -118.248162, -118.252389, -118.253149, -118.2514, -118.252403, -118.248984, -118.252136, -118.249926, -118.253111, -118.249763, -118.25012, -118.249088, -118.251412, -118.250875, -118.249916, -118.247567, -118.249691, -118.250471, -118.249973, -118.250039, -118.249963, -118.249671, -118.25019, -118.251761, -118.252695, -118.251904, -118.249569, -118.252947, -118.249065, -118.249227, -118.247718, -118.247739, -118.25242, -118.252343, -118.252254, -118.246536, -118.251544, -118.252891, -118.252237, -118.25126, -118.251824, -118.248289, -118.251261, -118.248879, -118.251455, -118.25305, -118.253008, -118.246376, -118.252074, -118.247703, -118.252591, -118.248236, -118.251708, -118.252119, -118.249725, -118.247608, -118.252052, -118.252361, -118.251219, -118.249277, -118.252986, -118.252491, -118.251946, -118.249777, -118.250095, -118.251382, -118.249629, -118.247907, -118.250704, -118.246233, -118.248195], \"marker\": {\"color\": \"orange\", \"size\": 5}, \"mode\": \"markers\", \"name\": \"Occupied parking\", \"type\": \"scattermapbox\"}, {\"hoverinfo\": \"text\", \"hovertext\": [\"Hourly rate: 2.0; Max rate: 8.0; Hour Limit: 2.0\", \"Hourly rate: 1.5; Max rate: 12.0; Hour Limit: 2.0\", \"Hourly rate: 3.0; Max rate: 8.0; Hour Limit: 2.0\", \"Hourly rate: 0.5; Max rate: 10.0; Hour Limit: 2.0\", \"Hourly rate: 1.5; Max rate: 8.0; Hour Limit: 2.0\", \"Hourly rate: 3.0; Max rate: 10.0; Hour Limit: 2.0\", \"Hourly rate: 3.0; Max rate: 10.0; Hour Limit: 2.0\", \"Hourly rate: 1.5; Max rate: 10.0; Hour Limit: 2.0\", \"Hourly rate: 4.0; Max rate: 8.0; Hour Limit: 2.0\", \"Hourly rate: 4.0; Max rate: 8.0; Hour Limit: 2.0\", \"Hourly rate: 1.5; Max rate: 8.0; Hour Limit: 2.0\", \"Hourly rate: 4.0; Max rate: 8.0; Hour Limit: 2.0\", \"Hourly rate: 1.5; Max rate: 8.0; Hour Limit: 2.0\", \"Hourly rate: 1.5; Max rate: 8.0; Hour Limit: 2.0\", \"Hourly rate: 1.5; Max rate: 8.0; Hour Limit: 2.0\", \"Hourly rate: 4.0; Max rate: 12.0; Hour Limit: 2.0\", \"Hourly rate: 1.5; Max rate: 8.0; Hour Limit: 2.0\", \"Hourly rate: 3.0; Max rate: 8.0; Hour Limit: 2.0\", \"Hourly rate: 4.0; Max rate: 8.0; Hour Limit: 2.0\", \"Hourly rate: 2.0; Max rate: 24.0; Hour Limit: 4.0\", \"Hourly rate: 2.0; Max rate: 8.0; Hour Limit: 2.0\", \"Hourly rate: 1.5; Max rate: 8.0; Hour Limit: 2.0\", \"Hourly rate: 4.0; Max rate: 8.0; Hour Limit: 2.0\", \"Hourly rate: 1.5; Max rate: 8.0; Hour Limit: 2.0\", \"Hourly rate: 0.5; Max rate: 24.0; Hour Limit: 4.0\", \"Hourly rate: 1.5; Max rate: 8.0; Hour Limit: 2.0\", \"Hourly rate: 3.0; Max rate: 8.0; Hour Limit: 2.0\", \"Hourly rate: 4.0; Max rate: 12.0; Hour Limit: 2.0\", \"Hourly rate: 4.0; Max rate: 8.0; Hour Limit: 2.0\", \"Hourly rate: 3.0; Max rate: 10.0; Hour Limit: 2.0\", \"Hourly rate: 1.5; Max rate: 8.0; Hour Limit: 2.0\", \"Hourly rate: 4.0; Max rate: 8.0; Hour Limit: 2.0\", \"Hourly rate: 2.0; Max rate: 8.0; Hour Limit: 2.0\", \"Hourly rate: 1.5; Max rate: 8.0; Hour Limit: 2.0\", \"Hourly rate: 1.5; Max rate: 8.0; Hour Limit: 2.0\", \"Hourly rate: 2.0; Max rate: 8.0; Hour Limit: 2.0\", \"Hourly rate: 3.0; Max rate: 8.0; Hour Limit: 2.0\", \"Hourly rate: 4.0; Max rate: 8.0; Hour Limit: 2.0\", \"Hourly rate: 4.0; Max rate: 8.0; Hour Limit: 2.0\", \"Hourly rate: 1.5; Max rate: 8.0; Hour Limit: 2.0\", \"Hourly rate: 3.0; Max rate: 10.0; Hour Limit: 2.0\", \"Hourly rate: 0.5; Max rate: 12.0; Hour Limit: 2.0\", \"Hourly rate: 3.0; Max rate: 8.0; Hour Limit: 2.0\", \"Hourly rate: 0.5; Max rate: 10.0; Hour Limit: 2.0\", \"Hourly rate: 3.0; Max rate: 10.0; Hour Limit: 2.0\", \"Hourly rate: 4.0; Max rate: 12.0; Hour Limit: 2.0\", \"Hourly rate: 0.5; Max rate: 6.0; Hour Limit: 4.0\", \"Hourly rate: 4.0; Max rate: 8.0; Hour Limit: 2.0\", \"Hourly rate: 1.5; Max rate: 8.0; Hour Limit: 2.0\", \"Hourly rate: 4.0; Max rate: 8.0; Hour Limit: 2.0\", \"Hourly rate: 0.5; Max rate: 10.0; Hour Limit: 2.0\", \"Hourly rate: 0.5; Max rate: 24.0; Hour Limit: 4.0\", \"Hourly rate: 3.0; Max rate: 8.0; Hour Limit: 2.0\", \"Hourly rate: 3.0; Max rate: 10.0; Hour Limit: 2.0\", \"Hourly rate: 2.0; Max rate: 24.0; Hour Limit: 4.0\", \"Hourly rate: 1.5; Max rate: 8.0; Hour Limit: 2.0\", \"Hourly rate: 3.0; Max rate: 8.0; Hour Limit: 2.0\", \"Hourly rate: 4.0; Max rate: 8.0; Hour Limit: 2.0\", \"Hourly rate: 5.0; Max rate: 10.0; Hour Limit: 2.0\", \"Hourly rate: 1.0; Max rate: 3.0; Hour Limit: 2.0\", \"Hourly rate: 3.0; Max rate: 8.0; Hour Limit: 2.0\", \"Hourly rate: 3.0; Max rate: 10.0; Hour Limit: 2.0\", \"Hourly rate: 0.5; Max rate: 24.0; Hour Limit: 4.0\", \"Hourly rate: 3.0; Max rate: 8.0; Hour Limit: 2.0\", \"Hourly rate: 4.0; Max rate: 12.0; Hour Limit: 2.0\", \"Hourly rate: 4.0; Max rate: 8.0; Hour Limit: 2.0\", \"Hourly rate: 3.0; Max rate: 10.0; Hour Limit: 2.0\", \"Hourly rate: 0.5; Max rate: 6.0; Hour Limit: 4.0\", \"Hourly rate: 3.0; Max rate: 10.0; Hour Limit: 2.0\", \"Hourly rate: 4.0; Max rate: 10.0; Hour Limit: 2.0\", \"Hourly rate: 0.5; Max rate: 12.0; Hour Limit: 2.0\", \"Hourly rate: 3.0; Max rate: 8.0; Hour Limit: 2.0\", \"Hourly rate: 0.5; Max rate: 6.0; Hour Limit: 4.0\", \"Hourly rate: 2.0; Max rate: 24.0; Hour Limit: 4.0\", \"Hourly rate: 0.5; Max rate: 6.0; Hour Limit: 4.0\", \"Hourly rate: 1.0; Max rate: 3.0; Hour Limit: 2.0\", \"Hourly rate: 4.0; Max rate: 12.0; Hour Limit: 2.0\", \"Hourly rate: 0.5; Max rate: 6.0; Hour Limit: 4.0\", \"Hourly rate: 3.0; Max rate: 8.0; Hour Limit: 2.0\", \"Hourly rate: 3.0; Max rate: 8.0; Hour Limit: 2.0\", \"Hourly rate: 3.0; Max rate: 8.0; Hour Limit: 2.0\", \"Hourly rate: 1.0; Max rate: 3.0; Hour Limit: 2.0\", \"Hourly rate: 3.0; Max rate: 10.0; Hour Limit: 2.0\", \"Hourly rate: 2.0; Max rate: 8.0; Hour Limit: 2.0\", \"Hourly rate: 0.5; Max rate: 24.0; Hour Limit: 4.0\", \"Hourly rate: 3.0; Max rate: 10.0; Hour Limit: 2.0\", \"Hourly rate: 3.0; Max rate: 8.0; Hour Limit: 2.0\", \"Hourly rate: 4.0; Max rate: 12.0; Hour Limit: 2.0\", \"Hourly rate: 0.5; Max rate: 6.0; Hour Limit: 4.0\", \"Hourly rate: 2.0; Max rate: 24.0; Hour Limit: 4.0\", \"Hourly rate: 3.0; Max rate: 8.0; Hour Limit: 2.0\", \"Hourly rate: 2.0; Max rate: 8.0; Hour Limit: 2.0\", \"Hourly rate: 3.0; Max rate: 8.0; Hour Limit: 2.0\", \"Hourly rate: 3.0; Max rate: 8.0; Hour Limit: 2.0\", \"Hourly rate: 3.0; Max rate: 10.0; Hour Limit: 2.0\", \"Hourly rate: 1.0; Max rate: 3.0; Hour Limit: 2.0\", \"Hourly rate: 4.0; Max rate: 8.0; Hour Limit: 2.0\", \"Hourly rate: 0.5; Max rate: 6.0; Hour Limit: 4.0\", \"Hourly rate: 4.0; Max rate: 8.0; Hour Limit: 2.0\", \"Hourly rate: 1.5; Max rate: 12.0; Hour Limit: 2.0\", \"Hourly rate: 3.0; Max rate: 8.0; Hour Limit: 2.0\", \"Hourly rate: 0.5; Max rate: 6.0; Hour Limit: 4.0\", \"Hourly rate: 0.5; Max rate: 6.0; Hour Limit: 4.0\", \"Hourly rate: 0.5; Max rate: 24.0; Hour Limit: 4.0\", \"Hourly rate: 4.0; Max rate: 8.0; Hour Limit: 2.0\", \"Hourly rate: 0.5; Max rate: 6.0; Hour Limit: 4.0\", \"Hourly rate: 0.5; Max rate: 6.0; Hour Limit: 4.0\", \"Hourly rate: 3.0; Max rate: 8.0; Hour Limit: 2.0\", \"Hourly rate: 3.0; Max rate: 10.0; Hour Limit: 2.0\", \"Hourly rate: 4.0; Max rate: 8.0; Hour Limit: 2.0\", \"Hourly rate: 4.0; Max rate: 8.0; Hour Limit: 2.0\", \"Hourly rate: 3.0; Max rate: 8.0; Hour Limit: 2.0\", \"Hourly rate: 2.0; Max rate: 24.0; Hour Limit: 4.0\", \"Hourly rate: 1.5; Max rate: 12.0; Hour Limit: 2.0\", \"Hourly rate: 0.5; Max rate: 24.0; Hour Limit: 4.0\", \"Hourly rate: 2.0; Max rate: 8.0; Hour Limit: 2.0\", \"Hourly rate: 4.0; Max rate: 8.0; Hour Limit: 2.0\", \"Hourly rate: 0.5; Max rate: 12.0; Hour Limit: 2.0\", \"Hourly rate: 2.0; Max rate: 24.0; Hour Limit: 4.0\", \"Hourly rate: 2.0; Max rate: 24.0; Hour Limit: 4.0\", \"Hourly rate: 1.5; Max rate: 12.0; Hour Limit: 2.0\", \"Hourly rate: 0.5; Max rate: 6.0; Hour Limit: 4.0\", \"Hourly rate: 4.0; Max rate: 12.0; Hour Limit: 2.0\", \"Hourly rate: 3.0; Max rate: 10.0; Hour Limit: 2.0\", \"Hourly rate: 4.0; Max rate: 8.0; Hour Limit: 2.0\", \"Hourly rate: 1.0; Max rate: 3.0; Hour Limit: 2.0\", \"Hourly rate: 3.0; Max rate: 8.0; Hour Limit: 2.0\", \"Hourly rate: 3.0; Max rate: 10.0; Hour Limit: 2.0\", \"Hourly rate: 0.5; Max rate: 6.0; Hour Limit: 4.0\", \"Hourly rate: 1.5; Max rate: 12.0; Hour Limit: 2.0\", \"Hourly rate: 1.5; Max rate: 12.0; Hour Limit: 2.0\", \"Hourly rate: 0.5; Max rate: 6.0; Hour Limit: 4.0\", \"Hourly rate: 4.0; Max rate: 12.0; Hour Limit: 2.0\", \"Hourly rate: 0.5; Max rate: 10.0; Hour Limit: 2.0\", \"Hourly rate: 3.0; Max rate: 8.0; Hour Limit: 2.0\", \"Hourly rate: 2.0; Max rate: 8.0; Hour Limit: 2.0\", \"Hourly rate: 3.0; Max rate: 8.0; Hour Limit: 2.0\", \"Hourly rate: 0.5; Max rate: 6.0; Hour Limit: 4.0\", \"Hourly rate: 0.5; Max rate: 6.0; Hour Limit: 4.0\"], \"lat\": [34.040251, 34.039715, 34.039673, 34.041576, 34.039273, 34.040221, 34.042382, 34.040754, 34.040363, 34.039163, 34.042397, 34.041533, 34.042111, 34.042067, 34.042517, 34.039187, 34.042127, 34.041807, 34.041486, 34.042296, 34.04235, 34.042038, 34.039381, 34.042278, 34.040588, 34.04231, 34.04168, 34.039243, 34.041618, 34.03988, 34.042759, 34.041248, 34.042314, 34.042225, 34.042366, 34.042262, 34.041729, 34.039537, 34.041566, 34.042638, 34.04008, 34.039244, 34.040186, 34.040333, 34.040123, 34.039054, 34.042572, 34.040487, 34.039364, 34.039193, 34.041687, 34.040768, 34.039708, 34.03992, 34.041976, 34.03922, 34.040982, 34.039795, 34.039791, 34.04093, 34.039326, 34.041764, 34.041378, 34.039931, 34.039143, 34.039889, 34.039977, 34.039999, 34.040026, 34.040624, 34.039543, 34.040865, 34.042064, 34.041079, 34.042373, 34.041017, 34.039148, 34.042621, 34.039846, 34.040015, 34.039758, 34.041256, 34.040375, 34.039059, 34.042004, 34.042326, 34.039412, 34.039088, 34.042476, 34.042151, 34.039794, 34.040862, 34.039884, 34.040236, 34.040471, 34.040971, 34.039759, 34.040101, 34.040452, 34.039769, 34.040355, 34.039608, 34.039644, 34.040812, 34.03908, 34.042679, 34.042261, 34.039533, 34.039786, 34.039666, 34.039849, 34.040899, 34.04202, 34.039955, 34.039661, 34.039097, 34.03978, 34.040319, 34.041918, 34.041786, 34.039808, 34.042721, 34.039093, 34.03973, 34.039976, 34.041062, 34.040318, 34.039823, 34.042106, 34.039902, 34.039862, 34.042163, 34.039051, 34.040041, 34.039447, 34.039278, 34.039967, 34.04252, 34.042206], \"lon\": [-118.25319, -118.252843, -118.251762, -118.248779, -118.253051, -118.251776, -118.252947, -118.248122, -118.251808, -118.252953, -118.251465, -118.252767, -118.251869, -118.251938, -118.251302, -118.252522, -118.251847, -118.252608, -118.25284, -118.249614, -118.251775, -118.251983, -118.251301, -118.251626, -118.250013, -118.251582, -118.252807, -118.252583, -118.25264, -118.25217, -118.250978, -118.253194, -118.251824, -118.251699, -118.251508, -118.251902, -118.252731, -118.251134, -118.252719, -118.25114, -118.251938, -118.249939, -118.251095, -118.247303, -118.251888, -118.252377, -118.247855, -118.251664, -118.252951, -118.251499, -118.248676, -118.249821, -118.251717, -118.252123, -118.249975, -118.25311, -118.252033, -118.252465, -118.253186, -118.246676, -118.252208, -118.252015, -118.249173, -118.25143, -118.252219, -118.252358, -118.252057, -118.247364, -118.252001, -118.251058, -118.249902, -118.252181, -118.248326, -118.250983, -118.24804, -118.246584, -118.25248, -118.24781, -118.251538, -118.251319, -118.251651, -118.246333, -118.251599, -118.251454, -118.24968, -118.25288, -118.252096, -118.25216, -118.247946, -118.249777, -118.251604, -118.2524, -118.25149, -118.252998, -118.251485, -118.246632, -118.252509, -118.247258, -118.251705, -118.252906, -118.252844, -118.247775, -118.247736, -118.249775, -118.251621, -118.247756, -118.248145, -118.25194, -118.25228, -118.252619, -118.252403, -118.252136, -118.249926, -118.253111, -118.249763, -118.251412, -118.250875, -118.250471, -118.250039, -118.25019, -118.252947, -118.247718, -118.25242, -118.252343, -118.252254, -118.246536, -118.252891, -118.252237, -118.248289, -118.25305, -118.253008, -118.248236, -118.252119, -118.247608, -118.252052, -118.251219, -118.251382, -118.247907, -118.248195], \"marker\": {\"color\": \"darkgreen\", \"size\": 5}, \"mode\": \"markers\", \"name\": \"Vacant parking\", \"type\": \"scattermapbox\"}, {\"lat\": [34.038526], \"lon\": [-118.254028], \"marker\": {\"color\": \"blue\", \"size\": 10}, \"mode\": \"markers\", \"name\": \"Start point 0\", \"type\": \"scattermapbox\"}, {\"lat\": [34.034314], \"lon\": [-118.252074], \"marker\": {\"color\": \"blue\", \"size\": 10}, \"mode\": \"markers\", \"name\": \"Start point 1\", \"type\": \"scattermapbox\"}, {\"lat\": [34.043959], \"lon\": [-118.243785], \"marker\": {\"color\": \"blue\", \"size\": 10}, \"mode\": \"markers\", \"name\": \"Start point 2\", \"type\": \"scattermapbox\"}, {\"lat\": [34.038329], \"lon\": [-118.245367], \"marker\": {\"color\": \"blue\", \"size\": 10}, \"mode\": \"markers\", \"name\": \"Start point 3\", \"type\": \"scattermapbox\"}, {\"lat\": [34.040802], \"lon\": [-118.260495], \"marker\": {\"color\": \"blue\", \"size\": 10}, \"mode\": \"markers\", \"name\": \"Start point 4\", \"type\": \"scattermapbox\"}, {\"lat\": [34.038147], \"lon\": [-118.257064], \"marker\": {\"color\": \"blue\", \"size\": 10}, \"mode\": \"markers\", \"name\": \"Start point 5\", \"type\": \"scattermapbox\"}, {\"lat\": [34.034895], \"lon\": [-118.253033], \"marker\": {\"color\": \"blue\", \"size\": 10}, \"mode\": \"markers\", \"name\": \"Start point 6\", \"type\": \"scattermapbox\"}, {\"lat\": [34.042111], \"lon\": [-118.244735], \"marker\": {\"color\": \"blue\", \"size\": 10}, \"mode\": \"markers\", \"name\": \"Start point 7\", \"type\": \"scattermapbox\"}, {\"lat\": [34.046061], \"lon\": [-118.242705], \"marker\": {\"color\": \"blue\", \"size\": 10}, \"mode\": \"markers\", \"name\": \"Start point 8\", \"type\": \"scattermapbox\"}, {\"lat\": [34.03682], \"lon\": [-118.248662], \"marker\": {\"color\": \"blue\", \"size\": 10}, \"mode\": \"markers\", \"name\": \"Start point 9\", \"type\": \"scattermapbox\"}, {\"hoverinfo\": \"text\", \"hovertext\": \"Destination 0; Hours: 2.0\", \"lat\": [34.042308], \"lon\": [-118.250414], \"marker\": {\"color\": \"red\", \"size\": 10}, \"mode\": \"markers\", \"name\": \"Destination 0\", \"type\": \"scattermapbox\"}, {\"hoverinfo\": \"text\", \"hovertext\": \"Destination 1; Hours: 2.0\", \"lat\": [34.041665], \"lon\": [-118.251708], \"marker\": {\"color\": \"red\", \"size\": 10}, \"mode\": \"markers\", \"name\": \"Destination 1\", \"type\": \"scattermapbox\"}, {\"hoverinfo\": \"text\", \"hovertext\": \"Destination 2; Hours: 2.5\", \"lat\": [34.039068], \"lon\": [-118.251934], \"marker\": {\"color\": \"red\", \"size\": 10}, \"mode\": \"markers\", \"name\": \"Destination 2\", \"type\": \"scattermapbox\"}, {\"hoverinfo\": \"text\", \"hovertext\": \"Destination 3; Hours: 1\", \"lat\": [34.040547], \"lon\": [-118.246945], \"marker\": {\"color\": \"red\", \"size\": 10}, \"mode\": \"markers\", \"name\": \"Destination 3\", \"type\": \"scattermapbox\"}, {\"hoverinfo\": \"text\", \"hovertext\": \"Destination 4; Hours: 0.5\", \"lat\": [34.041726], \"lon\": [-118.248157], \"marker\": {\"color\": \"red\", \"size\": 10}, \"mode\": \"markers\", \"name\": \"Destination 4\", \"type\": \"scattermapbox\"}, {\"hoverinfo\": \"text\", \"hovertext\": \"Destination 5; Hours: 1\", \"lat\": [34.040755], \"lon\": [-118.251687], \"marker\": {\"color\": \"red\", \"size\": 10}, \"mode\": \"markers\", \"name\": \"Destination 5\", \"type\": \"scattermapbox\"}, {\"hoverinfo\": \"text\", \"hovertext\": \"Destination 6; Hours: 2.5\", \"lat\": [34.042034], \"lon\": [-118.247397], \"marker\": {\"color\": \"red\", \"size\": 10}, \"mode\": \"markers\", \"name\": \"Destination 6\", \"type\": \"scattermapbox\"}, {\"hoverinfo\": \"text\", \"hovertext\": \"Destination 7; Hours: 3\", \"lat\": [34.041959], \"lon\": [-118.252433], \"marker\": {\"color\": \"red\", \"size\": 10}, \"mode\": \"markers\", \"name\": \"Destination 7\", \"type\": \"scattermapbox\"}, {\"hoverinfo\": \"text\", \"hovertext\": \"Destination 8; Hours: 1.5\", \"lat\": [34.039944], \"lon\": [-118.252114], \"marker\": {\"color\": \"red\", \"size\": 10}, \"mode\": \"markers\", \"name\": \"Destination 8\", \"type\": \"scattermapbox\"}, {\"hoverinfo\": \"text\", \"hovertext\": \"Destination 9; Hours: 0.5\", \"lat\": [34.041198], \"lon\": [-118.246792], \"marker\": {\"color\": \"red\", \"size\": 10}, \"mode\": \"markers\", \"name\": \"Destination 9\", \"type\": \"scattermapbox\"}, {\"lat\": [34.038526, 34.0382973, 34.0394724, 34.0408341, 34.0424431, 34.0419269, 34.042064, 34.0419269, 34.0424431, 34.042308], \"line\": {\"color\": \"#636EFA\", \"width\": 4.5}, \"lon\": [-118.254028, -118.2540363, -118.2527045, -118.2511742, -118.249283, -118.2485441, -118.248326, -118.2485441, -118.249283, -118.250414], \"marker\": {\"size\": 10}, \"mode\": \"lines\", \"name\": \"path_0\", \"type\": \"scattermapbox\"}, {\"lat\": [34.034314, 34.0352169, 34.0359117, 34.0366293, 34.037278, 34.0385034, 34.0391437, 34.0394174, 34.0401238, 34.040319, 34.0401238, 34.040506, 34.0408341, 34.0413273, 34.041665], \"line\": {\"color\": \"#EF553B\", \"width\": 4.5}, \"lon\": [-118.252074, -118.2521834, -118.2517027, -118.2510571, -118.2503356, -118.2490889, -118.2493545, -118.2496629, -118.250412, -118.250471, -118.250412, -118.2508182, -118.2511742, -118.2516815, -118.251708], \"marker\": {\"size\": 10}, \"mode\": \"lines\", \"name\": \"path_1\", \"type\": \"scattermapbox\"}, {\"lat\": [34.043959, 34.0442021, 34.0445678, 34.0448965, 34.0434656, 34.0419269, 34.0401238, 34.040768, 34.0401238, 34.0387407, 34.039068], \"line\": {\"color\": \"#00CC96\", \"width\": 4.5}, \"lon\": [-118.243785, -118.2439151, -118.2449808, -118.2458399, -118.2471389, -118.2485441, -118.250412, -118.249821, -118.250412, -118.25192, -118.251934], \"marker\": {\"size\": 10}, \"mode\": \"lines\", \"name\": \"path_2\", \"type\": \"scattermapbox\"}, {\"lat\": [34.038329, 34.037839, 34.0384076, 34.0389202, 34.0395353, 34.0407102, 34.040333, 34.0407102, 34.040547], \"line\": {\"color\": \"#AB63FA\", \"width\": 4.5}, \"lon\": [-118.245367, -118.2456195, -118.2464231, -118.2471761, -118.2479788, -118.2467821, -118.247303, -118.2467821, -118.246945], \"marker\": {\"size\": 10}, \"mode\": \"lines\", \"name\": \"path_3\", \"type\": \"scattermapbox\"}, {\"lat\": [34.040802, 34.0408648, 34.0423135, 34.0416166, 34.0409224, 34.0404673, 34.0416058, 34.0419938, 34.0427546, 34.0439323, 34.043267, 34.0424431, 34.0419269, 34.041687, 34.0419269, 34.041726], \"line\": {\"color\": \"#FFA15A\", \"width\": 4.5}, \"lon\": [-118.260495, -118.2608845, -118.2595335, -118.2584557, -118.257417, -118.2567089, -118.2550012, -118.2543843, -118.2531745, -118.2513808, -118.2504401, -118.249283, -118.2485441, -118.248676, -118.2485441, -118.248157], \"marker\": {\"size\": 10}, \"mode\": \"lines\", \"name\": \"path_4\", \"type\": \"scattermapbox\"}, {\"lat\": [34.038147, 34.0384308, 34.0395951, 34.0407353, 34.0404699, 34.0403223, 34.0413273, 34.0408341, 34.040506, 34.0401238, 34.040588, 34.0401238, 34.040506, 34.0408341, 34.040755], \"line\": {\"color\": \"#19D3F3\", \"width\": 4.5}, \"lon\": [-118.257064, -118.257128, -118.2558518, -118.2541052, -118.2538167, -118.2529893, -118.2516815, -118.2511742, -118.2508182, -118.250412, -118.250013, -118.250412, -118.2508182, -118.2511742, -118.251687], \"marker\": {\"size\": 10}, \"mode\": \"lines\", \"name\": \"path_5\", \"type\": \"scattermapbox\"}, {\"lat\": [34.034895, 34.0352169, 34.0359117, 34.0366293, 34.037278, 34.0385034, 34.0388101, 34.0395353, 34.0407102, 34.040101, 34.0407102, 34.041176, 34.042034], \"line\": {\"color\": \"#FF6692\", \"width\": 4.5}, \"lon\": [-118.253033, -118.2521834, -118.2517027, -118.2510571, -118.2503356, -118.2490889, -118.2487295, -118.2479788, -118.2467821, -118.247258, -118.2467821, -118.2474616, -118.247397], \"marker\": {\"size\": 10}, \"mode\": \"lines\", \"name\": \"path_6\", \"type\": \"scattermapbox\"}, {\"lat\": [34.042111, 34.0422495, 34.0407102, 34.041176, 34.0419269, 34.0424431, 34.042004, 34.0424431, 34.043267, 34.0419066, 34.041959], \"line\": {\"color\": \"#B6E880\", \"width\": 4.5}, \"lon\": [-118.244735, -118.2452515, -118.2467821, -118.2474616, -118.2485441, -118.249283, -118.24968, -118.249283, -118.2504401, -118.2523204, -118.252433], \"marker\": {\"size\": 10}, \"mode\": \"lines\", \"name\": \"path_7\", \"type\": \"scattermapbox\"}, {\"lat\": [34.046061, 34.0458226, 34.0449539, 34.0442021, 34.0445678, 34.0448965, 34.0434656, 34.0419269, 34.0424431, 34.0408341, 34.0394724, 34.039364, 34.0394724, 34.039944], \"line\": {\"color\": \"#FF97FF\", \"width\": 4.5}, \"lon\": [-118.242705, -118.243018, -118.2434595, -118.2439151, -118.2449808, -118.2458399, -118.2471389, -118.2485441, -118.249283, -118.2511742, -118.2527045, -118.252951, -118.2527045, -118.252114], \"marker\": {\"size\": 10}, \"mode\": \"lines\", \"name\": \"path_8\", \"type\": \"scattermapbox\"}, {\"lat\": [34.03682, 34.036332, 34.0377329, 34.0378133, 34.0385034, 34.0388101, 34.0395353, 34.0407102, 34.041017, 34.0407102, 34.041198], \"line\": {\"color\": \"#FECB52\", \"width\": 4.5}, \"lon\": [-118.248662, -118.2492716, -118.2482505, -118.2483492, -118.2490889, -118.2487295, -118.2479788, -118.2467821, -118.246584, -118.2467821, -118.246792], \"marker\": {\"size\": 10}, \"mode\": \"lines\", \"name\": \"path_9\", \"type\": \"scattermapbox\"}],\n",
              "                        {\"mapbox\": {\"center\": {\"lat\": 34.0393964, \"lon\": -118.2501948}, \"style\": \"carto-positron\", \"zoom\": 14.5}, \"margin\": {\"b\": 0, \"l\": 0, \"r\": 0, \"t\": 0}, \"template\": {\"data\": {\"bar\": [{\"error_x\": {\"color\": \"#2a3f5f\"}, \"error_y\": {\"color\": \"#2a3f5f\"}, \"marker\": {\"line\": {\"color\": \"#E5ECF6\", \"width\": 0.5}}, \"type\": \"bar\"}], \"barpolar\": [{\"marker\": {\"line\": {\"color\": \"#E5ECF6\", \"width\": 0.5}}, \"type\": \"barpolar\"}], \"carpet\": [{\"aaxis\": {\"endlinecolor\": \"#2a3f5f\", \"gridcolor\": \"white\", \"linecolor\": \"white\", \"minorgridcolor\": \"white\", \"startlinecolor\": \"#2a3f5f\"}, \"baxis\": {\"endlinecolor\": \"#2a3f5f\", \"gridcolor\": \"white\", \"linecolor\": \"white\", \"minorgridcolor\": \"white\", \"startlinecolor\": \"#2a3f5f\"}, \"type\": \"carpet\"}], \"choropleth\": [{\"colorbar\": {\"outlinewidth\": 0, \"ticks\": \"\"}, \"type\": \"choropleth\"}], \"contour\": [{\"colorbar\": {\"outlinewidth\": 0, \"ticks\": \"\"}, \"colorscale\": [[0.0, \"#0d0887\"], [0.1111111111111111, \"#46039f\"], [0.2222222222222222, \"#7201a8\"], [0.3333333333333333, \"#9c179e\"], [0.4444444444444444, \"#bd3786\"], [0.5555555555555556, \"#d8576b\"], [0.6666666666666666, \"#ed7953\"], [0.7777777777777778, \"#fb9f3a\"], [0.8888888888888888, \"#fdca26\"], [1.0, \"#f0f921\"]], \"type\": \"contour\"}], \"contourcarpet\": [{\"colorbar\": {\"outlinewidth\": 0, \"ticks\": \"\"}, \"type\": \"contourcarpet\"}], \"heatmap\": [{\"colorbar\": {\"outlinewidth\": 0, \"ticks\": \"\"}, \"colorscale\": [[0.0, \"#0d0887\"], [0.1111111111111111, \"#46039f\"], [0.2222222222222222, \"#7201a8\"], [0.3333333333333333, \"#9c179e\"], [0.4444444444444444, \"#bd3786\"], [0.5555555555555556, \"#d8576b\"], [0.6666666666666666, \"#ed7953\"], [0.7777777777777778, \"#fb9f3a\"], [0.8888888888888888, \"#fdca26\"], [1.0, \"#f0f921\"]], \"type\": \"heatmap\"}], \"heatmapgl\": [{\"colorbar\": {\"outlinewidth\": 0, \"ticks\": \"\"}, \"colorscale\": [[0.0, \"#0d0887\"], [0.1111111111111111, \"#46039f\"], [0.2222222222222222, \"#7201a8\"], [0.3333333333333333, \"#9c179e\"], [0.4444444444444444, \"#bd3786\"], [0.5555555555555556, \"#d8576b\"], [0.6666666666666666, \"#ed7953\"], [0.7777777777777778, \"#fb9f3a\"], [0.8888888888888888, \"#fdca26\"], [1.0, \"#f0f921\"]], \"type\": \"heatmapgl\"}], \"histogram\": [{\"marker\": {\"colorbar\": {\"outlinewidth\": 0, \"ticks\": \"\"}}, \"type\": \"histogram\"}], \"histogram2d\": [{\"colorbar\": {\"outlinewidth\": 0, \"ticks\": \"\"}, \"colorscale\": [[0.0, \"#0d0887\"], [0.1111111111111111, \"#46039f\"], [0.2222222222222222, \"#7201a8\"], [0.3333333333333333, \"#9c179e\"], [0.4444444444444444, \"#bd3786\"], [0.5555555555555556, \"#d8576b\"], [0.6666666666666666, \"#ed7953\"], [0.7777777777777778, \"#fb9f3a\"], [0.8888888888888888, \"#fdca26\"], [1.0, \"#f0f921\"]], \"type\": \"histogram2d\"}], \"histogram2dcontour\": [{\"colorbar\": {\"outlinewidth\": 0, \"ticks\": \"\"}, \"colorscale\": [[0.0, \"#0d0887\"], [0.1111111111111111, \"#46039f\"], [0.2222222222222222, \"#7201a8\"], [0.3333333333333333, \"#9c179e\"], [0.4444444444444444, \"#bd3786\"], [0.5555555555555556, \"#d8576b\"], [0.6666666666666666, \"#ed7953\"], [0.7777777777777778, \"#fb9f3a\"], [0.8888888888888888, \"#fdca26\"], [1.0, \"#f0f921\"]], \"type\": \"histogram2dcontour\"}], \"mesh3d\": [{\"colorbar\": {\"outlinewidth\": 0, \"ticks\": \"\"}, \"type\": \"mesh3d\"}], \"parcoords\": [{\"line\": {\"colorbar\": {\"outlinewidth\": 0, \"ticks\": \"\"}}, \"type\": \"parcoords\"}], \"pie\": [{\"automargin\": true, \"type\": \"pie\"}], \"scatter\": [{\"marker\": {\"colorbar\": {\"outlinewidth\": 0, \"ticks\": \"\"}}, \"type\": \"scatter\"}], \"scatter3d\": [{\"line\": {\"colorbar\": {\"outlinewidth\": 0, \"ticks\": \"\"}}, \"marker\": {\"colorbar\": {\"outlinewidth\": 0, \"ticks\": \"\"}}, \"type\": \"scatter3d\"}], \"scattercarpet\": [{\"marker\": {\"colorbar\": {\"outlinewidth\": 0, \"ticks\": \"\"}}, \"type\": \"scattercarpet\"}], \"scattergeo\": [{\"marker\": {\"colorbar\": {\"outlinewidth\": 0, \"ticks\": \"\"}}, \"type\": \"scattergeo\"}], \"scattergl\": [{\"marker\": {\"colorbar\": {\"outlinewidth\": 0, \"ticks\": \"\"}}, \"type\": \"scattergl\"}], \"scattermapbox\": [{\"marker\": {\"colorbar\": {\"outlinewidth\": 0, \"ticks\": \"\"}}, \"type\": \"scattermapbox\"}], \"scatterpolar\": [{\"marker\": {\"colorbar\": {\"outlinewidth\": 0, \"ticks\": \"\"}}, \"type\": \"scatterpolar\"}], \"scatterpolargl\": [{\"marker\": {\"colorbar\": {\"outlinewidth\": 0, \"ticks\": \"\"}}, \"type\": \"scatterpolargl\"}], \"scatterternary\": [{\"marker\": {\"colorbar\": {\"outlinewidth\": 0, \"ticks\": \"\"}}, \"type\": \"scatterternary\"}], \"surface\": [{\"colorbar\": {\"outlinewidth\": 0, \"ticks\": \"\"}, \"colorscale\": [[0.0, \"#0d0887\"], [0.1111111111111111, \"#46039f\"], [0.2222222222222222, \"#7201a8\"], [0.3333333333333333, \"#9c179e\"], [0.4444444444444444, \"#bd3786\"], [0.5555555555555556, \"#d8576b\"], [0.6666666666666666, \"#ed7953\"], [0.7777777777777778, \"#fb9f3a\"], [0.8888888888888888, \"#fdca26\"], [1.0, \"#f0f921\"]], \"type\": \"surface\"}], \"table\": [{\"cells\": {\"fill\": {\"color\": \"#EBF0F8\"}, \"line\": {\"color\": \"white\"}}, \"header\": {\"fill\": {\"color\": \"#C8D4E3\"}, \"line\": {\"color\": \"white\"}}, \"type\": \"table\"}]}, \"layout\": {\"annotationdefaults\": {\"arrowcolor\": \"#2a3f5f\", \"arrowhead\": 0, \"arrowwidth\": 1}, \"coloraxis\": {\"colorbar\": {\"outlinewidth\": 0, \"ticks\": \"\"}}, \"colorscale\": {\"diverging\": [[0, \"#8e0152\"], [0.1, \"#c51b7d\"], [0.2, \"#de77ae\"], [0.3, \"#f1b6da\"], [0.4, \"#fde0ef\"], [0.5, \"#f7f7f7\"], [0.6, \"#e6f5d0\"], [0.7, \"#b8e186\"], [0.8, \"#7fbc41\"], [0.9, \"#4d9221\"], [1, \"#276419\"]], \"sequential\": [[0.0, \"#0d0887\"], [0.1111111111111111, \"#46039f\"], [0.2222222222222222, \"#7201a8\"], [0.3333333333333333, \"#9c179e\"], [0.4444444444444444, \"#bd3786\"], [0.5555555555555556, \"#d8576b\"], [0.6666666666666666, \"#ed7953\"], [0.7777777777777778, \"#fb9f3a\"], [0.8888888888888888, \"#fdca26\"], [1.0, \"#f0f921\"]], \"sequentialminus\": [[0.0, \"#0d0887\"], [0.1111111111111111, \"#46039f\"], [0.2222222222222222, \"#7201a8\"], [0.3333333333333333, \"#9c179e\"], [0.4444444444444444, \"#bd3786\"], [0.5555555555555556, \"#d8576b\"], [0.6666666666666666, \"#ed7953\"], [0.7777777777777778, \"#fb9f3a\"], [0.8888888888888888, \"#fdca26\"], [1.0, \"#f0f921\"]]}, \"colorway\": [\"#636efa\", \"#EF553B\", \"#00cc96\", \"#ab63fa\", \"#FFA15A\", \"#19d3f3\", \"#FF6692\", \"#B6E880\", \"#FF97FF\", \"#FECB52\"], \"font\": {\"color\": \"#2a3f5f\"}, \"geo\": {\"bgcolor\": \"white\", \"lakecolor\": \"white\", \"landcolor\": \"#E5ECF6\", \"showlakes\": true, \"showland\": true, \"subunitcolor\": \"white\"}, \"hoverlabel\": {\"align\": \"left\"}, \"hovermode\": \"closest\", \"mapbox\": {\"style\": \"light\"}, \"paper_bgcolor\": \"white\", \"plot_bgcolor\": \"#E5ECF6\", \"polar\": {\"angularaxis\": {\"gridcolor\": \"white\", \"linecolor\": \"white\", \"ticks\": \"\"}, \"bgcolor\": \"#E5ECF6\", \"radialaxis\": {\"gridcolor\": \"white\", \"linecolor\": \"white\", \"ticks\": \"\"}}, \"scene\": {\"xaxis\": {\"backgroundcolor\": \"#E5ECF6\", \"gridcolor\": \"white\", \"gridwidth\": 2, \"linecolor\": \"white\", \"showbackground\": true, \"ticks\": \"\", \"zerolinecolor\": \"white\"}, \"yaxis\": {\"backgroundcolor\": \"#E5ECF6\", \"gridcolor\": \"white\", \"gridwidth\": 2, \"linecolor\": \"white\", \"showbackground\": true, \"ticks\": \"\", \"zerolinecolor\": \"white\"}, \"zaxis\": {\"backgroundcolor\": \"#E5ECF6\", \"gridcolor\": \"white\", \"gridwidth\": 2, \"linecolor\": \"white\", \"showbackground\": true, \"ticks\": \"\", \"zerolinecolor\": \"white\"}}, \"shapedefaults\": {\"line\": {\"color\": \"#2a3f5f\"}}, \"ternary\": {\"aaxis\": {\"gridcolor\": \"white\", \"linecolor\": \"white\", \"ticks\": \"\"}, \"baxis\": {\"gridcolor\": \"white\", \"linecolor\": \"white\", \"ticks\": \"\"}, \"bgcolor\": \"#E5ECF6\", \"caxis\": {\"gridcolor\": \"white\", \"linecolor\": \"white\", \"ticks\": \"\"}}, \"title\": {\"x\": 0.05}, \"xaxis\": {\"automargin\": true, \"gridcolor\": \"white\", \"linecolor\": \"white\", \"ticks\": \"\", \"title\": {\"standoff\": 15}, \"zerolinecolor\": \"white\", \"zerolinewidth\": 2}, \"yaxis\": {\"automargin\": true, \"gridcolor\": \"white\", \"linecolor\": \"white\", \"ticks\": \"\", \"title\": {\"standoff\": 15}, \"zerolinecolor\": \"white\", \"zerolinewidth\": 2}}}},\n",
              "                        {\"responsive\": true}\n",
              "                    ).then(function(){\n",
              "                            \n",
              "var gd = document.getElementById('773ce7ea-f27e-4080-9bab-06b44bb19dcc');\n",
              "var x = new MutationObserver(function (mutations, observer) {{\n",
              "        var display = window.getComputedStyle(gd).display;\n",
              "        if (!display || display === 'none') {{\n",
              "            console.log([gd, 'removed!']);\n",
              "            Plotly.purge(gd);\n",
              "            observer.disconnect();\n",
              "        }}\n",
              "}});\n",
              "\n",
              "// Listen for the removal of the full notebook cells\n",
              "var notebookContainer = gd.closest('#notebook-container');\n",
              "if (notebookContainer) {{\n",
              "    x.observe(notebookContainer, {childList: true});\n",
              "}}\n",
              "\n",
              "// Listen for the clearing of the current output cell\n",
              "var outputEl = gd.closest('.output');\n",
              "if (outputEl) {{\n",
              "    x.observe(outputEl, {childList: true});\n",
              "}}\n",
              "\n",
              "                        })\n",
              "                };\n",
              "                \n",
              "            </script>\n",
              "        </div>\n",
              "</body>\n",
              "</html>"
            ]
          },
          "metadata": {
            "tags": []
          }
        }
      ]
    },
    {
      "cell_type": "markdown",
      "metadata": {
        "id": "6jGsWGUUCPsR"
      },
      "source": [
        "# 4. Summary"
      ]
    },
    {
      "cell_type": "code",
      "metadata": {
        "colab": {
          "base_uri": "https://localhost:8080/"
        },
        "id": "nhyxvw9kCRYo",
        "outputId": "50f11d35-54ad-4189-b344-9e79f0cd781e"
      },
      "source": [
        "from tabulate import tabulate\r\n",
        "\r\n",
        "table = [[\"Greedy\", greedy_cost, greedy_runtime],\r\n",
        "         [\"Hungarian\", hungarian_cost, hungarian_runtime],\r\n",
        "         [\"DE\", DE_cost, DE_runtime],\r\n",
        "         [\"SI\", SI_cost, SI_runtime],\r\n",
        "         [\"GA\", GA_cost, GA_runtime]]\r\n",
        "\r\n",
        "headers = [\"Method\",\"Cost\", \"Runtime\"]\r\n",
        "print(tabulate(table, headers = headers))\r\n",
        "\r\n",
        "\r\n",
        "print('Greedy assignment: ', greedy_col_ind)\r\n",
        "print(\"Hungarian assignment: \", hun_col_ind)\r\n",
        "print(\"DE assignment: \", DE_col_ind)\r\n",
        "print(\"SI assignment: \", SI_pos)\r\n",
        "print(\"GA assignment: \", GA_col_ind)"
      ],
      "execution_count": null,
      "outputs": [
        {
          "output_type": "stream",
          "text": [
            "Method        Cost       Runtime\n",
            "---------  -------  ------------\n",
            "Greedy     3490.92   0.000319719\n",
            "Hungarian  3479.15   0.00041604\n",
            "DE         8890.26  13.7536\n",
            "SI         4219.9   40.3403\n",
            "GA         3619.14  59.606\n",
            "Greedy assignment:  [84, 117, 24, 59, 72, 73, 97, 128, 48, 95]\n",
            "Hungarian assignment:  [ 72 117  24  59  50  73  97  84  48  95]\n",
            "DE assignment:  [28, 41, 72, 24, 115, 117, 105, 88, 60, 75]\n",
            "SI assignment:  [ 50.  94. 103.  95.  88.  24. 106.  72.  48.  59.]\n",
            "GA assignment:  [72, 117, 51, 43, 50, 24, 97, 84, 48, 75]\n"
          ],
          "name": "stdout"
        }
      ]
    }
  ]
}